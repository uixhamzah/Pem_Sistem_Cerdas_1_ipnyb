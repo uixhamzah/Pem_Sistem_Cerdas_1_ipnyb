{
  "nbformat": 4,
  "nbformat_minor": 0,
  "metadata": {
    "colab": {
      "name": "Pem Sistem Cerdas 1.ipnyb",
      "provenance": [],
      "collapsed_sections": [],
      "mount_file_id": "1dj_9SXGej7o4Kr-JhveChG29XvYOcOIq",
      "authorship_tag": "ABX9TyPiLq3vsFgGgoNpP3LRCYwU",
      "include_colab_link": true
    },
    "kernelspec": {
      "display_name": "Python 3",
      "name": "python3"
    },
    "language_info": {
      "name": "python"
    }
  },
  "cells": [
    {
      "cell_type": "markdown",
      "metadata": {
        "id": "view-in-github",
        "colab_type": "text"
      },
      "source": [
        "<a href=\"https://colab.research.google.com/github/uixhamzah/Pem_Sistem_Cerdas_1_ipnyb/blob/main/Pem_Sistem_Cerdas_1_ipnyb.ipynb\" target=\"_parent\"><img src=\"https://colab.research.google.com/assets/colab-badge.svg\" alt=\"Open In Colab\"/></a>"
      ]
    },
    {
      "cell_type": "markdown",
      "metadata": {
        "id": "ijF-1WOVgCZm"
      },
      "source": [
        "# **PROGRAM 1**"
      ]
    },
    {
      "cell_type": "markdown",
      "metadata": {
        "id": "ZL4i8UTwOGUQ"
      },
      "source": [
        "# <a href=\"https://drive.google.com/drive/folders/1ZgQCugEDWHAgctep6O0zIrlhWEmfNbSo?usp=sharing\">Bahan Praktikum Drive</a>."
      ]
    },
    {
      "cell_type": "markdown",
      "metadata": {
        "id": "_2wIi-RVNdNG"
      },
      "source": [
        "<table class=\"tfo-notebook-buttons\" align=\"left\">\n",
        "  <td>\n",
        "    <a target=\"_blank\" href=\"https://colab.research.google.com/drive/1dj_9SXGej7o4Kr-JhveChG29XvYOcOIq?usp=sharing\"><img src=\"https://www.tensorflow.org/images/colab_logo_32px.png\" />Run in Google Colab</a>\n",
        "  </td>\n",
        "  <td>\n",
        "    <a target=\"_blank\" href=\"https://github.com/uixhamzah/Pem_Sistem_Cerdas_1_ipnyb/blob/main/Pem_Sistem_Cerdas_1_ipnyb.ipynb\"><img src=\"https://www.tensorflow.org/images/GitHub-Mark-32px.png\" />View source on GitHub</a>>\n",
        "</table>\n",
        "\n",
        "</br></br>\n",
        "\n",
        "```\n",
        "=========> Welcome to my practice code 🖐 <=========\n",
        "1. Name         : Hamzah\n",
        "2. NIM & Class  : 18090073 | 5B (Lima B)\n",
        "3. Study        : Pemrograman Sistem Cerdas 1\n",
        "=========> Future Warriors <=========\n",
        "```"
      ]
    },
    {
      "cell_type": "markdown",
      "metadata": {
        "id": "w_fiCyQ4WZwZ"
      },
      "source": [
        "# Praktikum 1"
      ]
    },
    {
      "cell_type": "markdown",
      "metadata": {
        "id": "UJSc69RcYR9w"
      },
      "source": [
        "## 1.Program Pyhton Sederhana\n",
        "\n",
        "1.   Print\n",
        "2.   Penjumlahan 2 Bilangan\n",
        "3.   Print & Ambil Data\n",
        "\n"
      ]
    },
    {
      "cell_type": "code",
      "metadata": {
        "colab": {
          "base_uri": "https://localhost:8080/"
        },
        "id": "Ayj5vp4qYQfa",
        "outputId": "e5d631a2-2e9f-4ee2-93fe-ab3eb44ff6a4"
      },
      "source": [
        "# Print\n",
        "print (\"Introduce me Hamzah I work as a UX/UI Designer Specialist\")\n",
        "print (\"I have a lot to learn and I believe I can balance my work and college\")"
      ],
      "execution_count": null,
      "outputs": [
        {
          "name": "stdout",
          "output_type": "stream",
          "text": [
            "Introduce me Hamzah I work as a UX/UI Designer Specialist\n",
            "I have a lot to learn and I believe I can balance my work and college\n"
          ]
        }
      ]
    },
    {
      "cell_type": "code",
      "metadata": {
        "colab": {
          "base_uri": "https://localhost:8080/"
        },
        "id": "4hgHLySTqTEj",
        "outputId": "c0ad157a-6c26-4093-bdf9-2569e187c40a"
      },
      "source": [
        "# Menjumlahkan 2 Bilangan\n",
        "a =  10\n",
        "b =  15\n",
        "p =  a+b\n",
        "print (p)"
      ],
      "execution_count": null,
      "outputs": [
        {
          "name": "stdout",
          "output_type": "stream",
          "text": [
            "25\n"
          ]
        }
      ]
    },
    {
      "cell_type": "code",
      "metadata": {
        "colab": {
          "base_uri": "https://localhost:8080/"
        },
        "id": "PTxlmN1CXun9",
        "outputId": "71957956-13cb-4482-d6ca-5d2662e67792"
      },
      "source": [
        "# Print & Ambil Data\n",
        "IPK =  3.98\n",
        "print (\" I'm Hamzah, With GPA\", IPK)"
      ],
      "execution_count": null,
      "outputs": [
        {
          "name": "stdout",
          "output_type": "stream",
          "text": [
            " I'm Hamzah, With GPA 3.98\n"
          ]
        }
      ]
    },
    {
      "cell_type": "markdown",
      "metadata": {
        "id": "AsqIQztJlhV0"
      },
      "source": [
        "## 2.Variabel\n",
        "\n",
        "1.   Make Variabel\n",
        "2.   Delete Variabel\n",
        "\n"
      ]
    },
    {
      "cell_type": "code",
      "metadata": {
        "colab": {
          "base_uri": "https://localhost:8080/"
        },
        "id": "108CWsa2WS4H",
        "outputId": "bad04fb9-331a-4b50-838f-6389c9580252"
      },
      "source": [
        "# Make Variable\n",
        "var = 30\n",
        "phi = 3.14\n",
        "var2 = 4.00\n",
        "name = \"Hamzah Class 5B\"\n",
        "my = \"I'm just learning Google Colab and just found out how to use it\"\n",
        "\n",
        "print (var)\n",
        "print (phi)\n",
        "print (var2)\n",
        "print (name)\n",
        "print (my)\n",
        "print (name, \"getting IPK\", var2)"
      ],
      "execution_count": null,
      "outputs": [
        {
          "name": "stdout",
          "output_type": "stream",
          "text": [
            "30\n",
            "3.14\n",
            "4.0\n",
            "Hamzah Class 5B\n",
            "I'm just learning Google Colab and just found out how to use it\n",
            "Hamzah Class 5B getting IPK 4.0\n"
          ]
        }
      ]
    },
    {
      "cell_type": "code",
      "metadata": {
        "colab": {
          "base_uri": "https://localhost:8080/",
          "height": 298
        },
        "id": "kU_ZSiaerz2w",
        "outputId": "6749f070-cb8b-4c33-8458-5d6f20261408"
      },
      "source": [
        "# Delete variable\n",
        "var = 30 \n",
        "phi = 3.14\n",
        "var2 =  50\n",
        "character = \"I have variabel\"\n",
        "\n",
        "print (var)\n",
        "print (phi)\n",
        "print (var2)\n",
        "print (character)\n",
        "print (character, \"is\", var2)\n",
        "\n",
        "del(var)\n",
        "print(var)"
      ],
      "execution_count": null,
      "outputs": [
        {
          "name": "stdout",
          "output_type": "stream",
          "text": [
            "30\n",
            "3.14\n",
            "50\n",
            "I have variabel\n",
            "I have variabel is 50\n"
          ]
        },
        {
          "ename": "NameError",
          "evalue": "ignored",
          "output_type": "error",
          "traceback": [
            "\u001b[0;31m---------------------------------------------------------------------------\u001b[0m",
            "\u001b[0;31mNameError\u001b[0m                                 Traceback (most recent call last)",
            "\u001b[0;32m<ipython-input-9-c29f6c8dbf3a>\u001b[0m in \u001b[0;36m<module>\u001b[0;34m()\u001b[0m\n\u001b[1;32m     12\u001b[0m \u001b[0;34m\u001b[0m\u001b[0m\n\u001b[1;32m     13\u001b[0m \u001b[0;32mdel\u001b[0m\u001b[0;34m(\u001b[0m\u001b[0mvar\u001b[0m\u001b[0;34m)\u001b[0m\u001b[0;34m\u001b[0m\u001b[0;34m\u001b[0m\u001b[0m\n\u001b[0;32m---> 14\u001b[0;31m \u001b[0mprint\u001b[0m\u001b[0;34m(\u001b[0m\u001b[0mvar\u001b[0m\u001b[0;34m)\u001b[0m\u001b[0;34m\u001b[0m\u001b[0;34m\u001b[0m\u001b[0m\n\u001b[0m",
            "\u001b[0;31mNameError\u001b[0m: name 'var' is not defined"
          ]
        }
      ]
    },
    {
      "cell_type": "markdown",
      "metadata": {
        "id": "shBqv8ygZhDy"
      },
      "source": [
        "## 3.Type Data\n",
        "\n",
        "1.   Tipe Data String\n",
        "2.   Tipe Data Number\n",
        "3.   Tipe Data Boolean\n",
        "\n"
      ]
    },
    {
      "cell_type": "code",
      "metadata": {
        "colab": {
          "base_uri": "https://localhost:8080/"
        },
        "id": "Xj96pzndZlVZ",
        "outputId": "a4c6bf79-b64b-4219-a81d-1c9bf1c98c1f"
      },
      "source": [
        "# Type Data String\n",
        "name = \"Hello, I'm Hamzah\"\n",
        "address = \"\"\"\n",
        "Brebes Indonesia\"\"\"\n",
        "collage = 'Polytechnic Harber with Software engineering'\n",
        "\n",
        "print (name)\n",
        "print (address)\n",
        "print (collage)\n"
      ],
      "execution_count": null,
      "outputs": [
        {
          "name": "stdout",
          "output_type": "stream",
          "text": [
            "Hello, I'm Hamzah\n",
            "\n",
            "Brebes Indonesia\n",
            "Polytechnic Harber with Software engineering\n"
          ]
        }
      ]
    },
    {
      "cell_type": "code",
      "metadata": {
        "colab": {
          "base_uri": "https://localhost:8080/"
        },
        "id": "Gfv-sExqa1yO",
        "outputId": "021600b6-bc59-4404-b9fd-4c31866d79fa"
      },
      "source": [
        "# join Type data ( a + b + c)\n",
        "a = \"\"\"\n",
        "Hello\n",
        "\"\"\"\n",
        "b = \"\"\"\n",
        "Folks!!!🖐\n",
        "\"\"\"\n",
        "c = 'I like Code Python because it looks simple'\n",
        "d = a + b + c\n",
        "\n",
        "print (d)"
      ],
      "execution_count": null,
      "outputs": [
        {
          "name": "stdout",
          "output_type": "stream",
          "text": [
            "\n",
            "Hello\n",
            "\n",
            "Folks!!!🖐\n",
            "I like Code Python because it looks simple\n"
          ]
        }
      ]
    },
    {
      "cell_type": "code",
      "metadata": {
        "colab": {
          "base_uri": "https://localhost:8080/"
        },
        "id": "I4F9x4xucmmb",
        "outputId": "c9c850a2-619c-42ce-a847-01c7f24e0362"
      },
      "source": [
        "# Pembagian\n",
        "a = 10\n",
        "b = 4\n",
        "c = a / b\n",
        "print (c)"
      ],
      "execution_count": null,
      "outputs": [
        {
          "name": "stdout",
          "output_type": "stream",
          "text": [
            "2.5\n"
          ]
        }
      ]
    },
    {
      "cell_type": "code",
      "metadata": {
        "id": "yYr1jDrYx_0q"
      },
      "source": [
        "# Make The variable & Comment in code\n",
        "nama_ku = \"hamzah\" #nama variable:nama_ku\n",
        "umur =  20 #nama varibale:umur\n",
        "tinggi =  180 #nama varibale:tinggi"
      ],
      "execution_count": null,
      "outputs": []
    },
    {
      "cell_type": "code",
      "metadata": {
        "id": "nvQS14UaKcpP"
      },
      "source": [
        "#Type data Number\n",
        "harga = 12000 #variabel:harga, tipe integer \n",
        "berat = 23.12 #variabel:berat, tipe float \n",
        "ram = 3e3 #variabel:ram, float 3000.0, huruf e artinya eksponen 10 \n",
        "Complex = .876j #variabel:Complex, tipe complex number"
      ],
      "execution_count": null,
      "outputs": []
    },
    {
      "cell_type": "code",
      "metadata": {
        "colab": {
          "base_uri": "https://localhost:8080/"
        },
        "id": "KRQSOXFfKxQ7",
        "outputId": "6ec1900f-acd3-4f41-d8f9-9e774bf98dc8"
      },
      "source": [
        "# Type Data Boolean\n",
        "satu = True\n",
        "dua =  False\n",
        "print(satu)\n",
        "print(dua)\n",
        "\n",
        "tiga = True #Pengunaan huruf Pertama huruf kapital Harus sama besar dengan type data di atas \"True\" \"t\" ke \"T\""
      ],
      "execution_count": null,
      "outputs": [
        {
          "name": "stdout",
          "output_type": "stream",
          "text": [
            "True\n",
            "False\n"
          ]
        }
      ]
    },
    {
      "cell_type": "markdown",
      "metadata": {
        "id": "OjSQkxSpLhRm"
      },
      "source": [
        "Contoh2:\n",
        "1. Terdapat variable\n",
        "2. Tidak menggunakan variable"
      ]
    },
    {
      "cell_type": "code",
      "metadata": {
        "colab": {
          "base_uri": "https://localhost:8080/"
        },
        "id": "OxvfJdCJLjwy",
        "outputId": "fa5f8c8c-5048-431d-df80-d8eff8215500"
      },
      "source": [
        "#1 There is a varibale\n",
        "foo =  12 < 10\n",
        "print(foo)"
      ],
      "execution_count": null,
      "outputs": [
        {
          "name": "stdout",
          "output_type": "stream",
          "text": [
            "False\n"
          ]
        }
      ]
    },
    {
      "cell_type": "code",
      "metadata": {
        "colab": {
          "base_uri": "https://localhost:8080/"
        },
        "id": "rcBeRcP6LvyQ",
        "outputId": "e97febbc-cd0c-472c-ed6c-6f9a0764550f"
      },
      "source": [
        "#2 Not Using variable\n",
        "print(12 < 10)"
      ],
      "execution_count": null,
      "outputs": [
        {
          "name": "stdout",
          "output_type": "stream",
          "text": [
            "False\n"
          ]
        }
      ]
    },
    {
      "cell_type": "markdown",
      "metadata": {
        "id": "Wd-W-w8FMC6r"
      },
      "source": [
        "## 4.Konversi Tipe Data"
      ]
    },
    {
      "cell_type": "code",
      "metadata": {
        "colab": {
          "base_uri": "https://localhost:8080/"
        },
        "id": "NhDreXCzMKch",
        "outputId": "32a8bdfa-1542-449f-a5af-468609cb348d"
      },
      "source": [
        "a = 10 \n",
        "b = 3 \n",
        "c = a / b \n",
        "\n",
        "print (c)"
      ],
      "execution_count": null,
      "outputs": [
        {
          "name": "stdout",
          "output_type": "stream",
          "text": [
            "3.3333333333333335\n"
          ]
        }
      ]
    },
    {
      "cell_type": "code",
      "metadata": {
        "colab": {
          "base_uri": "https://localhost:8080/"
        },
        "id": "x98WXdcFMd6R",
        "outputId": "cef133ef-ad4b-4d7b-e0b7-63f3c2d953f7"
      },
      "source": [
        "a = 10 \n",
        "b = 3 \n",
        "c = float(a) / float(b)\n",
        "\n",
        "print (c)"
      ],
      "execution_count": null,
      "outputs": [
        {
          "name": "stdout",
          "output_type": "stream",
          "text": [
            "3.3333333333333335\n"
          ]
        }
      ]
    },
    {
      "cell_type": "code",
      "metadata": {
        "colab": {
          "base_uri": "https://localhost:8080/"
        },
        "id": "xhzbMydNMsn5",
        "outputId": "6e7f7013-162f-40f3-ec53-95c6975572a7"
      },
      "source": [
        "a =  10\n",
        "print (bin(a))"
      ],
      "execution_count": null,
      "outputs": [
        {
          "name": "stdout",
          "output_type": "stream",
          "text": [
            "0b1010\n"
          ]
        }
      ]
    },
    {
      "cell_type": "markdown",
      "metadata": {
        "id": "ATUoDN6Ndlyk"
      },
      "source": [
        "## 5.Operator\n",
        "\n",
        "1.   Operator Aritmatika\n",
        "2.   Operator Penugasan\n",
        "2.   Operator Pembanding\n",
        "3.   Operator Logika\n",
        "4.   Operasi Bitwise\n",
        "5.   Operasi Ternary\n",
        "\n",
        "\n"
      ]
    },
    {
      "cell_type": "code",
      "metadata": {
        "colab": {
          "base_uri": "https://localhost:8080/"
        },
        "id": "JYRV5wk_dsnd",
        "outputId": "57daeb66-fc20-4f6d-eea0-1d10e5ff12d8"
      },
      "source": [
        "# Operator Arimatika\n",
        "a = 8\n",
        "b = 9\n",
        "\n",
        "c = a + b\n",
        "print (\"Hasil\", a, \"+\" , b,\"=\", c)\n",
        "\n",
        "d = a - b \n",
        "print (\"Hasil\", a, \"-\", b, \"=\", d)"
      ],
      "execution_count": null,
      "outputs": [
        {
          "name": "stdout",
          "output_type": "stream",
          "text": [
            "Hasil 8 + 9 = 17\n",
            "Hasil 8 - 9 = -1\n"
          ]
        }
      ]
    },
    {
      "cell_type": "code",
      "metadata": {
        "colab": {
          "base_uri": "https://localhost:8080/"
        },
        "id": "1AHrTpNINGg2",
        "outputId": "e3bec37f-d75e-4443-dac3-406531b65d41"
      },
      "source": [
        "# Operator Penugasan\n",
        "a = 10 #Contoh Operator penugasan untuk mengisi nilai \n",
        "print(a)\n",
        "\n",
        "a+=5 #5 ini untuk suatu nilai yang mana \"+=\" adlh operator penugasan\n",
        "\n",
        "print(a)"
      ],
      "execution_count": null,
      "outputs": [
        {
          "name": "stdout",
          "output_type": "stream",
          "text": [
            "10\n",
            "15\n"
          ]
        }
      ]
    },
    {
      "cell_type": "code",
      "metadata": {
        "colab": {
          "base_uri": "https://localhost:8080/"
        },
        "id": "PBaoExq2N_2y",
        "outputId": "2287042f-07ce-4c58-a1d8-58e13fc2e35e"
      },
      "source": [
        "# Operator Pembanding\n",
        "a = 10\n",
        "b = 5\n",
        "\n",
        "#apakah a sama dengan b\n",
        "c = a == b\n",
        "print(\"apakah a sama dengan b\", c)\n",
        "\n",
        "#apakah a lebih besar dari b\n",
        "d = a > b\n",
        "print(\"apakah a lebih besar dari b\",d)"
      ],
      "execution_count": null,
      "outputs": [
        {
          "name": "stdout",
          "output_type": "stream",
          "text": [
            "apakah a sama dengan b False\n",
            "apakah a lebih besar dari b True\n"
          ]
        }
      ]
    },
    {
      "cell_type": "code",
      "metadata": {
        "colab": {
          "base_uri": "https://localhost:8080/"
        },
        "id": "PwJOwsWXOpZB",
        "outputId": "aed455be-fc01-4527-cdf3-699176f5b683"
      },
      "source": [
        "# Operator Logika\n",
        "a = True\n",
        "b = False\n",
        "\n",
        "# Logika and, or, not\n",
        "c = a and b\n",
        "print(c)\n"
      ],
      "execution_count": null,
      "outputs": [
        {
          "name": "stdout",
          "output_type": "stream",
          "text": [
            "False\n"
          ]
        }
      ]
    },
    {
      "cell_type": "code",
      "metadata": {
        "colab": {
          "base_uri": "https://localhost:8080/"
        },
        "id": "wiHV4BalPAI_",
        "outputId": "3be439e0-5dc4-4ab6-80f7-58928e17be4f"
      },
      "source": [
        "# Operasi Bitwise\n",
        "a = 4\n",
        "b = 5\n",
        "c = a & b\n",
        "\n",
        "print(c)\n",
        "\n",
        "#a = 00111100\n",
        "#b = 00001101\n",
        "#a & b = 00001100"
      ],
      "execution_count": null,
      "outputs": [
        {
          "name": "stdout",
          "output_type": "stream",
          "text": [
            "4\n"
          ]
        }
      ]
    },
    {
      "cell_type": "code",
      "metadata": {
        "colab": {
          "base_uri": "https://localhost:8080/"
        },
        "id": "6dE0jBttPde3",
        "outputId": "8e255d46-c2b2-460f-cad4-5311c0d6c083"
      },
      "source": [
        "# Operasi Ternary\n",
        "umur = 20\n",
        "aku = \"bocah\" if umur < 17 else \"dewasa\"\n",
        "\n",
        "print(aku)"
      ],
      "execution_count": null,
      "outputs": [
        {
          "name": "stdout",
          "output_type": "stream",
          "text": [
            "dewasa\n"
          ]
        }
      ]
    },
    {
      "cell_type": "markdown",
      "metadata": {
        "id": "E7dOdOUgeXng"
      },
      "source": [
        "## 6.Input Output"
      ]
    },
    {
      "cell_type": "code",
      "metadata": {
        "colab": {
          "base_uri": "https://localhost:8080/"
        },
        "id": "QfBbvBv7ebIS",
        "outputId": "619fa41e-f4ad-4c07-d603-46998307bc43"
      },
      "source": [
        "# Python sudah menyediakan fungsi input()untuk mengambil inputan dari keyboard & Secara default perintah input()hanya untuk data teks\n",
        "# Mengambil Input\n",
        "name = input (\"What is your name ?\")\n",
        "age = int(input(\"How old are you ?\")) #int(input) => Perhatikan!!! Jika tidak maka akan error zah\n",
        "\n",
        "age10years = age + 10\n",
        "\n",
        "# Menampilkan Output\n",
        "print (\"Hi\", name, \"Your age in 10 years is\", age10years)"
      ],
      "execution_count": null,
      "outputs": [
        {
          "name": "stdout",
          "output_type": "stream",
          "text": [
            "What is your name ?Hamzah\n",
            "How old are you ?17\n",
            "Hi Hamzah Your age in 10 years is 27\n"
          ]
        }
      ]
    },
    {
      "cell_type": "code",
      "metadata": {
        "id": "NYtCMfry228B"
      },
      "source": [
        "# Jika data tidak berupa data selain teks, maka perlu ditambakan tipe datanya : float(input(…))\n",
        "name = input (\"What is your name ?\")\n",
        "age = int(input(\"How old are you ?\"))\n",
        "\n",
        "age10years = age + 10\n",
        "\n",
        "print (\"Hi\", name, \"Your age in 10 years is\", age10years)"
      ],
      "execution_count": null,
      "outputs": []
    },
    {
      "cell_type": "markdown",
      "metadata": {
        "id": "H7R226apoOnM"
      },
      "source": [
        "## 7.Function\n",
        "> Funtion & Parameter\n",
        "\n",
        "*   Parameter merupakan variabel yang menampung nilai untuk diproses di dalam \n",
        "fungsi\n",
        "*   Fungsi dapat digabungkan menggunakan parameter.\n",
        "\n",
        "> Funtion Return\n",
        "\n",
        "*   Parameter merupakan variabel yang menampung nilai untuk diproses di dalam fungsi.\n",
        "*   Fungsi dapat digabungkan menggunakan parameter.\n",
        "*   Pada fungsi luas_segitiga(), kita melakukan print dari hasil pemrosesan secara langsung di dalam fungsinya. \n",
        "*   Sedangkan fungsi luas_persegi(), kita melakukan print pada saat pemanggilannya. \n",
        "*   Jadi, fungsi luas_persegi() akan bernilai sesuai dengan hasil yang dikembalikan. \n",
        "*   Fungsi return dapat dimanfaatkan atau dipanggil pada pemrosesan berikutnya."
      ]
    },
    {
      "cell_type": "code",
      "metadata": {
        "colab": {
          "base_uri": "https://localhost:8080/"
        },
        "id": "F2AMLXmBoVK1",
        "outputId": "edfb9c2a-80d7-46d0-8bc5-4dd508aea1f5"
      },
      "source": [
        "# Fungsi dan Parameter\n",
        "# Membuat Funtion\n",
        "def biodata():\n",
        "  print (\"Hi, My Name is Amir Hamzah & My Call name Hamzah\")\n",
        "\n",
        "biodata()"
      ],
      "execution_count": null,
      "outputs": [
        {
          "name": "stdout",
          "output_type": "stream",
          "text": [
            "Hi, My Name is Amir Hamzah & My Call name Hamzah\n"
          ]
        }
      ]
    },
    {
      "cell_type": "code",
      "metadata": {
        "colab": {
          "base_uri": "https://localhost:8080/"
        },
        "id": "grgDidfB4bnR",
        "outputId": "57193912-1a8a-40e1-80dd-94ffe8ae4231"
      },
      "source": [
        "# Fungsi dan Parameter\n",
        "# Membuta Funtion 2\n",
        "def biodata():\n",
        "  print (\"Hi, My Name is Amir Hamzah & My Call name Hamzah\")\n",
        "\n",
        "## Pemangilan Fungsi\n",
        "biodata()\n",
        "biodata()\n",
        "biodata()"
      ],
      "execution_count": null,
      "outputs": [
        {
          "name": "stdout",
          "output_type": "stream",
          "text": [
            "Hi, My Name is Amir Hamzah & My Call name Hamzah\n",
            "Hi, My Name is Amir Hamzah & My Call name Hamzah\n",
            "Hi, My Name is Amir Hamzah & My Call name Hamzah\n"
          ]
        }
      ]
    },
    {
      "cell_type": "code",
      "metadata": {
        "colab": {
          "base_uri": "https://localhost:8080/"
        },
        "id": "F1l0XTU-5WiR",
        "outputId": "8213cab0-5a7d-45f2-ed63-c71e5c2831bc"
      },
      "source": [
        "# Fungsi 1 Parameter\n",
        "def ucapan(ulangtahun): #parameter : (ulangtahun)\n",
        "  print(ulangtahun)\n",
        "\n",
        "ucapan(\"Happy Britdahy and many happy returns\")"
      ],
      "execution_count": null,
      "outputs": [
        {
          "name": "stdout",
          "output_type": "stream",
          "text": [
            "Happy Britdahy and many happy returns\n"
          ]
        }
      ]
    },
    {
      "cell_type": "code",
      "metadata": {
        "colab": {
          "base_uri": "https://localhost:8080/"
        },
        "id": "SuQnsTI154et",
        "outputId": "481d4aa9-4dfb-4691-8886-9d266eefe471"
      },
      "source": [
        "# Membuat Fungsi dgn 2 Parameter\n",
        "def luas_segitiga(alas, tinggi):\n",
        "  luas = (alas * tinggi) / 2\n",
        "  print(\"luas Segita adalah\", luas);\n",
        "\n",
        "# Pemangilan fungsi\n",
        "luas_segitiga(5, 4)\n"
      ],
      "execution_count": null,
      "outputs": [
        {
          "name": "stdout",
          "output_type": "stream",
          "text": [
            "luas Segita adalah 10.0\n"
          ]
        }
      ]
    },
    {
      "cell_type": "code",
      "metadata": {
        "colab": {
          "base_uri": "https://localhost:8080/"
        },
        "id": "HDpC8JqN7-AA",
        "outputId": "62722556-006d-4522-e831-d9a0f808a1b3"
      },
      "source": [
        "# Fungsi Return\n",
        "def luas_persegi(sisi):\n",
        "  luas = sisi * sisi\n",
        "  return luas\n",
        "\n",
        "print (\"luas Persegi adalah\", luas_persegi(8))"
      ],
      "execution_count": null,
      "outputs": [
        {
          "name": "stdout",
          "output_type": "stream",
          "text": [
            "luas Persegi adalah 64\n"
          ]
        }
      ]
    },
    {
      "cell_type": "code",
      "metadata": {
        "id": "s6IkpCIt8YsE"
      },
      "source": [
        "# Fungsi Return\n",
        "def luas_segitiga(alas, tinggi):\n",
        "  luas = (alas * tinggi) / 2\n",
        "  print (\"Luas Segitiga adalah\", luas);\n",
        "\n",
        "luas_segitiga(4, 6 )"
      ],
      "execution_count": null,
      "outputs": []
    },
    {
      "cell_type": "markdown",
      "metadata": {
        "id": "YDfQXcq9Biee"
      },
      "source": [
        "> Variabel Global dan Variabel Lokal\n",
        "\n",
        "\n",
        "*   Variabel Global → variabel yang bisa diakses dari semua fungsi\n",
        "*   Variabel Lokal → variabel yang hanya bisa diakses di dalam fungsi tempat dia berada\n",
        "*   Prosedur python dalam mencari variabel:\n",
        "1. Pencarian variabel local\n",
        "2. Pencarian variabel global\n",
        "\n",
        "\n",
        "\n",
        "\n"
      ]
    },
    {
      "cell_type": "code",
      "metadata": {
        "colab": {
          "base_uri": "https://localhost:8080/"
        },
        "id": "lVHOrVQ99cXu",
        "outputId": "4151d43d-ac5e-4685-90e9-0ea95ca0e58f"
      },
      "source": [
        "# Buat kode program untuk mengakses drive\n",
        "from google.colab import drive\n",
        "drive.mount('/content/drive')"
      ],
      "execution_count": null,
      "outputs": [
        {
          "output_type": "stream",
          "name": "stdout",
          "text": [
            "Drive already mounted at /content/drive; to attempt to forcibly remount, call drive.mount(\"/content/drive\", force_remount=True).\n"
          ]
        }
      ]
    },
    {
      "cell_type": "code",
      "metadata": {
        "id": "tV6-OiHbGjrQ"
      },
      "source": [
        "from google.colab import drive\n",
        "drive.mount('/content/drive')"
      ],
      "execution_count": null,
      "outputs": []
    },
    {
      "cell_type": "markdown",
      "metadata": {
        "id": "v-8UBM1oBwuA"
      },
      "source": [
        "## 8.Operasi File .txt\n",
        "\n",
        "Pada Python, file hanya dikelompokkan menjadi dua tipe:   \n",
        "\n",
        "1. File Teks: File yang berisi teks. Setiap baris teks memiliki EOL (End of Line). Contoh: TXT, MD, CSV, JSON, dsb.\n",
        "\n",
        "2. File Binary: File yang bukan teks, hanya bisa diproses oleh program tertentu yang memahami strukturnya. Contoh: EXE, JPG, MKV, M4A, 3GP, dsb."
      ]
    },
    {
      "cell_type": "markdown",
      "metadata": {
        "id": "UE4tFP86ewxZ"
      },
      "source": [
        "### Membaca File per Baris"
      ]
    },
    {
      "cell_type": "code",
      "metadata": {
        "colab": {
          "base_uri": "https://localhost:8080/"
        },
        "id": "qRs75oEADPZs",
        "outputId": "b86d184a-1398-4c7e-e623-55acbd1812a5"
      },
      "source": [
        "#Move to working directory\n",
        "#Replace with your own\n",
        "%cd \"/content/drive/MyDrive/5. SEMESTER/Pemrograman Sistem Cerdas 1/Project AI/Semester 5B | Sistem Cerdas1/\"\n",
        "\n",
        "# /content/drive/MyDrive/5. SEMESTER/Pemrograman Sistem Cerdas 1/Project AI/Semester 5B | Sistem Cerdas1/Biodata.txt"
      ],
      "execution_count": null,
      "outputs": [
        {
          "output_type": "stream",
          "name": "stdout",
          "text": [
            "/content/drive/MyDrive/5. SEMESTER/Pemrograman Sistem Cerdas 1/Project AI/Semester 5B | Sistem Cerdas1\n"
          ]
        }
      ]
    },
    {
      "cell_type": "code",
      "metadata": {
        "id": "Yay3FUBSD7Ga",
        "colab": {
          "base_uri": "https://localhost:8080/"
        },
        "outputId": "0a3f01c9-e3ce-4768-9c8c-8a3083bf8394"
      },
      "source": [
        "# Buat kode program membaca file per baris\n",
        "# buka file# buka file\n",
        "file_biodata = open(\"Biodata.txt\", \"r\") # memebuka filde dengan fungsi open()\n",
        "#file_biodata = open(\"alamat drive\")\n",
        "\n",
        "# baca isi file\n",
        "print (file_biodata.readlines()) #membaca isinya per baris dengan method readlines()\n",
        "\n",
        "# tutup file \n",
        "file_biodata.close() #menutuo file agar dihapus memori \n",
        "file_biodata = open(\"Biodata.txt\", \"r\") # memebuka file_biodata = open(\"alamat drive\")"
      ],
      "execution_count": null,
      "outputs": [
        {
          "output_type": "stream",
          "name": "stdout",
          "text": [
            "['Nama = Hamzah\\n', 'Nim  = 18090073\\n', 'jurusan = teknik Informatika\\n', '\\n', '\\n']\n"
          ]
        }
      ]
    },
    {
      "cell_type": "code",
      "metadata": {
        "colab": {
          "base_uri": "https://localhost:8080/"
        },
        "id": "8HKMKrVfj_vJ",
        "outputId": "af9ce0d7-2365-44d9-cadb-b97fcb3ee0ff"
      },
      "source": [
        "# Buat kode program agar ada enter setiap End of Line\n",
        "# buka file# buka file\n",
        "file_biodata = open(\"Biodata.txt\", \"r\") # memebuka filde dengan fungsi open()\n",
        "\n",
        "# baca isi file\n",
        "biodata = file_biodata.readlines() #membaca isinya per baris dengan method readlines()\n",
        "\n",
        "# Cetak baris Pertama\n",
        "print (biodata[0])  \n",
        "# Cetak baris kedua\n",
        "print (biodata[1])\n",
        "\n",
        "# tutup file \n",
        "file_biodata.close() #menutuo file agar dihapus memori "
      ],
      "execution_count": null,
      "outputs": [
        {
          "output_type": "stream",
          "name": "stdout",
          "text": [
            "Nama = Hamzah\n",
            "\n",
            "Nim  = 18090073\n",
            "\n"
          ]
        }
      ]
    },
    {
      "cell_type": "code",
      "metadata": {
        "colab": {
          "base_uri": "https://localhost:8080/"
        },
        "id": "Y6BAfYdGlTUC",
        "outputId": "9462db8a-d499-486b-db1f-98ca1d932411"
      },
      "source": [
        "# Jika teks yang dibaca memiliki banyak baris, maka perlu menggunakan perulangan.\n",
        "# buka file\n",
        "file_biodata = open(\"Biodata.txt\", \"r\") # membuka filde dengan fungsi open()\n",
        "\n",
        "# baca isi file\n",
        "biodata = file_biodata.readlines() # membuat variabel yang menampung isi per baris\n",
        "\n",
        "# Cetak isi file dengan perulangan\n",
        "for teks in biodata:\n",
        "    print (teks)\n",
        "\n",
        "# tutup file \n",
        "file_biodata.close() #menutup file agar dihapus memori "
      ],
      "execution_count": null,
      "outputs": [
        {
          "output_type": "stream",
          "name": "stdout",
          "text": [
            "Nama = Hamzah\n",
            "\n",
            "Nim  = 18090073\n",
            "\n",
            "jurusan = teknik Informatika\n",
            "\n",
            "\n",
            "\n",
            "\n",
            "\n"
          ]
        }
      ]
    },
    {
      "cell_type": "code",
      "metadata": {
        "colab": {
          "base_uri": "https://localhost:8080/"
        },
        "id": "TjDo8OSomIKX",
        "outputId": "69ae1846-40bf-433f-d40e-9cc7436009dc"
      },
      "source": [
        "# Membaca semua teks dalam file\n",
        "# buka file\n",
        "file_biodata = open(\"Biodata.txt\", \"r\") # membuka filde dengan fungsi open()\n",
        "\n",
        "# baca isi file\n",
        "biodata = file_biodata.read() # membuat variabel yang menampung isi per baris\n",
        "\n",
        "# Cetak isi file\n",
        "print (biodata)\n",
        "\n",
        "# tutup file \n",
        "file_biodata.close() #menutup file agar dihapus memori "
      ],
      "execution_count": null,
      "outputs": [
        {
          "output_type": "stream",
          "name": "stdout",
          "text": [
            "Nama = Hamzah\n",
            "Nim  = 18090073\n",
            "jurusan = teknik Informatika\n",
            "\n",
            "\n",
            "\n"
          ]
        }
      ]
    },
    {
      "cell_type": "code",
      "metadata": {
        "colab": {
          "base_uri": "https://localhost:8080/"
        },
        "id": "nHel50o7mkMN",
        "outputId": "230df3ec-de9a-481e-bd47-6685baf5e2ad"
      },
      "source": [
        "# Prosedur Eksekusi readlines() dan read()\n",
        "# • Method read() membaca seluruh teks dan akan mengembalikan nilai string. Sedangkan readlines() membaca isi file per baris dan akan mengembalikan nilai berupa list.\n",
        "# • Perlu diketahui, method read() dan readlines() hanya sekali pakai. Artinya, hanya diekekusi sekali saja.\n",
        "# • Eksekusi pertama, dia akan mengembalikan nilai berdasarkan isi filenya.\n",
        "# • Eksekusi kedua, dia akan mengembalikan nilai kosong.\n",
        "\n",
        "file_biodata = open(\"Biodata.txt\", \"r\")\n",
        "print (file_biodata.read())\n",
        "\n",
        "print(file_biodata.read())\n",
        "\n",
        "print(file_biodata.readlines())\n"
      ],
      "execution_count": null,
      "outputs": [
        {
          "output_type": "stream",
          "name": "stdout",
          "text": [
            "Nama = Hamzah\n",
            "Nim  = 18090073\n",
            "jurusan = teknik Informatika\n",
            "\n",
            "\n",
            "\n",
            "\n",
            "[]\n"
          ]
        }
      ]
    },
    {
      "cell_type": "code",
      "metadata": {
        "colab": {
          "base_uri": "https://localhost:8080/"
        },
        "id": "bi8X7RYpnJ4O",
        "outputId": "8263918e-25f5-4e71-ce8a-9a76d7b8bd30"
      },
      "source": [
        "# Karena itu, kita harus menyimpan hasilnya ke dalam variabel seperti biodata.\n",
        "# buka file\n",
        "file_biodata = open(\"Biodata.txt\", \"r\") # membuka filde dengan fungsi open()\n",
        "\n",
        "# baca isi file\n",
        "biodata = file_biodata.read() # membuat variabel yang menampung isi per baris\n",
        "\n",
        "# Cetak isi file\n",
        "print (biodata)\n",
        "print(\"\")\n",
        "print (biodata)\n",
        "\n",
        "# tutup file\n",
        "file_biodata.close() "
      ],
      "execution_count": null,
      "outputs": [
        {
          "output_type": "stream",
          "name": "stdout",
          "text": [
            "Nama = Hamzah\n",
            "Nim  = 18090073\n",
            "jurusan = teknik Informatika\n",
            "\n",
            "\n",
            "\n",
            "\n",
            "Nama = Hamzah\n",
            "Nim  = 18090073\n",
            "jurusan = teknik Informatika\n",
            "\n",
            "\n",
            "\n"
          ]
        }
      ]
    },
    {
      "cell_type": "markdown",
      "metadata": {
        "id": "TVlqF55rn6Kp"
      },
      "source": [
        "### Cara Menulis File di Python"
      ]
    },
    {
      "cell_type": "code",
      "metadata": {
        "id": "Yjs97AcVphCN"
      },
      "source": [
        "#Move to working directory\n",
        "#Replace with your own\n",
        "%cd \"/content/drive/MyDrive/5. SEMESTER/Pemrograman Sistem Cerdas 1/Project AI/Semester 5B | Sistem Cerdas1/\""
      ],
      "execution_count": null,
      "outputs": []
    },
    {
      "cell_type": "code",
      "metadata": {
        "colab": {
          "base_uri": "https://localhost:8080/"
        },
        "id": "SOfoRfExn8EW",
        "outputId": "632c9efa-6893-4b72-f7ca-4ec44bc32669"
      },
      "source": [
        "# Menulis File dengan Model “W”\n",
        "print(\"Selamat datang di progran data Customer\")\n",
        "print(\"=======================================\")\n",
        "\n",
        "# ambil input dari user\n",
        "nama =  input(\"Nama: \")\n",
        "umur =  int(input(\"Umur: \"))\n",
        "alamat = input(\"Alamat: \")\n",
        "\n",
        "# format teks\n",
        "teks = \"Nama: {}\\nUmur: {}\\nAlamat: {}\\n\". format(nama, umur, alamat)\n",
        "\n",
        "# buka file untuk ditulis\n",
        "file_bio = open(\"Customer.txt\", \"w\")\n",
        "# tulis teks ke file\n",
        "file_bio.write(teks)\n",
        "\n",
        "# tututp file\n",
        "file_bio.close()"
      ],
      "execution_count": null,
      "outputs": [
        {
          "name": "stdout",
          "output_type": "stream",
          "text": [
            "Selamat datang di progran data Customer\n",
            "=======================================\n",
            "Nama: Hamzah\n",
            "Umur: 20\n",
            "Alamat: Brebes, Indonesia\n"
          ]
        }
      ]
    },
    {
      "cell_type": "code",
      "metadata": {
        "id": "89ziaI1Bp_uA"
      },
      "source": [
        "# Apa bila file itu sudah ada, maka akan di-replace atau ditulis ulang dengan yang baru.\n",
        "# • Ada dua method yang bisa kita gunakan untuk menulis file \n",
        "# 1. write(): parameternya teks (string) \n",
        "# 2. writelines(): parameternya teks dalam bentuk list.\n",
        "\n",
        "teks = \"ini sebuah teks\"\n",
        "teks_list = [\"apel\", \"mangga\", \"anggur\"]\n",
        "\n",
        "f = open(\"Teks.txt\", \"w\")\n",
        "f.write(teks)\n",
        "f.writelines(teks_list)"
      ],
      "execution_count": null,
      "outputs": []
    },
    {
      "cell_type": "code",
      "metadata": {
        "colab": {
          "base_uri": "https://localhost:8080/"
        },
        "id": "xD_sG80ef-RN",
        "outputId": "7acfc2b7-0e71-4715-849e-a09caaa19832"
      },
      "source": [
        "# buka file untuk dibaca dan ditulis r+\n",
        "file_bio = open(\"Teks.txt\", \"r+\")\n",
        "\n",
        "Teks1 = file_bio.read()\n",
        "\n",
        "# cetak isi file\n",
        "print (Teks1)"
      ],
      "execution_count": null,
      "outputs": [
        {
          "output_type": "stream",
          "name": "stdout",
          "text": [
            "ini sebuah teksapelmanggaanggur\n"
          ]
        }
      ]
    },
    {
      "cell_type": "code",
      "metadata": {
        "colab": {
          "base_uri": "https://localhost:8080/"
        },
        "id": "f4F2LeXcrMkN",
        "outputId": "9fa420ec-f5cf-4d8d-f265-f33bd051be0a"
      },
      "source": [
        "# Menyisipkan Data ke File dengan “a” \n",
        "# • Menggunakan mode \"a\" (append) untuk menulisnya\n",
        "# • Contoh kode program\n",
        "print(\"Selamat datang di progran data Customer\")\n",
        "print(\"=======================================\")\n",
        "\n",
        "# ambil input dari user\n",
        "nama =  input(\"Nama: \")\n",
        "umur =  int(input(\"Umur: \"))\n",
        "alamat = input(\"alamat: \")\n",
        "\n",
        "# format teks\n",
        "teks = \"Nama: {}\\nUmur: {}\\nAlamat: {}\\n---\". format(nama, umur, alamat)\n",
        "\n",
        "# buka file untuk ditulis/disisipkan = append\n",
        "file_bio = open(\"Customer.txt\", \"a\")\n",
        "\n",
        "# tulis teks ke file\n",
        "file_bio.write(teks)\n",
        "\n",
        "# tututp file\n",
        "file_bio.close()"
      ],
      "execution_count": null,
      "outputs": [
        {
          "name": "stdout",
          "output_type": "stream",
          "text": [
            "Selamat datang di progran data Customer\n",
            "=======================================\n",
            "Nama: Hamza\n",
            "Umur: 21\n",
            "alamat: Tegal\n"
          ]
        }
      ]
    },
    {
      "cell_type": "code",
      "metadata": {
        "colab": {
          "base_uri": "https://localhost:8080/"
        },
        "id": "QFqBCYHNsKKo",
        "outputId": "51a8f6c7-ffd0-4f65-c6e5-b163beceac81"
      },
      "source": [
        "# Membaca dan Menulis File dengan Mode “r+”\n",
        "# • Menggunakan mode \"r+\" untuk membaca sekaligus menulis.\n",
        "# • Contoh kode program\n",
        "# Menulis File dengan Model “r+”\n",
        "print(\"Selamat datang di progran data Customer\")\n",
        "print(\"=======================================\")\n",
        "\n",
        "# buka file untuk dibaca dan ditulis r+\n",
        "file_bio = open(\"Customer.txt\", \"r+\")\n",
        "\n",
        "teks2 = file_bio.read()\n",
        "\n",
        "# cetak isi file\n",
        "print (teks2)\n",
        "\n",
        "# ambil input dari user\n",
        "nama =  input(\"Nama: \")\n",
        "umur =  int(input(\"Umur: \"))\n",
        "alamat = input(\"alamat: \")\n",
        "\n",
        "# format teks\n",
        "teks = \"\\n\\nNama: {}\\nUmur: {}\\nAlamat: {}\\n---\".format(nama, umur, alamat)\n",
        "\n",
        "# tulis teks ke file\n",
        "file_bio.write(teks2)\n",
        "\n",
        "# tututp file\n",
        "file_bio.close()"
      ],
      "execution_count": null,
      "outputs": [
        {
          "name": "stdout",
          "output_type": "stream",
          "text": [
            "Selamat datang di progran data Customer\n",
            "=======================================\n",
            "Nama: hamzah\n",
            "Umur: 20\n",
            "Alamat: brebes\n",
            "Nama: amir\n",
            "Umur: 21\n",
            "Alamat: Brebes\n",
            "---Nama: Hamza\n",
            "Umur: 21\n",
            "Alamat: Tegal\n",
            "---Nama: Hey\n",
            "Umur: 23\n",
            "Alamat: Brebes Selatan\n",
            "---Nama: hamzah\n",
            "Umur: 20\n",
            "Alamat: brebes\n",
            "Nama: amir\n",
            "Umur: 21\n",
            "Alamat: Brebes\n",
            "---Nama: Hamza\n",
            "Umur: 21\n",
            "Alamat: Tegal\n",
            "---Nama: Hey\n",
            "Umur: 23\n",
            "Alamat: Brebes Selatan\n",
            "---\n",
            "Nama: Hokya\n",
            "Umur: 30\n",
            "alamat: Tegal \n"
          ]
        }
      ]
    },
    {
      "cell_type": "code",
      "metadata": {
        "colab": {
          "base_uri": "https://localhost:8080/"
        },
        "id": "TtMmjX64t5gy",
        "outputId": "60d4d09b-418c-4c80-f2b9-fc04cabfea70"
      },
      "source": [
        "# Menggunakan with dan as\n",
        "# • Pada contoh-contoh di atas, kita selalu menutup file dengan method close(). \n",
        "# • Sebenarnya file bisa ditutup otomatis dengan mengguakan with. \n",
        "# • Contoh kode program \n",
        "# with open(\"dokumen.txt\", \"r\") as dok: print dok.read()\n",
        "\n",
        "with open(\"Biodata.txt\", \"a\") as dokumen:\n",
        "    dokumen.writelines(\"\\nPoliteknik Harapan Bersama\")\n",
        "\n",
        "with open(\"Biodata.txt\") as dokumen:\n",
        "    print (dokumen.read())"
      ],
      "execution_count": null,
      "outputs": [
        {
          "output_type": "stream",
          "name": "stdout",
          "text": [
            "Nama = Hamzah\n",
            "Nim  = 18090073\n",
            "jurusan = teknik Informatika\n",
            "\n",
            "\n",
            "\n",
            "Politeknik Harapan Bersama\n"
          ]
        }
      ]
    },
    {
      "cell_type": "markdown",
      "metadata": {
        "id": "BNwnMMomzHbZ"
      },
      "source": [
        "# Practical Assignments 01"
      ]
    },
    {
      "cell_type": "markdown",
      "metadata": {
        "id": "4vq56IBLzcnr"
      },
      "source": [
        "## Print dan mengambil data"
      ]
    },
    {
      "cell_type": "code",
      "metadata": {
        "colab": {
          "base_uri": "https://localhost:8080/"
        },
        "id": "KpyLa5nGzTYz",
        "outputId": "9da51c51-7579-466c-afac-36d0e91a4d61"
      },
      "source": [
        "# 1. Program untuk menampilkan:\n",
        "print(\"Saya suka programming\")\n",
        "print(\"Saya suka programming\")\n",
        "print(\"Saya suka programming\")\n",
        "print(\"Saya suka programming\")\n",
        "print(\"Saya suka programming\")"
      ],
      "execution_count": null,
      "outputs": [
        {
          "output_type": "stream",
          "name": "stdout",
          "text": [
            "Saya suka programming\n",
            "Saya suka programming\n",
            "Saya suka programming\n",
            "Saya suka programming\n",
            "Saya suka programming\n",
            "Saya suka programming\n",
            "Saya suka programming\n",
            "Saya suka programming\n"
          ]
        }
      ]
    },
    {
      "cell_type": "code",
      "metadata": {
        "colab": {
          "base_uri": "https://localhost:8080/"
        },
        "id": "oMUtHss7zrDU",
        "outputId": "142fc508-c08b-450d-d82f-5fa2f0ae2423"
      },
      "source": [
        "# 2. Menghitung volume balok dan memunculkan nama:\n",
        "name = \"Amir Hamzah\"\n",
        "p = 5\n",
        "l = 7\n",
        "t = 10\n",
        "V = p * l * t\n",
        "\n",
        "print(\"I'M\",name,\", I made a program to calculate the volume of a block\")\n",
        "print(\"long =\",p)\n",
        "print(\"with =\",l)\n",
        "print(\"High =\",t)\n",
        "print(\"Then the volume of the cube is =\", V)"
      ],
      "execution_count": null,
      "outputs": [
        {
          "output_type": "stream",
          "name": "stdout",
          "text": [
            "I'M Amir Hamzah , I made a program to calculate the volume of a block\n",
            "long = 5\n",
            "with = 7\n",
            "High = 10\n",
            "Then the volume of the cube is = 350\n"
          ]
        }
      ]
    },
    {
      "cell_type": "markdown",
      "metadata": {
        "id": "koDIkjsx0vF_"
      },
      "source": [
        "## Variabel"
      ]
    },
    {
      "cell_type": "code",
      "metadata": {
        "colab": {
          "base_uri": "https://localhost:8080/"
        },
        "id": "qUb7MH9X0yBW",
        "outputId": "1399504b-340c-494d-b9a0-ef63a79c8551"
      },
      "source": [
        "# 3. Menghitung keliling lingkaran:\n",
        "jari_jari = 50\n",
        "phi = 3.14\n",
        "keliling = 2 * phi * jari_jari\n",
        "print(\"Keliling Linkaran sama dengan \", keliling)"
      ],
      "execution_count": null,
      "outputs": [
        {
          "output_type": "stream",
          "name": "stdout",
          "text": [
            "Keliling Linkaran sama dengan  314.0\n"
          ]
        }
      ]
    },
    {
      "cell_type": "markdown",
      "metadata": {
        "id": "afXL0NH109Pb"
      },
      "source": [
        "## Tipe Data"
      ]
    },
    {
      "cell_type": "code",
      "metadata": {
        "colab": {
          "base_uri": "https://localhost:8080/"
        },
        "id": "jswiPEDH0-oq",
        "outputId": "d038b3aa-f067-4962-c56e-7fc1f877d936"
      },
      "source": [
        "# 4. Konversi tipe data:\n",
        "var = 64\n",
        "print(float(var))\n",
        "print(bin(var))\n",
        "print(hex(var))"
      ],
      "execution_count": null,
      "outputs": [
        {
          "output_type": "stream",
          "name": "stdout",
          "text": [
            "64.0\n",
            "0b1000000\n",
            "0x40\n"
          ]
        }
      ]
    },
    {
      "cell_type": "markdown",
      "metadata": {
        "id": "iW2rLxn61JJK"
      },
      "source": [
        "## Input/Output"
      ]
    },
    {
      "cell_type": "code",
      "metadata": {
        "colab": {
          "base_uri": "https://localhost:8080/"
        },
        "id": "W7goI-bm1KtQ",
        "outputId": "080c922a-3e86-4881-9d75-b44e0d8c8e48"
      },
      "source": [
        "# 5. Input Output:\n",
        "nama_bayi = input(\"masukkan nama bayi \")\n",
        "berat_badan_bayi_kg = int(input(\"masukkan berat badan bayi dalam Kg \"))\n",
        "berat_badan_bayi_ons = berat_badan_bayi_kg * 10\n",
        "berat_badan_bayi_ons_new = berat_badan_bayi_ons + 30\n",
        "print(\"Nama bayi adalah \", nama_bayi)\n",
        "print(\"Berat dalam kg adalah \", berat_badan_bayi_kg)\n",
        "print(\"Berat dalam ons adalah \", berat_badan_bayi_ons)\n",
        "print(\"Berat bayi 1 bulan ke depan harus ditambahkan 30 Ons sehingga menjadi \", berat_badan_bayi_ons_new)"
      ],
      "execution_count": null,
      "outputs": [
        {
          "output_type": "stream",
          "name": "stdout",
          "text": [
            "masukkan nama bayi Hamzah\n",
            "masukkan berat badan bayi dalam Kg 10\n",
            "Nama bayi adalah  Hamzah\n",
            "Berat dalam kg adalah  10\n",
            "Berat dalam ons adalah  100\n",
            "Berat bayi 1 bulan ke depan harus ditambahkan 30 Ons sehingga menjadi  130\n"
          ]
        }
      ]
    },
    {
      "cell_type": "markdown",
      "metadata": {
        "id": "0i2YM3Pb1a95"
      },
      "source": [
        "## Function"
      ]
    },
    {
      "cell_type": "code",
      "metadata": {
        "colab": {
          "base_uri": "https://localhost:8080/"
        },
        "id": "U7S2oHRR1dIx",
        "outputId": "c89a436c-7858-41b1-9fc3-2cd4b139ec81"
      },
      "source": [
        "# 6. Fungsi dan Parameter: \n",
        "name = input(\"What is your name? \")\n",
        "address = input(\"What is your address? \")\n",
        "\n",
        "def intro(name, address):\n",
        "  print(\"My Name is \", name)\n",
        "  print(\"and my address  \", address)\n",
        "  \n",
        "intro(name, address)"
      ],
      "execution_count": null,
      "outputs": [
        {
          "output_type": "stream",
          "name": "stdout",
          "text": [
            "What is your name? Hamzah\n",
            "What is your address? Brebes\n",
            "My Name is  Hamzah\n",
            "and my address   Brebes\n"
          ]
        }
      ]
    },
    {
      "cell_type": "code",
      "metadata": {
        "colab": {
          "base_uri": "https://localhost:8080/"
        },
        "id": "q295iAi33DQJ",
        "outputId": "aedd1e54-2bbf-4680-fa48-2bd7660176e6"
      },
      "source": [
        "def luaspersegipanjang(panjang, lebar):\n",
        "  luas = panjang * lebar\n",
        "  print(\"luas persegi panjang = \",luas)\n",
        "\n",
        "luaspersegipanjang(5,10)\n",
        "luaspersegipanjang(100,50)"
      ],
      "execution_count": null,
      "outputs": [
        {
          "output_type": "stream",
          "name": "stdout",
          "text": [
            "luas persegi panjang =  50\n",
            "luas persegi panjang =  5000\n"
          ]
        }
      ]
    },
    {
      "cell_type": "code",
      "metadata": {
        "colab": {
          "base_uri": "https://localhost:8080/"
        },
        "id": "vV4m88M_3IoR",
        "outputId": "80269d11-a9c1-4228-b051-fd8c4c042ca0"
      },
      "source": [
        "# 7. Fungsi Return Non Parameter, Input, Operator Aritmatika Membuat program menghitung volume kubus\n",
        "sisi = int(input(\"masukan nilai sisi \"))\n",
        "\n",
        "def luas_persegi():\n",
        "  luas_persegi = sisi * sisi\n",
        "  return luas_persegi\n",
        "\n",
        "def volume_kubus():\n",
        "  volume_kubus = sisi * sisi * sisi\n",
        "  return volume_kubus\n",
        "\n",
        "print(\"Luas persegi adalah =\", luas_persegi())\n",
        "print(\"Volume kubus adalah =\", volume_kubus())\n"
      ],
      "execution_count": null,
      "outputs": [
        {
          "output_type": "stream",
          "name": "stdout",
          "text": [
            "masukan nilai sisi 20\n",
            "Luas persegi adalah = 400\n",
            "Volume kubus adalah = 8000\n"
          ]
        }
      ]
    },
    {
      "cell_type": "markdown",
      "metadata": {
        "id": "5f-fp0gUE6zN"
      },
      "source": [
        "\n",
        "# Praktikum 2"
      ]
    },
    {
      "cell_type": "markdown",
      "metadata": {
        "id": "vBAKjVk3Ktfr"
      },
      "source": [
        "## Akses Drive"
      ]
    },
    {
      "cell_type": "code",
      "metadata": {
        "id": "6jk6kk_dFGqA",
        "colab": {
          "base_uri": "https://localhost:8080/"
        },
        "outputId": "0c703abe-97fe-450b-9532-147327339f5d"
      },
      "source": [
        "# Buat kode program untuk mengakses drive\n",
        "from google.colab import drive\n",
        "drive.mount('/content/drive')\n",
        "%cd \"/content/drive/MyDrive/5. SEMESTER/PEMROGRAMAN SISTEM CERDAS/bahan praktikum/\""
      ],
      "execution_count": null,
      "outputs": [
        {
          "output_type": "stream",
          "name": "stdout",
          "text": [
            "Drive already mounted at /content/drive; to attempt to forcibly remount, call drive.mount(\"/content/drive\", force_remount=True).\n",
            "/content/drive/MyDrive/5. SEMESTER/PEMROGRAMAN SISTEM CERDAS/bahan praktikum\n"
          ]
        }
      ]
    },
    {
      "cell_type": "markdown",
      "metadata": {
        "id": "iJW0_0BmMI09"
      },
      "source": [
        "## Operasi File .csv"
      ]
    },
    {
      "cell_type": "code",
      "metadata": {
        "colab": {
          "base_uri": "https://localhost:8080/"
        },
        "id": "-k0Xpkv7HFu2",
        "outputId": "9ed6ad8d-8b7e-45ec-eea3-3cd6871973a0"
      },
      "source": [
        "# membaca file .csv\n",
        "import csv\n",
        "with open('ulasan-20.csv') as csvfile:\n",
        "    readCSV = csv.reader(csvfile, delimiter=',')\n",
        "    for row in readCSV:\n",
        "        print(row)"
      ],
      "execution_count": null,
      "outputs": [
        {
          "output_type": "stream",
          "name": "stdout",
          "text": [
            "['\\ufeffulasan', 'sentimen']\n",
            "['Dalam beberapa Bulan terakhir saya sempat ke sana 3 kali. Sebelum dan sesudah lahar dingin ke luar. Pemandangan yang paling mengesankan bagi saya saat melihat view dari desa sidemang juga pura lempuyang dengan gate yang view gunung agungnya sangat terlihat jelas dan indah sekali', '1']\n",
            "['Salah satu tempat yang harus dikunjungi saat mengunjungi Bali! Masuknya gratis dan juga mudah ditemukan dengan google map!', '1']\n",
            "['Recommended untuk yg ingin melihat keindahan ombak dalam lake kecil, sangat menarik dan unik. Cocok untuk photo prewedding', '1']\n",
            "['Air terjun Sekumpul Sekarang menjadi lebih baik lagi, terawat dengan baik jadi semakin indah.. Tempat ini dekat dengan air terjun Fiji di Lemukih', '1']\n",
            "['air terjun, pemandangan bagus dan penduduk yang ramah\\nlokasi bersih.\\nbawa pakain ganti untuk setelah berenang.', '1']\n",
            "['Pada saat musim hujan kedua air terjun ini akan memiliki warna air yang berbeda, yang sebelah kiri airnya akan berwarna jernih dan bersih, karena berasal dari mata air yang letaknya diatas perbukitan desa Sekumpul. Sedangkan air terjun yang sebelah kanan akan berwarna keruh kecoklatan, karena airnya berasal dari sungai yang ada di desa Sekumpul. Sungguh pemandangan yang luar biasa.', '1']\n",
            "['Air Terjun terbaik yang pernah saya lihat, lokasinya memang susah dijangkau sebaiknya menggunakan motor saja, cukup melelahkan juga kesini harus melewati 300 anak tangga, tapi terbayar saat datang kesini air terjun yg selalu ada pelangi ada sekitar 2 dikiri dan 3 dikanan itu banyak banget dan semuanya indah kalau udah kesini berasa punya sendiri karena belum banyak orang yang tau dan serius ini bagus banget harus liat langsung sangat recommended!!!', '1']\n",
            "['Air terjun Sekumpul berjarak sekitar 20 km dari kota Singaraja. Sebelum sampai ke lokasi air terjun wisatawan dapat melihat pemandangan sawah terasering dan perbukitan yang menghijau serta pemandangan air terjun dari kejauhan. Wisatawan dapat melihat keindahan air terjun kembar yang sangat indah dengan ketinggian air terjun sekitar 100 meter. Cipratan air terjun membuat tubuh kembali segar dan wisatawan dapat berenang di dasar air terjun. Kondisi sangat alami dan suasana yang tenang membuat obyek wisata ini sesuai untuk refreshing.', '1']\n",
            "['Air terjun yang indah ini terletak di desa Lemukih dan Sekumpul di daerah Singaraja. Jika ingin berkunjung ke sana, disarankan untuk datang dari arah Bedugul, belok ke arah kanan (pertigaan) ke desa Sekumpul. Kebetulan pemilik travel yang kami sewa adalah orang Singaraja, sehingga dia tahu betul akan daerah sana.\\nDisarankan untuk masuk dari desa Lemukih, karena meski jalur trekking nya lebih panjang, tapi view nya bagus, sebelum sampai di tempat parkir motor, kita akan melewati areal pesawahan yang menurut saya tidak kalah bagus dengan tegalalang, diselingi juga dengan kebun cengkeh, manggis dan coklat. Pakailah tour guide lokal, karena akan sangat membantu selama dalam perjalanan.\\nDisarankan untuk membawa minuman dan nyali berlebih, karena trek nya minta ampun. Kami harus melewati ratusan anak tangga yang sangat curam (kemiringan kira-kira 70 derajat).\\nBayar tiket jika lewat desa Lemukih cukup satu kali (Rp. 15.000 per orang) untuk melihat dua lokasi air terjun.', '1']\n",
            "['yeyy , bagi yang suka wisata alam , sekumpul waterfall sangat cocok untuk dikunjungi tapi dibutuhkan tenaga extra coy. tapi setelah sampai dan melihat air terjun tersebut wahhhh, langsung dah menyegarkan mata karena pemandangannya bagus hahaha.', '1']\n",
            "['Air terjun Sekumpul adalah salah satu air terjun terindah di Buleleng. Terdiri dari beberapa air terjun yang berkumpul sesuai dengan nama air terjun ini. Indah..', '1']\n",
            "['Kereeeennnn abiiiisssss\\nDengan beberapa air terjun yg keren dan pemandangan dan suasana sejuk ini menjadikan sekumpul sebagai air terjun terindah', '1']\n",
            "['pemandangan yang luar biasa, pilihan tepat bagi pecinta alam panorama alam menjadi daya tarik yang luar biasa', '1']\n",
            "['kami menginap di salah satu hotel di kawah gunung dekat dengan toya devasya spot pemandian air hangat terkenal di danau batur, suasana disana sangat nyaman, udaranya masih segar sangat direkomendasikan untuk yang ingin mencari ketenangan.', '1']\n",
            "['Pemandangannya sangat indah dan udaranya juga sangat sejuk\\nPokoknya terbaik lah\\nDisana mungkin agak dingin tapi nggak masalah, rasa dingin itu akan terobati oleh indahnya pemandangan', '1']\n",
            "['Air terjun?\\nMendengar istilah tersebut pasti sudah tak asing, sebagian dari kita pasti pernah mengunjungi tempat tersebut. Tapi di Singaraja ada 1 air terjun yg amat asri dan indah yakni Sekumpul. Lokasinya sekitar 1 jam dari pusat kota, biaya masuk hanya 10rb dan akses menuju air terjunnya sangat mudah. Recommended banget', '1']\n",
            "['pemandangan yang indah beserta dengan sekumpulan air terjun perjalanan melalui denpasar selam 2-3 jam..tracking pada pagi hari membuat suasana lebih nyaman dan sejuk best tracking pada jam 7 pagi,,,', '1']\n",
            "['Sekumpul adalah nama air terjun yang berada di wilayah kabupaten singaraja, tepatanya\\nBerada dari jalur kintamani menuju singaraja.\\nAir terjun ini bukan hanya indah tapi memiliki air yang sangat bening dan suasana disekitarnya juga masih sangat alami.Jadi bila berkunjung kesana anda juga bisa berphoto dan mandi dialiran sungai yang sangat bersih.\\nKawasan ini mudah dijangkau dengan mobil dan dari tempat parkir menuju air terjun anda bisa menggunakan jasa Ojek motor yang selalu standby di sana.\\nDan selanjutnya anda cukup berjalan 10 menit air terjun sudah terlihat dari atas tebing tapi bila ingin turun kesungai anda harus menuruni tangga sekitar 390 anak tangga tapi lelah akan terbayarkan dengan\\nSuasana alam disana.\\nJadi kalau ada waktu coba kunjungi obyek yang satu ini\\nPasti...wow...', '1']\n",
            "['Lokasi ini dekat dengan pasar sukawati. tiket 10rbu perorang. kita langsung bisa nikmati air terjun tanpa harus banyak berjalan. Rekomen banget', '1']\n",
            "['Air terjun dengan pemandangan yang bagus, airnya jernih,, disarankan menggunakan sepeda motor karna masih jauh dari tempat beli tiket untuk sampai di tangga pertama kalau jalan kaki,, kalau menggunakan sepeda motor bisa terus jalan dan dititip di tempat parkir dekat tangga pertama.\\nUntuk sampai di air terjun harus turun lagi beratus anak tangga, melewati jembatan, lalu disana ada yang meminta tiket anda. Lanjut jalan melewati sungai kira\" maksimal se lutut, dan sampai di air terjun kembar, yang di kiri lebih jernih.\\n\\nHati\" ponsel anda basah karna dari bawah airnya deras jadi embunnya banyak, gunakan casing anti air lebih baik dan bisa foto\" terus dengan view yang bagus. Tapi lebih bagus lanjut mendekat tepat di bawah air jatuh membentuk kolam,  sampai tepat di bawah jatuhnya air anda bisa berenang, mandi, foto\", \\n\\nSemua capek terbayar kok dengan apa yang didapat yaitu pemandangan yang luar biasa. rekomen banget', '1']\n",
            "['Monyet disini cukup nakal. Suka mengambil barang-barang. Dan agak galak. Karena sewaktu kesana monyet menggigit salah satu turis. Jangan mendukung tempat ini,', '0']\n",
            "['Pantai indah ini lokasi nya cukup terpencil. Belum banyak orang tahu. Tetapi untuk sampai kesini harus menuruni anak tangga yang banyak sekali jumlahnya. Dan ketika kembali ke atas kami kelelahan sekali menaiki anak tangganya. Saya merasa tempat kurang begitu enak duduk ditepi pantai', '0']\n",
            "['Saya telah melihat pasar malam yang jauh lebih baik dari ini. Ini jelas di mana penduduk setempat menjajakan pakaian dan mainan untuk anak-anak yang sangat mengganggu. Makanan di sini kurang begitu enak. tapi jujur ini patut dilewati saja jika Anda memiliki waktu terbatas di Ubud.', '0']\n",
            "['Salah satu jalan menuju pantai Legian, jalannya lumayan sempit harap hati-hati selalu saat melintasi jalan ini. Kurang nyaman untuk berjalan kali pantai di sini.', '0']\n",
            "['saya ke pantai dreamland pada awal desember 2014, agak mengejutkan karena pada tahun 2013 saya ke pantai dreamland kondisinya jauh lebih bersih dahulu. Sekarang banyak sampah, kotor dan tidak terawat dengan baik. Kurang nyaman buat berenang', '0']\n",
            "['pantai petitenget banyak dikunjungi wisatawan terutama wisatawan yang tinggal di hotel sekitar pantai ini.. karena banyak pengunjung pantai ini tidak sebersih dulu.. Sekaran pantai kotor tidak terawat. Pantai tak nyaman, tidak seperti dulu', '0']\n",
            "['sekali aja mampir ke sini, pantainya biasanya gak ada bagus bagusnya, gak menarik.. kesini cuma mau makan di warung mak beng aja, kecewa', '0']\n",
            "['menurut saya pantainya biasa saja, gak menarik. untuk lihat sunset masih lebih asik di seminyak. kesini mampir sekalian lewat aja.', '0']\n",
            "['Ya begitulah... gak banyak lagi spot bagus untuk kongkow, pantainya udah banyak yg dikapling2 oleh hotel & villa. Dan gak menarik. Sedikit kecewa', '0']\n",
            "['letaknya di utara kerobokan. pantainya berpasir hitam. tidak begitu ramai turis, menurut saya biasa saja, gak bagus, masih lebih indah pantai kuta dan legian.', '0']\n",
            "['pantainya biasa saja, lebih bagus di dreamland, banyak nelayan, kotor dan kurang pas viewnya, gak bagus, sangat disarankan pagi saja kalau nekat kemari', '0']\n",
            "['Buat nyebrang ke makam terunyan perlu bayar di loket saja yg resmi.. tp not recomended banget dah skr.. tmptnya begitu aja pas nyebrang, membosankan.. pantesan sepi karena gak bagus dan gak menarik', '0']\n",
            "['terlalu macet dan saya perlu 1 jam dari waktu yang sebenarnya 10 menit menurut supir pribadi saya. Mending jalan kesini dengan menggunakan Motor. Jadi perjalanan saya kali kini nggak begitu berkesan karena macet parah.', '0']\n",
            "['Tidak ada yang menarik dari monumen yang berisikan nama para korban bom bali pertama. Monumen ini pada akhirnya hanya berdiri diantara keramaian jalan legian kuta bali. Menurut saya, nggak begitu berkesan', '0']\n",
            "['K tolong hindari kuil ini dengan cara apa pun. Ini adalah salah satu perangkap wisata besar. Nggak begitu berkesan seperti candi lain di Bali. Sebenarnya tidak banyak yang bisa dilihat di dalam dan Anda akan ditipu dari kiri ke kanan. Bahkan mengambil nafas di sana akan dikenakan biaya uang.\\n Pelajaran mahal dan benar-benar pengalaman buruk. \\n', '0']\n",
            "['Saya yakin pantai ini tidak lebih bagus di Sanur, pasirnya kehitaman, banyak kerang yang pecah, koral, dan barang-barang lainnya, serta setinggi lutut sekitar setengah sebelum arus bawah dan karang, nggak begitu berkesan', '0']\n",
            "['Mengunjungi tempat ini beberapa kali, nggak begitu berkesan dan kemarin kita mendapat informasi baru dari ticketing minimum spend 100k bisa buat food, drink dan towel. Sampai didalam infonya berubah lagi jadi food only. Oke gak apa apa karena kemungkinan kita akan belanja lebih, kita bukan typical orang yang hanya suka selfi. Yang sangat disayangkan adalah attitude waitress saat menghadapi complaint. kita butuh waktu lebih dari 15mt untuk mencari waitress. Dan disaat kita dapet waitressnya, tiba tiba langsung bawain kita bill dan suruh bayar tanpa bertanya komentar kita terlebih dahulu, Kita tanya manager, beliau minta maaf dan menjelaskan belakang kitchen mereka jorok??? Dan menawarkan makanan untuk diganti, kita tolak karena kita sudah kehilangan nafsu makan, juga berpikiran kitchennya pasti jorok juga. Benar-benar saya kecewa dengan staff nya.\\n', '0']\n",
            "['mengunjungi mall ini lagi setelah sekian lama, nggak begitu berkesan, mall ini semakin nggak menarik. barang yang dijual sama itu-itu saja, susananya juga semakin sepi.', '0']\n",
            "['Mungkin karena pas datang kesini waktu liburan high season, pantainya ramai sekali, parkir semrawut, suasananya tidak begitu enak, jadinya kurang bisa menikmati.', '0']\n",
            "['Lukisan nya cocok utk foto. Hanya ac nya tidak dingin dan kurang nyaman. Tempatnya juga kurang begitu enak. Fasilitas toilet jg tidak terawat. utk harga 100 rb dgn fasilitas seperti itu, saya pikir kurang layak dan kurang bisa menikmati melihat lukisan-lukisan.', '0']\n",
            "['Dahulu kami sering ke pantai nusa dua, tetapi sekarang kurang baik dan kurang bersih, apa mungkin karena banyak kotoran di pasir nya pada saat kami datang. Sungguh sampah ini buat tidak nyaman. Harus diperhatikan agar wisatawan tetap mau ke sana', '0']\n"
          ]
        }
      ]
    },
    {
      "cell_type": "markdown",
      "metadata": {
        "id": "hcbPjTVWMR1R"
      },
      "source": [
        "## Pandas Library\n",
        "\n",
        "> Pandas adalah sebuah library di Python yang berlisensi BSD dan open source yang menyediakan struktur data dan analisis data yang mudah digunakan. Pandas biasa digunakan untuk membuat tabel, mengubah dimensi data, mengecek data, dan lain sebagainya.\n",
        "\n",
        "> Struktur data dasar pada Pandas dinamakan DataFrame, yang memudahkan kita untuk membaca sebuah file dengan banyak jenis format seperti file .txt, .csv, dan .tsv. Fitur ini akan menjadikannya table dan juga dapat mengolah suatu data dengan menggunakan operasi seperti join, distinct, group by, agregasi, dan teknik lainnya yang terdapat pada SQL.\n",
        "\n",
        "> Dapat disimpulkan, bahwa Pandas merupakan library analisis data yang diperlukan untuk membersihkan data mentah ke dalam sebuah bentuk yang bisa untuk diolah. Adapun keunggulan dari Pandas antara lain:\n",
        "\n",
        "1. Objek DataFrame yang cepat dan efisien untuk manipulasi data dengan pengindeksan terintegrasi;\n",
        "2. Alat untuk membaca dan menulis data antara struktur data dalam memori dan berbagai format: CSV dan file teks, Microsoft Excel, database SQL, dan format HDF5 yang cepat;\n",
        "3. Penjajaran data yang cerdas dan penanganan terpadu data yang hilang: dapatkan penyelarasan berbasis label otomatis dalam perhitungan dan mudah memanipulasi data yang berantakan ke dalam bentuk yang teratur;\n",
        "4. Pembentukan dan pivoting set data yang fleksibel;\n",
        "5. Pemotongan berbasis label cerdas, pengindeksan mewah, dan subset dari kumpulan data besar;\n",
        "6. Kolom dapat dimasukkan dan dihapus dari struktur data untuk ukuran yang berubah-ubah\n",
        "\n"
      ]
    },
    {
      "cell_type": "code",
      "metadata": {
        "colab": {
          "base_uri": "https://localhost:8080/"
        },
        "id": "-bxM0hgQJFKU",
        "outputId": "5a1f4d8d-c398-47bc-c64f-24eee19ea30b"
      },
      "source": [
        "# kode program untuk membuat data frame dengan Pandas dan membaca data frame\n",
        "import pandas as pd\n",
        "dframe=pd.read_csv(\"ulasan-20.csv\") #dframe adalh variabel untuk menampung file\n",
        "print (dframe[1:4]) # ini adalah 1:4 is print hingga index 4\n",
        "# print(dframe) # jika ingin mencetak semua dframe"
      ],
      "execution_count": null,
      "outputs": [
        {
          "output_type": "stream",
          "name": "stdout",
          "text": [
            "                                              ulasan  sentimen\n",
            "1  Salah satu tempat yang harus dikunjungi saat m...         1\n",
            "2  Recommended untuk yg ingin melihat keindahan o...         1\n",
            "3  Air terjun Sekumpul Sekarang menjadi lebih bai...         1\n"
          ]
        }
      ]
    },
    {
      "cell_type": "code",
      "metadata": {
        "colab": {
          "base_uri": "https://localhost:8080/"
        },
        "id": "pmSj_GwcKbY4",
        "outputId": "aa20f223-da36-46e9-ed6e-2c35c30de101"
      },
      "source": [
        "# kode program untuk membaca data frame tersebut hanya pada satu objek (satu kolom)\n",
        "# mengambil data dari 1 kolom \n",
        "data_ulasan = dframe['ulasan']\n",
        "print (data_ulasan[1:4])"
      ],
      "execution_count": null,
      "outputs": [
        {
          "output_type": "stream",
          "name": "stdout",
          "text": [
            "1    Salah satu tempat yang harus dikunjungi saat m...\n",
            "2    Recommended untuk yg ingin melihat keindahan o...\n",
            "3    Air terjun Sekumpul Sekarang menjadi lebih bai...\n",
            "Name: ulasan, dtype: object\n"
          ]
        }
      ]
    },
    {
      "cell_type": "markdown",
      "metadata": {
        "id": "ck3ohMhiKwO3"
      },
      "source": [
        "## Scikit-learn Library\n",
        "\n",
        "> scikit-learn digunakan untuk melakukan vektorisasi.\n",
        "\n",
        "> Jika kita ingin melatih asisten virtual kita dengan cara manusia, maka kita perlu mengunggah Kamus bahasa Inggris dalam ingatannya (bagian yang mudah), temukan cara untuk mengajarkannya tata bahasa Inggris (ucapan, klausa, struktur kalimat, dan sebagainya), dan interpretasi logis. Pendekatan ini akan membutuhkan upaya yang sangat besar. Namun, bagaimana jika kita bisa mengubah kalimat menjadi objek matematika sehingga komputer dapat menerapkan matematika atau operasi logis dan memahaminya?\n",
        "\n",
        "> Konstruk matematis tersebut dapat berupa vektor, matriks, dan sebagainya. Misalnya, bagaimana jika kita mengasumsikan ruang berdimensi-N di mana setiap dimensi (sumbu) dari spasi sesuai dengan kata dari kosakata bahasa Inggris? Dengan ini, dapat diwakili pernyataan tersebut sebagai vektor dalam ruang itu, dengan koordinatnya di sepanjang setiap sumbu adalah jumlah kata yang mewakili sumbu itu. Jadi, dalam kalimat yang diberikan, vektor kalimat adalah sejumlah panjang sumbu. Pada kasus ini, scikit-learn digunakan untuk melakukan vektorisasi.\n",
        "\n",
        "> Selanjutnya, Scikit-learn merupakan library untuk machine learning bagi para pengguna python. Scikit-learn merupakan free software, dan memungkinkan kita melakukan beragam pekerjaan dalam Data Science, seperti regresi (regression), klasifikasi (classification), pengelompokkan/penggugusan (clustering), data preprocessing, dimensionality reduction, dan model selection (pembandingan, validasi, dan pemilihan parameter maupun model).\n"
      ]
    },
    {
      "cell_type": "code",
      "metadata": {
        "colab": {
          "base_uri": "https://localhost:8080/"
        },
        "id": "k_DnWHf2K0_K",
        "outputId": "aff55971-5589-47ee-9737-4e9ae988f839"
      },
      "source": [
        "# kode program menggunakan scikit-learn\n",
        "from sklearn.feature_extraction.text import CountVectorizer # jika mengunakan bahasa indo mengunakan \"word2vec\"\n",
        "sentences = [\"how to change payment method & payment frequency\"]\n",
        "vectorizer =  CountVectorizer(stop_words='english')\n",
        "#vectorizer.fit_transform(sentences).todense()\n",
        "X_vec = vectorizer.fit_transform(sentences)\n",
        "print(vectorizer.vocabulary_)\n",
        "print(X_vec.todense)"
      ],
      "execution_count": null,
      "outputs": [
        {
          "output_type": "stream",
          "name": "stdout",
          "text": [
            "{'change': 0, 'payment': 3, 'method': 2, 'frequency': 1}\n",
            "<bound method spmatrix.todense of <1x4 sparse matrix of type '<class 'numpy.int64'>'\n",
            "\twith 4 stored elements in Compressed Sparse Row format>>\n"
          ]
        }
      ]
    },
    {
      "cell_type": "code",
      "metadata": {
        "colab": {
          "base_uri": "https://localhost:8080/"
        },
        "id": "7gEsFzzBMZYo",
        "outputId": "aeedf04a-cd1a-41f0-8064-3f040ea65d81"
      },
      "source": [
        "# kode program menggunakan scikit-learn\n",
        "from sklearn.feature_extraction.text import CountVectorizer\n",
        "X = (\"Computer can analyze text\", \n",
        "     \"They do it using vector and matrices\",\n",
        "     \"computer can prosess massive amountof text data\")\n",
        "vectorizer = CountVectorizer(stop_words=\"english\")\n",
        "X_vec = vectorizer.fit_transform(X)\n",
        "print(vectorizer.vocabulary_)\n",
        "print(X_vec.todense())"
      ],
      "execution_count": null,
      "outputs": [
        {
          "output_type": "stream",
          "name": "stdout",
          "text": [
            "{'computer': 2, 'analyze': 1, 'text': 7, 'using': 8, 'vector': 9, 'matrices': 5, 'prosess': 6, 'massive': 4, 'amountof': 0, 'data': 3}\n",
            "[[0 1 1 0 0 0 0 1 0 0]\n",
            " [0 0 0 0 0 1 0 0 1 1]\n",
            " [1 0 1 1 1 0 1 1 0 0]]\n"
          ]
        }
      ]
    },
    {
      "cell_type": "markdown",
      "metadata": {
        "id": "aB6_2UkyOYHS"
      },
      "source": [
        "## NLTK Library\n",
        "\n",
        "> Natural Language Toolkit (NLTK) adalah salah satu libraries Python paling popular untuk pemrosesan bahasa alami.\n",
        "\n"
      ]
    },
    {
      "cell_type": "code",
      "metadata": {
        "colab": {
          "base_uri": "https://localhost:8080/"
        },
        "id": "B9D8ZgUIOajv",
        "outputId": "a578c2b0-8c5b-41d4-eb4c-bd35cfb1369a"
      },
      "source": [
        "# kode program menggunakan NLTK cuntuk membuat token\n",
        "import nltk\n",
        "nltk.download('punkt')\n",
        "text = \"Who would have thought that computer  programs would be analyzing human sentimens\"\n",
        "from nltk.tokenize import word_tokenize\n",
        "tokens = word_tokenize(text)\n",
        "print(tokens)"
      ],
      "execution_count": null,
      "outputs": [
        {
          "output_type": "stream",
          "name": "stdout",
          "text": [
            "[nltk_data] Downloading package punkt to /root/nltk_data...\n",
            "[nltk_data]   Unzipping tokenizers/punkt.zip.\n",
            "['Who', 'would', 'have', 'thought', 'that', 'computer', 'programs', 'would', 'be', 'analyzing', 'human', 'sentimens']\n"
          ]
        }
      ]
    },
    {
      "cell_type": "code",
      "metadata": {
        "colab": {
          "base_uri": "https://localhost:8080/"
        },
        "id": "pQYQsnudPk9N",
        "outputId": "125f67b5-0f8e-4d98-f9c6-487dbb1f1c8d"
      },
      "source": [
        "# kode program menggunakan NLTK untuk menghapus\n",
        "import nltk\n",
        "nltk.download('stopwords')\n",
        "stopwords = nltk.corpus.stopwords.words('english')\n",
        "print(stopwords)"
      ],
      "execution_count": null,
      "outputs": [
        {
          "output_type": "stream",
          "name": "stdout",
          "text": [
            "[nltk_data] Downloading package stopwords to /root/nltk_data...\n",
            "[nltk_data]   Unzipping corpora/stopwords.zip.\n",
            "['i', 'me', 'my', 'myself', 'we', 'our', 'ours', 'ourselves', 'you', \"you're\", \"you've\", \"you'll\", \"you'd\", 'your', 'yours', 'yourself', 'yourselves', 'he', 'him', 'his', 'himself', 'she', \"she's\", 'her', 'hers', 'herself', 'it', \"it's\", 'its', 'itself', 'they', 'them', 'their', 'theirs', 'themselves', 'what', 'which', 'who', 'whom', 'this', 'that', \"that'll\", 'these', 'those', 'am', 'is', 'are', 'was', 'were', 'be', 'been', 'being', 'have', 'has', 'had', 'having', 'do', 'does', 'did', 'doing', 'a', 'an', 'the', 'and', 'but', 'if', 'or', 'because', 'as', 'until', 'while', 'of', 'at', 'by', 'for', 'with', 'about', 'against', 'between', 'into', 'through', 'during', 'before', 'after', 'above', 'below', 'to', 'from', 'up', 'down', 'in', 'out', 'on', 'off', 'over', 'under', 'again', 'further', 'then', 'once', 'here', 'there', 'when', 'where', 'why', 'how', 'all', 'any', 'both', 'each', 'few', 'more', 'most', 'other', 'some', 'such', 'no', 'nor', 'not', 'only', 'own', 'same', 'so', 'than', 'too', 'very', 's', 't', 'can', 'will', 'just', 'don', \"don't\", 'should', \"should've\", 'now', 'd', 'll', 'm', 'o', 're', 've', 'y', 'ain', 'aren', \"aren't\", 'couldn', \"couldn't\", 'didn', \"didn't\", 'doesn', \"doesn't\", 'hadn', \"hadn't\", 'hasn', \"hasn't\", 'haven', \"haven't\", 'isn', \"isn't\", 'ma', 'mightn', \"mightn't\", 'mustn', \"mustn't\", 'needn', \"needn't\", 'shan', \"shan't\", 'shouldn', \"shouldn't\", 'wasn', \"wasn't\", 'weren', \"weren't\", 'won', \"won't\", 'wouldn', \"wouldn't\"]\n"
          ]
        }
      ]
    },
    {
      "cell_type": "code",
      "metadata": {
        "colab": {
          "base_uri": "https://localhost:8080/"
        },
        "id": "6rb_qxvhQZG4",
        "outputId": "1f90546e-00ae-40bd-d395-acc11da2974c"
      },
      "source": [
        "# kode program menggunakan NLTK untuk membuat POS tagging\n",
        "import nltk\n",
        "\n",
        "nltk.download('averaged_perceptron_tagger')\n",
        "nltk.pos_tag([\"your\"])\n",
        "nltk.pos_tag([\"Beautiful\"])\n",
        "nltk.pos_tag([\"eat\"])"
      ],
      "execution_count": null,
      "outputs": [
        {
          "output_type": "stream",
          "name": "stdout",
          "text": [
            "[nltk_data] Downloading package averaged_perceptron_tagger to\n",
            "[nltk_data]     /root/nltk_data...\n",
            "[nltk_data]   Unzipping taggers/averaged_perceptron_tagger.zip.\n"
          ]
        },
        {
          "output_type": "execute_result",
          "data": {
            "text/plain": [
              "[('eat', 'NN')]"
            ]
          },
          "metadata": {},
          "execution_count": 17
        }
      ]
    },
    {
      "cell_type": "code",
      "metadata": {
        "colab": {
          "base_uri": "https://localhost:8080/"
        },
        "id": "srTLzuVcRKBz",
        "outputId": "c95e39a4-af82-4c98-fc24-a18f6938d48e"
      },
      "source": [
        "from nltk.stem import WordNetLemmatizer\n",
        "from nltk.tokenize import word_tokenize\n",
        "nltk.download('punkt')\n",
        "\n",
        "text  = \"Usain bolt is the fastest runner in the world\"\n",
        "tokens = word_tokenize(text)\n",
        "[nltk.pos_tag([word]) for word in tokens]"
      ],
      "execution_count": null,
      "outputs": [
        {
          "output_type": "stream",
          "name": "stdout",
          "text": [
            "[nltk_data] Downloading package punkt to /root/nltk_data...\n",
            "[nltk_data]   Package punkt is already up-to-date!\n"
          ]
        },
        {
          "output_type": "execute_result",
          "data": {
            "text/plain": [
              "[[('Usain', 'NN')],\n",
              " [('bolt', 'NN')],\n",
              " [('is', 'VBZ')],\n",
              " [('the', 'DT')],\n",
              " [('fastest', 'JJS')],\n",
              " [('runner', 'NN')],\n",
              " [('in', 'IN')],\n",
              " [('the', 'DT')],\n",
              " [('world', 'NN')]]"
            ]
          },
          "metadata": {},
          "execution_count": 18
        }
      ]
    },
    {
      "cell_type": "markdown",
      "metadata": {
        "id": "u1Q3ps54SFkB"
      },
      "source": [
        "## Preprocessing - Case Folding\n",
        "\n",
        "*   Landasan Teori Case Folding\n",
        "\n",
        "> Data teks merupakan data yang tidak beraturan karena terdapat perulangan kata dan munculnya banyak kata yang tidak berkontribusi pada analisis data. Prapengolahan teks atau preprocessing perlu dilakukan untuk membersihkan data teks terlebih dahulu sebelum dilakukan proses analisis sentimen. Prapengolahan teks menghilangkan data yang tidak konsisten, data yang duplikat, dan data yang tidak berpengaruh terhadap polaritas suatu dokumen.\n",
        "\n",
        "> Proses mengubah semua karakter huruf pada sebuah kalimat menjadi huruf kecil atau huruf besar disebut case folding. **Case folding yang dilakukan pada penelitian ini yaitu mengubah seluruh dataset menjadi huruf kecil.** Huruf kapital biasanya terdapat pada setiap awal kalimat seperti “Udara di tempat ini sangat sejuk”, menggunakan case folding kalimat tersebut berubah menjadi “udara di tempat ini sangat sejuk”. Tujuan utama case folding adalah agar kata “udara” tidak lagi mempunyai dua bentuk yaitu, “Udara”, dan “udara”, namun hanya memiliki satu bentuk huruf kecil saja (Hidayatullah dan Ma’arif, 2016).\n",
        "\n"
      ]
    },
    {
      "cell_type": "code",
      "metadata": {
        "colab": {
          "base_uri": "https://localhost:8080/"
        },
        "id": "aruEhCn0iYrL",
        "outputId": "953e8916-1a5a-43ff-e598-12a3e90e6c6b"
      },
      "source": [
        "# kode program menggunakan NLTK untuk melakukan case folding\n",
        "import pandas as pd\n",
        "dframe=pd.read_csv(\"ulasan-20.csv\")\n",
        "print(dframe[:4]) \n",
        "\n",
        "# Print (dframe) # jika ingin mencetak semua frame"
      ],
      "execution_count": null,
      "outputs": [
        {
          "output_type": "stream",
          "name": "stdout",
          "text": [
            "                                              ulasan  sentimen\n",
            "0  Dalam beberapa Bulan terakhir saya sempat ke s...         1\n",
            "1  Salah satu tempat yang harus dikunjungi saat m...         1\n",
            "2  Recommended untuk yg ingin melihat keindahan o...         1\n",
            "3  Air terjun Sekumpul Sekarang menjadi lebih bai...         1\n"
          ]
        }
      ]
    },
    {
      "cell_type": "code",
      "metadata": {
        "colab": {
          "base_uri": "https://localhost:8080/"
        },
        "id": "t7rm6_Dei_vt",
        "outputId": "e9fd0893-24a1-43d3-de0b-320d75606caa"
      },
      "source": [
        "# Menambil data dari satu kolom\n",
        "data_ulasan = dframe['ulasan']\n",
        "print (data_ulasan[:4])"
      ],
      "execution_count": null,
      "outputs": [
        {
          "output_type": "stream",
          "name": "stdout",
          "text": [
            "0    Dalam beberapa Bulan terakhir saya sempat ke s...\n",
            "1    Salah satu tempat yang harus dikunjungi saat m...\n",
            "2    Recommended untuk yg ingin melihat keindahan o...\n",
            "3    Air terjun Sekumpul Sekarang menjadi lebih bai...\n",
            "Name: ulasan, dtype: object\n"
          ]
        }
      ]
    },
    {
      "cell_type": "code",
      "metadata": {
        "colab": {
          "base_uri": "https://localhost:8080/"
        },
        "id": "MuidTpp1jhUl",
        "outputId": "1b66026f-a5fa-4dfa-d1e4-22e4acb4eb85"
      },
      "source": [
        "# Casefolding\n",
        "data_casefolding = data_ulasan.str.lower()\n",
        "data_casefolding.head()"
      ],
      "execution_count": null,
      "outputs": [
        {
          "output_type": "execute_result",
          "data": {
            "text/plain": [
              "0    dalam beberapa bulan terakhir saya sempat ke s...\n",
              "1    salah satu tempat yang harus dikunjungi saat m...\n",
              "2    recommended untuk yg ingin melihat keindahan o...\n",
              "3    air terjun sekumpul sekarang menjadi lebih bai...\n",
              "4    air terjun, pemandangan bagus dan penduduk yan...\n",
              "Name: ulasan, dtype: object"
            ]
          },
          "metadata": {},
          "execution_count": 10
        }
      ]
    },
    {
      "cell_type": "markdown",
      "metadata": {
        "id": "baKWwmwJj1Js"
      },
      "source": [
        "## Preprocessing - Tokenization\n",
        "\n",
        "Landasan Teori Tokenization dan Filtering\n",
        "> Tokenisasi merupakan proses untuk memecah dokumen teks menjadi token. Tokenisasi memiliki kemampuan untuk memecah dokumen menjadi kata, frasa, simbol atau elemen lain yang memiliki makna. Pada proses tokenisasi, data teks ulasan dipecah menjadi token-token yang terdiri dari satu kata yang bermakna dan disimpan dalam array kata. Optimalisasi token dapat dilakukan dengan cara menghilangkan karakter-karakter ilegal pada dokumen seperti tanda baca, simbol, angka, html, dan mention. Proses dalam menghilangkan karakter-karakter illegal dapat disebut **filtering**. Contoh karakter ilegal yang dihilangakan antara lain %, &, >, (, {, ], 1-9, @uluwatu, http://tripadvisor.com (Symeonidis dkk., 2018)."
      ]
    },
    {
      "cell_type": "code",
      "metadata": {
        "colab": {
          "base_uri": "https://localhost:8080/"
        },
        "id": "OquSXuq5kDoW",
        "outputId": "ace8fd9f-180f-45ab-a1f4-727148573c4f"
      },
      "source": [
        "# kode program menggunakan NLTK untuk melakukan filtering\n",
        "# Filtering\n",
        "import re\n",
        "\n",
        "# url\n",
        "filtering_url = [re.sub(r'''(?i)\\b((?:https?://|www\\d{0,3}[.]|[a-z0-9.\\-]+[.][a-z]{2,4}/)(?:[^\\s()<>]+|\\(([^\\s()<>]+|(\\([^\\s()<>]+\\)))*\\))+(?:\\(([^\\s()<>]+|(\\([^\\s()<>]+\\)))*\\)|[^\\s`!()\\[\\]{};:'\".,<>?«»“”‘’]))''', \" \", ulasan) for ulasan in data_casefolding]\n",
        "# cont\n",
        "filtering_cont = [re.sub(r'\\(cont\\)',\" \", ulasan)for ulasan in filtering_url]\n",
        "# punctuatuion \n",
        "filtering_punctuation = [re.sub('[!\"”#$%&’()*+,-./:;<=>?@[\\]^_`{|}~]', ' ', ulasan) for ulasan in filtering_cont] #hapus simbol'[!#?,.:\";@()-_/\\']'\n",
        "# Hapus tagger \n",
        "filtering_tagger = [re.sub(r'#([^\\s]+)', '', ulasan) for ulasan in filtering_punctuation] \n",
        "#numeric \n",
        "filtering_numeric = [re.sub(r'\\d+', ' ', ulasan) for ulasan in filtering_tagger] \n",
        "data_filtering = pd.Series(filtering_numeric)\n",
        "print (data_filtering[:4])\n",
        "\n",
        "#print (data_filtering) \n",
        "#jika ingin mencetak semua data_filtering"
      ],
      "execution_count": null,
      "outputs": [
        {
          "output_type": "stream",
          "name": "stdout",
          "text": [
            "0    dalam beberapa bulan terakhir saya sempat ke s...\n",
            "1    salah satu tempat yang harus dikunjungi saat m...\n",
            "2    recommended untuk yg ingin melihat keindahan o...\n",
            "3    air terjun sekumpul sekarang menjadi lebih bai...\n",
            "dtype: object\n"
          ]
        }
      ]
    },
    {
      "cell_type": "code",
      "metadata": {
        "colab": {
          "base_uri": "https://localhost:8080/"
        },
        "id": "i_Oa9c_rkLRw",
        "outputId": "c6e2dc9a-db30-4e76-bcf8-b22401b02362"
      },
      "source": [
        "# kode program menggunakan NLTK untuk melakukan tokenization menggunakan word_tokenize\n",
        "#  tokenization\n",
        "import nltk\n",
        "nltk.download('punkt')\n",
        "from nltk.tokenize import word_tokenize\n",
        "\n",
        "data_tokens = [word_tokenize(line) for line in data_filtering]\n",
        "print(data_tokens)"
      ],
      "execution_count": null,
      "outputs": [
        {
          "output_type": "stream",
          "name": "stdout",
          "text": [
            "[nltk_data] Downloading package punkt to /root/nltk_data...\n",
            "[nltk_data]   Unzipping tokenizers/punkt.zip.\n",
            "[['dalam', 'beberapa', 'bulan', 'terakhir', 'saya', 'sempat', 'ke', 'sana', 'kali', 'sebelum', 'dan', 'sesudah', 'lahar', 'dingin', 'ke', 'luar', 'pemandangan', 'yang', 'paling', 'mengesankan', 'bagi', 'saya', 'saat', 'melihat', 'view', 'dari', 'desa', 'sidemang', 'juga', 'pura', 'lempuyang', 'dengan', 'gate', 'yang', 'view', 'gunung', 'agungnya', 'sangat', 'terlihat', 'jelas', 'dan', 'indah', 'sekali'], ['salah', 'satu', 'tempat', 'yang', 'harus', 'dikunjungi', 'saat', 'mengunjungi', 'bali', 'masuknya', 'gratis', 'dan', 'juga', 'mudah', 'ditemukan', 'dengan', 'google', 'map'], ['recommended', 'untuk', 'yg', 'ingin', 'melihat', 'keindahan', 'ombak', 'dalam', 'lake', 'kecil', 'sangat', 'menarik', 'dan', 'unik', 'cocok', 'untuk', 'photo', 'prewedding'], ['air', 'terjun', 'sekumpul', 'sekarang', 'menjadi', 'lebih', 'baik', 'lagi', 'terawat', 'dengan', 'baik', 'jadi', 'semakin', 'indah', 'tempat', 'ini', 'dekat', 'dengan', 'air', 'terjun', 'fiji', 'di', 'lemukih'], ['air', 'terjun', 'pemandangan', 'bagus', 'dan', 'penduduk', 'yang', 'ramah', 'lokasi', 'bersih', 'bawa', 'pakain', 'ganti', 'untuk', 'setelah', 'berenang'], ['pada', 'saat', 'musim', 'hujan', 'kedua', 'air', 'terjun', 'ini', 'akan', 'memiliki', 'warna', 'air', 'yang', 'berbeda', 'yang', 'sebelah', 'kiri', 'airnya', 'akan', 'berwarna', 'jernih', 'dan', 'bersih', 'karena', 'berasal', 'dari', 'mata', 'air', 'yang', 'letaknya', 'diatas', 'perbukitan', 'desa', 'sekumpul', 'sedangkan', 'air', 'terjun', 'yang', 'sebelah', 'kanan', 'akan', 'berwarna', 'keruh', 'kecoklatan', 'karena', 'airnya', 'berasal', 'dari', 'sungai', 'yang', 'ada', 'di', 'desa', 'sekumpul', 'sungguh', 'pemandangan', 'yang', 'luar', 'biasa'], ['air', 'terjun', 'terbaik', 'yang', 'pernah', 'saya', 'lihat', 'lokasinya', 'memang', 'susah', 'dijangkau', 'sebaiknya', 'menggunakan', 'motor', 'saja', 'cukup', 'melelahkan', 'juga', 'kesini', 'harus', 'melewati', 'anak', 'tangga', 'tapi', 'terbayar', 'saat', 'datang', 'kesini', 'air', 'terjun', 'yg', 'selalu', 'ada', 'pelangi', 'ada', 'sekitar', 'dikiri', 'dan', 'dikanan', 'itu', 'banyak', 'banget', 'dan', 'semuanya', 'indah', 'kalau', 'udah', 'kesini', 'berasa', 'punya', 'sendiri', 'karena', 'belum', 'banyak', 'orang', 'yang', 'tau', 'dan', 'serius', 'ini', 'bagus', 'banget', 'harus', 'liat', 'langsung', 'sangat', 'recommended'], ['air', 'terjun', 'sekumpul', 'berjarak', 'sekitar', 'km', 'dari', 'kota', 'singaraja', 'sebelum', 'sampai', 'ke', 'lokasi', 'air', 'terjun', 'wisatawan', 'dapat', 'melihat', 'pemandangan', 'sawah', 'terasering', 'dan', 'perbukitan', 'yang', 'menghijau', 'serta', 'pemandangan', 'air', 'terjun', 'dari', 'kejauhan', 'wisatawan', 'dapat', 'melihat', 'keindahan', 'air', 'terjun', 'kembar', 'yang', 'sangat', 'indah', 'dengan', 'ketinggian', 'air', 'terjun', 'sekitar', 'meter', 'cipratan', 'air', 'terjun', 'membuat', 'tubuh', 'kembali', 'segar', 'dan', 'wisatawan', 'dapat', 'berenang', 'di', 'dasar', 'air', 'terjun', 'kondisi', 'sangat', 'alami', 'dan', 'suasana', 'yang', 'tenang', 'membuat', 'obyek', 'wisata', 'ini', 'sesuai', 'untuk', 'refreshing'], ['air', 'terjun', 'yang', 'indah', 'ini', 'terletak', 'di', 'desa', 'lemukih', 'dan', 'sekumpul', 'di', 'daerah', 'singaraja', 'jika', 'ingin', 'berkunjung', 'ke', 'sana', 'disarankan', 'untuk', 'datang', 'dari', 'arah', 'bedugul', 'belok', 'ke', 'arah', 'kanan', 'pertigaan', 'ke', 'desa', 'sekumpul', 'kebetulan', 'pemilik', 'travel', 'yang', 'kami', 'sewa', 'adalah', 'orang', 'singaraja', 'sehingga', 'dia', 'tahu', 'betul', 'akan', 'daerah', 'sana', 'disarankan', 'untuk', 'masuk', 'dari', 'desa', 'lemukih', 'karena', 'meski', 'jalur', 'trekking', 'nya', 'lebih', 'panjang', 'tapi', 'view', 'nya', 'bagus', 'sebelum', 'sampai', 'di', 'tempat', 'parkir', 'motor', 'kita', 'akan', 'melewati', 'areal', 'pesawahan', 'yang', 'menurut', 'saya', 'tidak', 'kalah', 'bagus', 'dengan', 'tegalalang', 'diselingi', 'juga', 'dengan', 'kebun', 'cengkeh', 'manggis', 'dan', 'coklat', 'pakailah', 'tour', 'guide', 'lokal', 'karena', 'akan', 'sangat', 'membantu', 'selama', 'dalam', 'perjalanan', 'disarankan', 'untuk', 'membawa', 'minuman', 'dan', 'nyali', 'berlebih', 'karena', 'trek', 'nya', 'minta', 'ampun', 'kami', 'harus', 'melewati', 'ratusan', 'anak', 'tangga', 'yang', 'sangat', 'curam', 'kemiringan', 'kira', 'kira', 'derajat', 'bayar', 'tiket', 'jika', 'lewat', 'desa', 'lemukih', 'cukup', 'satu', 'kali', 'rp', 'per', 'orang', 'untuk', 'melihat', 'dua', 'lokasi', 'air', 'terjun'], ['yeyy', 'bagi', 'yang', 'suka', 'wisata', 'alam', 'sekumpul', 'waterfall', 'sangat', 'cocok', 'untuk', 'dikunjungi', 'tapi', 'dibutuhkan', 'tenaga', 'extra', 'coy', 'tapi', 'setelah', 'sampai', 'dan', 'melihat', 'air', 'terjun', 'tersebut', 'wahhhh', 'langsung', 'dah', 'menyegarkan', 'mata', 'karena', 'pemandangannya', 'bagus', 'hahaha'], ['air', 'terjun', 'sekumpul', 'adalah', 'salah', 'satu', 'air', 'terjun', 'terindah', 'di', 'buleleng', 'terdiri', 'dari', 'beberapa', 'air', 'terjun', 'yang', 'berkumpul', 'sesuai', 'dengan', 'nama', 'air', 'terjun', 'ini', 'indah'], ['kereeeennnn', 'abiiiisssss', 'dengan', 'beberapa', 'air', 'terjun', 'yg', 'keren', 'dan', 'pemandangan', 'dan', 'suasana', 'sejuk', 'ini', 'menjadikan', 'sekumpul', 'sebagai', 'air', 'terjun', 'terindah'], ['pemandangan', 'yang', 'luar', 'biasa', 'pilihan', 'tepat', 'bagi', 'pecinta', 'alam', 'panorama', 'alam', 'menjadi', 'daya', 'tarik', 'yang', 'luar', 'biasa'], ['kami', 'menginap', 'di', 'salah', 'satu', 'hotel', 'di', 'kawah', 'gunung', 'dekat', 'dengan', 'toya', 'devasya', 'spot', 'pemandian', 'air', 'hangat', 'terkenal', 'di', 'danau', 'batur', 'suasana', 'disana', 'sangat', 'nyaman', 'udaranya', 'masih', 'segar', 'sangat', 'direkomendasikan', 'untuk', 'yang', 'ingin', 'mencari', 'ketenangan'], ['pemandangannya', 'sangat', 'indah', 'dan', 'udaranya', 'juga', 'sangat', 'sejuk', 'pokoknya', 'terbaik', 'lah', 'disana', 'mungkin', 'agak', 'dingin', 'tapi', 'nggak', 'masalah', 'rasa', 'dingin', 'itu', 'akan', 'terobati', 'oleh', 'indahnya', 'pemandangan'], ['air', 'terjun', 'mendengar', 'istilah', 'tersebut', 'pasti', 'sudah', 'tak', 'asing', 'sebagian', 'dari', 'kita', 'pasti', 'pernah', 'mengunjungi', 'tempat', 'tersebut', 'tapi', 'di', 'singaraja', 'ada', 'air', 'terjun', 'yg', 'amat', 'asri', 'dan', 'indah', 'yakni', 'sekumpul', 'lokasinya', 'sekitar', 'jam', 'dari', 'pusat', 'kota', 'biaya', 'masuk', 'hanya', 'rb', 'dan', 'akses', 'menuju', 'air', 'terjunnya', 'sangat', 'mudah', 'recommended', 'banget'], ['pemandangan', 'yang', 'indah', 'beserta', 'dengan', 'sekumpulan', 'air', 'terjun', 'perjalanan', 'melalui', 'denpasar', 'selam', 'jam', 'tracking', 'pada', 'pagi', 'hari', 'membuat', 'suasana', 'lebih', 'nyaman', 'dan', 'sejuk', 'best', 'tracking', 'pada', 'jam', 'pagi'], ['sekumpul', 'adalah', 'nama', 'air', 'terjun', 'yang', 'berada', 'di', 'wilayah', 'kabupaten', 'singaraja', 'tepatanya', 'berada', 'dari', 'jalur', 'kintamani', 'menuju', 'singaraja', 'air', 'terjun', 'ini', 'bukan', 'hanya', 'indah', 'tapi', 'memiliki', 'air', 'yang', 'sangat', 'bening', 'dan', 'suasana', 'disekitarnya', 'juga', 'masih', 'sangat', 'alami', 'jadi', 'bila', 'berkunjung', 'kesana', 'anda', 'juga', 'bisa', 'berphoto', 'dan', 'mandi', 'dialiran', 'sungai', 'yang', 'sangat', 'bersih', 'kawasan', 'ini', 'mudah', 'dijangkau', 'dengan', 'mobil', 'dan', 'dari', 'tempat', 'parkir', 'menuju', 'air', 'terjun', 'anda', 'bisa', 'menggunakan', 'jasa', 'ojek', 'motor', 'yang', 'selalu', 'standby', 'di', 'sana', 'dan', 'selanjutnya', 'anda', 'cukup', 'berjalan', 'menit', 'air', 'terjun', 'sudah', 'terlihat', 'dari', 'atas', 'tebing', 'tapi', 'bila', 'ingin', 'turun', 'kesungai', 'anda', 'harus', 'menuruni', 'tangga', 'sekitar', 'anak', 'tangga', 'tapi', 'lelah', 'akan', 'terbayarkan', 'dengan', 'suasana', 'alam', 'disana', 'jadi', 'kalau', 'ada', 'waktu', 'coba', 'kunjungi', 'obyek', 'yang', 'satu', 'ini', 'pasti', 'wow'], ['lokasi', 'ini', 'dekat', 'dengan', 'pasar', 'sukawati', 'tiket', 'rbu', 'perorang', 'kita', 'langsung', 'bisa', 'nikmati', 'air', 'terjun', 'tanpa', 'harus', 'banyak', 'berjalan', 'rekomen', 'banget'], ['air', 'terjun', 'dengan', 'pemandangan', 'yang', 'bagus', 'airnya', 'jernih', 'disarankan', 'menggunakan', 'sepeda', 'motor', 'karna', 'masih', 'jauh', 'dari', 'tempat', 'beli', 'tiket', 'untuk', 'sampai', 'di', 'tangga', 'pertama', 'kalau', 'jalan', 'kaki', 'kalau', 'menggunakan', 'sepeda', 'motor', 'bisa', 'terus', 'jalan', 'dan', 'dititip', 'di', 'tempat', 'parkir', 'dekat', 'tangga', 'pertama', 'untuk', 'sampai', 'di', 'air', 'terjun', 'harus', 'turun', 'lagi', 'beratus', 'anak', 'tangga', 'melewati', 'jembatan', 'lalu', 'disana', 'ada', 'yang', 'meminta', 'tiket', 'anda', 'lanjut', 'jalan', 'melewati', 'sungai', 'kira', 'maksimal', 'se', 'lutut', 'dan', 'sampai', 'di', 'air', 'terjun', 'kembar', 'yang', 'di', 'kiri', 'lebih', 'jernih', 'hati', 'ponsel', 'anda', 'basah', 'karna', 'dari', 'bawah', 'airnya', 'deras', 'jadi', 'embunnya', 'banyak', 'gunakan', 'casing', 'anti', 'air', 'lebih', 'baik', 'dan', 'bisa', 'foto', 'terus', 'dengan', 'view', 'yang', 'bagus', 'tapi', 'lebih', 'bagus', 'lanjut', 'mendekat', 'tepat', 'di', 'bawah', 'air', 'jatuh', 'membentuk', 'kolam', 'sampai', 'tepat', 'di', 'bawah', 'jatuhnya', 'air', 'anda', 'bisa', 'berenang', 'mandi', 'foto', 'semua', 'capek', 'terbayar', 'kok', 'dengan', 'apa', 'yang', 'didapat', 'yaitu', 'pemandangan', 'yang', 'luar', 'biasa', 'rekomen', 'banget'], ['monyet', 'disini', 'cukup', 'nakal', 'suka', 'mengambil', 'barang', 'barang', 'dan', 'agak', 'galak', 'karena', 'sewaktu', 'kesana', 'monyet', 'menggigit', 'salah', 'satu', 'turis', 'jangan', 'mendukung', 'tempat', 'ini'], ['pantai', 'indah', 'ini', 'lokasi', 'nya', 'cukup', 'terpencil', 'belum', 'banyak', 'orang', 'tahu', 'tetapi', 'untuk', 'sampai', 'kesini', 'harus', 'menuruni', 'anak', 'tangga', 'yang', 'banyak', 'sekali', 'jumlahnya', 'dan', 'ketika', 'kembali', 'ke', 'atas', 'kami', 'kelelahan', 'sekali', 'menaiki', 'anak', 'tangganya', 'saya', 'merasa', 'tempat', 'kurang', 'begitu', 'enak', 'duduk', 'ditepi', 'pantai'], ['saya', 'telah', 'melihat', 'pasar', 'malam', 'yang', 'jauh', 'lebih', 'baik', 'dari', 'ini', 'ini', 'jelas', 'di', 'mana', 'penduduk', 'setempat', 'menjajakan', 'pakaian', 'dan', 'mainan', 'untuk', 'anak', 'anak', 'yang', 'sangat', 'mengganggu', 'makanan', 'di', 'sini', 'kurang', 'begitu', 'enak', 'tapi', 'jujur', 'ini', 'patut', 'dilewati', 'saja', 'jika', 'anda', 'memiliki', 'waktu', 'terbatas', 'di', 'ubud'], ['salah', 'satu', 'jalan', 'menuju', 'pantai', 'legian', 'jalannya', 'lumayan', 'sempit', 'harap', 'hati', 'hati', 'selalu', 'saat', 'melintasi', 'jalan', 'ini', 'kurang', 'nyaman', 'untuk', 'berjalan', 'kali', 'pantai', 'di', 'sini'], ['saya', 'ke', 'pantai', 'dreamland', 'pada', 'awal', 'desember', 'agak', 'mengejutkan', 'karena', 'pada', 'tahun', 'saya', 'ke', 'pantai', 'dreamland', 'kondisinya', 'jauh', 'lebih', 'bersih', 'dahulu', 'sekarang', 'banyak', 'sampah', 'kotor', 'dan', 'tidak', 'terawat', 'dengan', 'baik', 'kurang', 'nyaman', 'buat', 'berenang'], ['pantai', 'petitenget', 'banyak', 'dikunjungi', 'wisatawan', 'terutama', 'wisatawan', 'yang', 'tinggal', 'di', 'hotel', 'sekitar', 'pantai', 'ini', 'karena', 'banyak', 'pengunjung', 'pantai', 'ini', 'tidak', 'sebersih', 'dulu', 'sekaran', 'pantai', 'kotor', 'tidak', 'terawat', 'pantai', 'tak', 'nyaman', 'tidak', 'seperti', 'dulu'], ['sekali', 'aja', 'mampir', 'ke', 'sini', 'pantainya', 'biasanya', 'gak', 'ada', 'bagus', 'bagusnya', 'gak', 'menarik', 'kesini', 'cuma', 'mau', 'makan', 'di', 'warung', 'mak', 'beng', 'aja', 'kecewa'], ['menurut', 'saya', 'pantainya', 'biasa', 'saja', 'gak', 'menarik', 'untuk', 'lihat', 'sunset', 'masih', 'lebih', 'asik', 'di', 'seminyak', 'kesini', 'mampir', 'sekalian', 'lewat', 'aja'], ['ya', 'begitulah', 'gak', 'banyak', 'lagi', 'spot', 'bagus', 'untuk', 'kongkow', 'pantainya', 'udah', 'banyak', 'yg', 'dikapling', 'oleh', 'hotel', 'villa', 'dan', 'gak', 'menarik', 'sedikit', 'kecewa'], ['letaknya', 'di', 'utara', 'kerobokan', 'pantainya', 'berpasir', 'hitam', 'tidak', 'begitu', 'ramai', 'turis', 'menurut', 'saya', 'biasa', 'saja', 'gak', 'bagus', 'masih', 'lebih', 'indah', 'pantai', 'kuta', 'dan', 'legian'], ['pantainya', 'biasa', 'saja', 'lebih', 'bagus', 'di', 'dreamland', 'banyak', 'nelayan', 'kotor', 'dan', 'kurang', 'pas', 'viewnya', 'gak', 'bagus', 'sangat', 'disarankan', 'pagi', 'saja', 'kalau', 'nekat', 'kemari'], ['buat', 'nyebrang', 'ke', 'makam', 'terunyan', 'perlu', 'bayar', 'di', 'loket', 'saja', 'yg', 'resmi', 'tp', 'not', 'recomended', 'banget', 'dah', 'skr', 'tmptnya', 'begitu', 'aja', 'pas', 'nyebrang', 'membosankan', 'pantesan', 'sepi', 'karena', 'gak', 'bagus', 'dan', 'gak', 'menarik'], ['terlalu', 'macet', 'dan', 'saya', 'perlu', 'jam', 'dari', 'waktu', 'yang', 'sebenarnya', 'menit', 'menurut', 'supir', 'pribadi', 'saya', 'mending', 'jalan', 'kesini', 'dengan', 'menggunakan', 'motor', 'jadi', 'perjalanan', 'saya', 'kali', 'kini', 'nggak', 'begitu', 'berkesan', 'karena', 'macet', 'parah'], ['tidak', 'ada', 'yang', 'menarik', 'dari', 'monumen', 'yang', 'berisikan', 'nama', 'para', 'korban', 'bom', 'bali', 'pertama', 'monumen', 'ini', 'pada', 'akhirnya', 'hanya', 'berdiri', 'diantara', 'keramaian', 'jalan', 'legian', 'kuta', 'bali', 'menurut', 'saya', 'nggak', 'begitu', 'berkesan'], ['k', 'tolong', 'hindari', 'kuil', 'ini', 'dengan', 'cara', 'apa', 'pun', 'ini', 'adalah', 'salah', 'satu', 'perangkap', 'wisata', 'besar', 'nggak', 'begitu', 'berkesan', 'seperti', 'candi', 'lain', 'di', 'bali', 'sebenarnya', 'tidak', 'banyak', 'yang', 'bisa', 'dilihat', 'di', 'dalam', 'dan', 'anda', 'akan', 'ditipu', 'dari', 'kiri', 'ke', 'kanan', 'bahkan', 'mengambil', 'nafas', 'di', 'sana', 'akan', 'dikenakan', 'biaya', 'uang', 'pelajaran', 'mahal', 'dan', 'benar', 'benar', 'pengalaman', 'buruk'], ['saya', 'yakin', 'pantai', 'ini', 'tidak', 'lebih', 'bagus', 'di', 'sanur', 'pasirnya', 'kehitaman', 'banyak', 'kerang', 'yang', 'pecah', 'koral', 'dan', 'barang', 'barang', 'lainnya', 'serta', 'setinggi', 'lutut', 'sekitar', 'setengah', 'sebelum', 'arus', 'bawah', 'dan', 'karang', 'nggak', 'begitu', 'berkesan'], ['mengunjungi', 'tempat', 'ini', 'beberapa', 'kali', 'nggak', 'begitu', 'berkesan', 'dan', 'kemarin', 'kita', 'mendapat', 'informasi', 'baru', 'dari', 'ticketing', 'minimum', 'spend', 'k', 'bisa', 'buat', 'food', 'drink', 'dan', 'towel', 'sampai', 'didalam', 'infonya', 'berubah', 'lagi', 'jadi', 'food', 'only', 'oke', 'gak', 'apa', 'apa', 'karena', 'kemungkinan', 'kita', 'akan', 'belanja', 'lebih', 'kita', 'bukan', 'typical', 'orang', 'yang', 'hanya', 'suka', 'selfi', 'yang', 'sangat', 'disayangkan', 'adalah', 'attitude', 'waitress', 'saat', 'menghadapi', 'complaint', 'kita', 'butuh', 'waktu', 'lebih', 'dari', 'mt', 'untuk', 'mencari', 'waitress', 'dan', 'disaat', 'kita', 'dapet', 'waitressnya', 'tiba', 'tiba', 'langsung', 'bawain', 'kita', 'bill', 'dan', 'suruh', 'bayar', 'tanpa', 'bertanya', 'komentar', 'kita', 'terlebih', 'dahulu', 'kita', 'tanya', 'manager', 'beliau', 'minta', 'maaf', 'dan', 'menjelaskan', 'belakang', 'kitchen', 'mereka', 'jorok', 'dan', 'menawarkan', 'makanan', 'untuk', 'diganti', 'kita', 'tolak', 'karena', 'kita', 'sudah', 'kehilangan', 'nafsu', 'makan', 'juga', 'berpikiran', 'kitchennya', 'pasti', 'jorok', 'juga', 'benar', 'benar', 'saya', 'kecewa', 'dengan', 'staff', 'nya'], ['mengunjungi', 'mall', 'ini', 'lagi', 'setelah', 'sekian', 'lama', 'nggak', 'begitu', 'berkesan', 'mall', 'ini', 'semakin', 'nggak', 'menarik', 'barang', 'yang', 'dijual', 'sama', 'itu', 'itu', 'saja', 'susananya', 'juga', 'semakin', 'sepi'], ['mungkin', 'karena', 'pas', 'datang', 'kesini', 'waktu', 'liburan', 'high', 'season', 'pantainya', 'ramai', 'sekali', 'parkir', 'semrawut', 'suasananya', 'tidak', 'begitu', 'enak', 'jadinya', 'kurang', 'bisa', 'menikmati'], ['lukisan', 'nya', 'cocok', 'utk', 'foto', 'hanya', 'ac', 'nya', 'tidak', 'dingin', 'dan', 'kurang', 'nyaman', 'tempatnya', 'juga', 'kurang', 'begitu', 'enak', 'fasilitas', 'toilet', 'jg', 'tidak', 'terawat', 'utk', 'harga', 'rb', 'dgn', 'fasilitas', 'seperti', 'itu', 'saya', 'pikir', 'kurang', 'layak', 'dan', 'kurang', 'bisa', 'menikmati', 'melihat', 'lukisan', 'lukisan'], ['dahulu', 'kami', 'sering', 'ke', 'pantai', 'nusa', 'dua', 'tetapi', 'sekarang', 'kurang', 'baik', 'dan', 'kurang', 'bersih', 'apa', 'mungkin', 'karena', 'banyak', 'kotoran', 'di', 'pasir', 'nya', 'pada', 'saat', 'kami', 'datang', 'sungguh', 'sampah', 'ini', 'buat', 'tidak', 'nyaman', 'harus', 'diperhatikan', 'agar', 'wisatawan', 'tetap', 'mau', 'ke', 'sana']]\n"
          ]
        }
      ]
    },
    {
      "cell_type": "code",
      "metadata": {
        "colab": {
          "base_uri": "https://localhost:8080/"
        },
        "id": "sbY33_ohEF36",
        "outputId": "341f3994-31f0-4953-e46e-bedebdeea6dd"
      },
      "source": [
        "# kode program menggunakan NLTK untuk melakukan tokenization menggunakan TweetTokenizer\n",
        "# tokenize\n",
        "from nltk.tokenize import TweetTokenizer\n",
        "tknzr  = TweetTokenizer()\n",
        "tokens2 = [tknzr.tokenize(tweet) for tweet in data_casefolding]\n",
        "tokens2 [:1]"
      ],
      "execution_count": null,
      "outputs": [
        {
          "output_type": "execute_result",
          "data": {
            "text/plain": [
              "[['dalam',\n",
              "  'beberapa',\n",
              "  'bulan',\n",
              "  'terakhir',\n",
              "  'saya',\n",
              "  'sempat',\n",
              "  'ke',\n",
              "  'sana',\n",
              "  '3',\n",
              "  'kali',\n",
              "  '.',\n",
              "  'sebelum',\n",
              "  'dan',\n",
              "  'sesudah',\n",
              "  'lahar',\n",
              "  'dingin',\n",
              "  'ke',\n",
              "  'luar',\n",
              "  '.',\n",
              "  'pemandangan',\n",
              "  'yang',\n",
              "  'paling',\n",
              "  'mengesankan',\n",
              "  'bagi',\n",
              "  'saya',\n",
              "  'saat',\n",
              "  'melihat',\n",
              "  'view',\n",
              "  'dari',\n",
              "  'desa',\n",
              "  'sidemang',\n",
              "  'juga',\n",
              "  'pura',\n",
              "  'lempuyang',\n",
              "  'dengan',\n",
              "  'gate',\n",
              "  'yang',\n",
              "  'view',\n",
              "  'gunung',\n",
              "  'agungnya',\n",
              "  'sangat',\n",
              "  'terlihat',\n",
              "  'jelas',\n",
              "  'dan',\n",
              "  'indah',\n",
              "  'sekali']]"
            ]
          },
          "metadata": {},
          "execution_count": 13
        }
      ]
    },
    {
      "cell_type": "markdown",
      "metadata": {
        "id": "5Wlahaj8FDtF"
      },
      "source": [
        "## Preprocessing – Stopword Removal\n",
        "\n",
        "Landasan Teori Stopword Removal\n",
        "> Stopword Removal merupakan tahap pengambilan kata-kata penting dan membuang kata-kata yang dianggap tidak penting. Cara untuk membuang kata yang tidak penting disebut stopword removal. Stopword removal bertujuan untuk menghilangkan kata-kata yang sering muncul namun tidak memiliki kontribusi dalam proses analisis data. Stopword removal berusaha memperkecil dimensi data dan mempercepat waktu komputasi (Symeonidis dkk., 2018). Contoh kata yang tidak penting di bahasa Indonesia seperti kata “dan”, ”yang”, ”di”, ”ke”.\n",
        "\n",
        "> Proses **filtering** selain dapat dilakukan pada saat proses tokenization, proses **filtering** juga dapat dilakukan pada saat proses **stopword removal**. Artinya jika kapan dilakukan proses **filtering** itu menjadi pilihan developer, pada saat **tokenization** atau pada saat **stopword removal**.\n",
        "\n",
        "Proses stopword removal dapat dilakukan dengan 2 cara, yaitu:\n",
        "1. Menggunakan library Sastrawi\n",
        "2. Menggunakan kamus berisi stopword yang dibuat oleh developer"
      ]
    },
    {
      "cell_type": "code",
      "metadata": {
        "colab": {
          "base_uri": "https://localhost:8080/"
        },
        "id": "Ch70AKq9FCmV",
        "outputId": "b36027b0-a353-4b76-82d4-11d088cc1dd3"
      },
      "source": [
        "# Install Library Sastrawi\n",
        "!pip install Sastrawi"
      ],
      "execution_count": null,
      "outputs": [
        {
          "output_type": "stream",
          "name": "stdout",
          "text": [
            "Collecting Sastrawi\n",
            "  Downloading Sastrawi-1.0.1-py2.py3-none-any.whl (209 kB)\n",
            "\u001b[?25l\r\u001b[K     |█▋                              | 10 kB 21.2 MB/s eta 0:00:01\r\u001b[K     |███▏                            | 20 kB 27.0 MB/s eta 0:00:01\r\u001b[K     |████▊                           | 30 kB 12.2 MB/s eta 0:00:01\r\u001b[K     |██████▎                         | 40 kB 9.4 MB/s eta 0:00:01\r\u001b[K     |███████▉                        | 51 kB 5.2 MB/s eta 0:00:01\r\u001b[K     |█████████▍                      | 61 kB 5.8 MB/s eta 0:00:01\r\u001b[K     |███████████                     | 71 kB 5.5 MB/s eta 0:00:01\r\u001b[K     |████████████▌                   | 81 kB 6.1 MB/s eta 0:00:01\r\u001b[K     |██████████████                  | 92 kB 4.7 MB/s eta 0:00:01\r\u001b[K     |███████████████▋                | 102 kB 5.1 MB/s eta 0:00:01\r\u001b[K     |█████████████████▏              | 112 kB 5.1 MB/s eta 0:00:01\r\u001b[K     |██████████████████▊             | 122 kB 5.1 MB/s eta 0:00:01\r\u001b[K     |████████████████████▎           | 133 kB 5.1 MB/s eta 0:00:01\r\u001b[K     |█████████████████████▉          | 143 kB 5.1 MB/s eta 0:00:01\r\u001b[K     |███████████████████████▍        | 153 kB 5.1 MB/s eta 0:00:01\r\u001b[K     |█████████████████████████       | 163 kB 5.1 MB/s eta 0:00:01\r\u001b[K     |██████████████████████████▋     | 174 kB 5.1 MB/s eta 0:00:01\r\u001b[K     |████████████████████████████▏   | 184 kB 5.1 MB/s eta 0:00:01\r\u001b[K     |█████████████████████████████▊  | 194 kB 5.1 MB/s eta 0:00:01\r\u001b[K     |███████████████████████████████▎| 204 kB 5.1 MB/s eta 0:00:01\r\u001b[K     |████████████████████████████████| 209 kB 5.1 MB/s \n",
            "\u001b[?25hInstalling collected packages: Sastrawi\n",
            "Successfully installed Sastrawi-1.0.1\n"
          ]
        }
      ]
    },
    {
      "cell_type": "code",
      "metadata": {
        "id": "5D3wLZCeH-tr"
      },
      "source": [
        "# Import Library yang diperlukan\n",
        "from Sastrawi.StopWordRemover.StopWordRemoverFactory import StopWordRemoverFactory\n",
        "from Sastrawi.Stemmer.StemmerFactory import StemmerFactory"
      ],
      "execution_count": null,
      "outputs": []
    },
    {
      "cell_type": "code",
      "metadata": {
        "colab": {
          "base_uri": "https://localhost:8080/"
        },
        "id": "7fBRdPw9IW18",
        "outputId": "3412bccd-944d-401b-a1be-593606f3059f"
      },
      "source": [
        "# kode program untuk melakukan stopword removal tanpa filtering\n",
        "import re \n",
        "factory = StopWordRemoverFactory()\n",
        "ind_stopword = factory.get_stop_words()\n",
        "def stopword(line):\n",
        "  temp = list()\n",
        "  for word in line:\n",
        "    if (len(word)>3):\n",
        "      temp.append(word)\n",
        "  return temp\n",
        "\n",
        "ulasan_bersih = [stopword (line) for line in data_tokens]\n",
        "print(ulasan_bersih)"
      ],
      "execution_count": null,
      "outputs": [
        {
          "output_type": "stream",
          "name": "stdout",
          "text": [
            "[['dalam', 'beberapa', 'bulan', 'terakhir', 'saya', 'sempat', 'sana', 'kali', 'sebelum', 'sesudah', 'lahar', 'dingin', 'luar', 'pemandangan', 'yang', 'paling', 'mengesankan', 'bagi', 'saya', 'saat', 'melihat', 'view', 'dari', 'desa', 'sidemang', 'juga', 'pura', 'lempuyang', 'dengan', 'gate', 'yang', 'view', 'gunung', 'agungnya', 'sangat', 'terlihat', 'jelas', 'indah', 'sekali'], ['salah', 'satu', 'tempat', 'yang', 'harus', 'dikunjungi', 'saat', 'mengunjungi', 'bali', 'masuknya', 'gratis', 'juga', 'mudah', 'ditemukan', 'dengan', 'google'], ['recommended', 'untuk', 'ingin', 'melihat', 'keindahan', 'ombak', 'dalam', 'lake', 'kecil', 'sangat', 'menarik', 'unik', 'cocok', 'untuk', 'photo', 'prewedding'], ['terjun', 'sekumpul', 'sekarang', 'menjadi', 'lebih', 'baik', 'lagi', 'terawat', 'dengan', 'baik', 'jadi', 'semakin', 'indah', 'tempat', 'dekat', 'dengan', 'terjun', 'fiji', 'lemukih'], ['terjun', 'pemandangan', 'bagus', 'penduduk', 'yang', 'ramah', 'lokasi', 'bersih', 'bawa', 'pakain', 'ganti', 'untuk', 'setelah', 'berenang'], ['pada', 'saat', 'musim', 'hujan', 'kedua', 'terjun', 'akan', 'memiliki', 'warna', 'yang', 'berbeda', 'yang', 'sebelah', 'kiri', 'airnya', 'akan', 'berwarna', 'jernih', 'bersih', 'karena', 'berasal', 'dari', 'mata', 'yang', 'letaknya', 'diatas', 'perbukitan', 'desa', 'sekumpul', 'sedangkan', 'terjun', 'yang', 'sebelah', 'kanan', 'akan', 'berwarna', 'keruh', 'kecoklatan', 'karena', 'airnya', 'berasal', 'dari', 'sungai', 'yang', 'desa', 'sekumpul', 'sungguh', 'pemandangan', 'yang', 'luar', 'biasa'], ['terjun', 'terbaik', 'yang', 'pernah', 'saya', 'lihat', 'lokasinya', 'memang', 'susah', 'dijangkau', 'sebaiknya', 'menggunakan', 'motor', 'saja', 'cukup', 'melelahkan', 'juga', 'kesini', 'harus', 'melewati', 'anak', 'tangga', 'tapi', 'terbayar', 'saat', 'datang', 'kesini', 'terjun', 'selalu', 'pelangi', 'sekitar', 'dikiri', 'dikanan', 'banyak', 'banget', 'semuanya', 'indah', 'kalau', 'udah', 'kesini', 'berasa', 'punya', 'sendiri', 'karena', 'belum', 'banyak', 'orang', 'yang', 'serius', 'bagus', 'banget', 'harus', 'liat', 'langsung', 'sangat', 'recommended'], ['terjun', 'sekumpul', 'berjarak', 'sekitar', 'dari', 'kota', 'singaraja', 'sebelum', 'sampai', 'lokasi', 'terjun', 'wisatawan', 'dapat', 'melihat', 'pemandangan', 'sawah', 'terasering', 'perbukitan', 'yang', 'menghijau', 'serta', 'pemandangan', 'terjun', 'dari', 'kejauhan', 'wisatawan', 'dapat', 'melihat', 'keindahan', 'terjun', 'kembar', 'yang', 'sangat', 'indah', 'dengan', 'ketinggian', 'terjun', 'sekitar', 'meter', 'cipratan', 'terjun', 'membuat', 'tubuh', 'kembali', 'segar', 'wisatawan', 'dapat', 'berenang', 'dasar', 'terjun', 'kondisi', 'sangat', 'alami', 'suasana', 'yang', 'tenang', 'membuat', 'obyek', 'wisata', 'sesuai', 'untuk', 'refreshing'], ['terjun', 'yang', 'indah', 'terletak', 'desa', 'lemukih', 'sekumpul', 'daerah', 'singaraja', 'jika', 'ingin', 'berkunjung', 'sana', 'disarankan', 'untuk', 'datang', 'dari', 'arah', 'bedugul', 'belok', 'arah', 'kanan', 'pertigaan', 'desa', 'sekumpul', 'kebetulan', 'pemilik', 'travel', 'yang', 'kami', 'sewa', 'adalah', 'orang', 'singaraja', 'sehingga', 'tahu', 'betul', 'akan', 'daerah', 'sana', 'disarankan', 'untuk', 'masuk', 'dari', 'desa', 'lemukih', 'karena', 'meski', 'jalur', 'trekking', 'lebih', 'panjang', 'tapi', 'view', 'bagus', 'sebelum', 'sampai', 'tempat', 'parkir', 'motor', 'kita', 'akan', 'melewati', 'areal', 'pesawahan', 'yang', 'menurut', 'saya', 'tidak', 'kalah', 'bagus', 'dengan', 'tegalalang', 'diselingi', 'juga', 'dengan', 'kebun', 'cengkeh', 'manggis', 'coklat', 'pakailah', 'tour', 'guide', 'lokal', 'karena', 'akan', 'sangat', 'membantu', 'selama', 'dalam', 'perjalanan', 'disarankan', 'untuk', 'membawa', 'minuman', 'nyali', 'berlebih', 'karena', 'trek', 'minta', 'ampun', 'kami', 'harus', 'melewati', 'ratusan', 'anak', 'tangga', 'yang', 'sangat', 'curam', 'kemiringan', 'kira', 'kira', 'derajat', 'bayar', 'tiket', 'jika', 'lewat', 'desa', 'lemukih', 'cukup', 'satu', 'kali', 'orang', 'untuk', 'melihat', 'lokasi', 'terjun'], ['yeyy', 'bagi', 'yang', 'suka', 'wisata', 'alam', 'sekumpul', 'waterfall', 'sangat', 'cocok', 'untuk', 'dikunjungi', 'tapi', 'dibutuhkan', 'tenaga', 'extra', 'tapi', 'setelah', 'sampai', 'melihat', 'terjun', 'tersebut', 'wahhhh', 'langsung', 'menyegarkan', 'mata', 'karena', 'pemandangannya', 'bagus', 'hahaha'], ['terjun', 'sekumpul', 'adalah', 'salah', 'satu', 'terjun', 'terindah', 'buleleng', 'terdiri', 'dari', 'beberapa', 'terjun', 'yang', 'berkumpul', 'sesuai', 'dengan', 'nama', 'terjun', 'indah'], ['kereeeennnn', 'abiiiisssss', 'dengan', 'beberapa', 'terjun', 'keren', 'pemandangan', 'suasana', 'sejuk', 'menjadikan', 'sekumpul', 'sebagai', 'terjun', 'terindah'], ['pemandangan', 'yang', 'luar', 'biasa', 'pilihan', 'tepat', 'bagi', 'pecinta', 'alam', 'panorama', 'alam', 'menjadi', 'daya', 'tarik', 'yang', 'luar', 'biasa'], ['kami', 'menginap', 'salah', 'satu', 'hotel', 'kawah', 'gunung', 'dekat', 'dengan', 'toya', 'devasya', 'spot', 'pemandian', 'hangat', 'terkenal', 'danau', 'batur', 'suasana', 'disana', 'sangat', 'nyaman', 'udaranya', 'masih', 'segar', 'sangat', 'direkomendasikan', 'untuk', 'yang', 'ingin', 'mencari', 'ketenangan'], ['pemandangannya', 'sangat', 'indah', 'udaranya', 'juga', 'sangat', 'sejuk', 'pokoknya', 'terbaik', 'disana', 'mungkin', 'agak', 'dingin', 'tapi', 'nggak', 'masalah', 'rasa', 'dingin', 'akan', 'terobati', 'oleh', 'indahnya', 'pemandangan'], ['terjun', 'mendengar', 'istilah', 'tersebut', 'pasti', 'sudah', 'asing', 'sebagian', 'dari', 'kita', 'pasti', 'pernah', 'mengunjungi', 'tempat', 'tersebut', 'tapi', 'singaraja', 'terjun', 'amat', 'asri', 'indah', 'yakni', 'sekumpul', 'lokasinya', 'sekitar', 'dari', 'pusat', 'kota', 'biaya', 'masuk', 'hanya', 'akses', 'menuju', 'terjunnya', 'sangat', 'mudah', 'recommended', 'banget'], ['pemandangan', 'yang', 'indah', 'beserta', 'dengan', 'sekumpulan', 'terjun', 'perjalanan', 'melalui', 'denpasar', 'selam', 'tracking', 'pada', 'pagi', 'hari', 'membuat', 'suasana', 'lebih', 'nyaman', 'sejuk', 'best', 'tracking', 'pada', 'pagi'], ['sekumpul', 'adalah', 'nama', 'terjun', 'yang', 'berada', 'wilayah', 'kabupaten', 'singaraja', 'tepatanya', 'berada', 'dari', 'jalur', 'kintamani', 'menuju', 'singaraja', 'terjun', 'bukan', 'hanya', 'indah', 'tapi', 'memiliki', 'yang', 'sangat', 'bening', 'suasana', 'disekitarnya', 'juga', 'masih', 'sangat', 'alami', 'jadi', 'bila', 'berkunjung', 'kesana', 'anda', 'juga', 'bisa', 'berphoto', 'mandi', 'dialiran', 'sungai', 'yang', 'sangat', 'bersih', 'kawasan', 'mudah', 'dijangkau', 'dengan', 'mobil', 'dari', 'tempat', 'parkir', 'menuju', 'terjun', 'anda', 'bisa', 'menggunakan', 'jasa', 'ojek', 'motor', 'yang', 'selalu', 'standby', 'sana', 'selanjutnya', 'anda', 'cukup', 'berjalan', 'menit', 'terjun', 'sudah', 'terlihat', 'dari', 'atas', 'tebing', 'tapi', 'bila', 'ingin', 'turun', 'kesungai', 'anda', 'harus', 'menuruni', 'tangga', 'sekitar', 'anak', 'tangga', 'tapi', 'lelah', 'akan', 'terbayarkan', 'dengan', 'suasana', 'alam', 'disana', 'jadi', 'kalau', 'waktu', 'coba', 'kunjungi', 'obyek', 'yang', 'satu', 'pasti'], ['lokasi', 'dekat', 'dengan', 'pasar', 'sukawati', 'tiket', 'perorang', 'kita', 'langsung', 'bisa', 'nikmati', 'terjun', 'tanpa', 'harus', 'banyak', 'berjalan', 'rekomen', 'banget'], ['terjun', 'dengan', 'pemandangan', 'yang', 'bagus', 'airnya', 'jernih', 'disarankan', 'menggunakan', 'sepeda', 'motor', 'karna', 'masih', 'jauh', 'dari', 'tempat', 'beli', 'tiket', 'untuk', 'sampai', 'tangga', 'pertama', 'kalau', 'jalan', 'kaki', 'kalau', 'menggunakan', 'sepeda', 'motor', 'bisa', 'terus', 'jalan', 'dititip', 'tempat', 'parkir', 'dekat', 'tangga', 'pertama', 'untuk', 'sampai', 'terjun', 'harus', 'turun', 'lagi', 'beratus', 'anak', 'tangga', 'melewati', 'jembatan', 'lalu', 'disana', 'yang', 'meminta', 'tiket', 'anda', 'lanjut', 'jalan', 'melewati', 'sungai', 'kira', 'maksimal', 'lutut', 'sampai', 'terjun', 'kembar', 'yang', 'kiri', 'lebih', 'jernih', 'hati', 'ponsel', 'anda', 'basah', 'karna', 'dari', 'bawah', 'airnya', 'deras', 'jadi', 'embunnya', 'banyak', 'gunakan', 'casing', 'anti', 'lebih', 'baik', 'bisa', 'foto', 'terus', 'dengan', 'view', 'yang', 'bagus', 'tapi', 'lebih', 'bagus', 'lanjut', 'mendekat', 'tepat', 'bawah', 'jatuh', 'membentuk', 'kolam', 'sampai', 'tepat', 'bawah', 'jatuhnya', 'anda', 'bisa', 'berenang', 'mandi', 'foto', 'semua', 'capek', 'terbayar', 'dengan', 'yang', 'didapat', 'yaitu', 'pemandangan', 'yang', 'luar', 'biasa', 'rekomen', 'banget'], ['monyet', 'disini', 'cukup', 'nakal', 'suka', 'mengambil', 'barang', 'barang', 'agak', 'galak', 'karena', 'sewaktu', 'kesana', 'monyet', 'menggigit', 'salah', 'satu', 'turis', 'jangan', 'mendukung', 'tempat'], ['pantai', 'indah', 'lokasi', 'cukup', 'terpencil', 'belum', 'banyak', 'orang', 'tahu', 'tetapi', 'untuk', 'sampai', 'kesini', 'harus', 'menuruni', 'anak', 'tangga', 'yang', 'banyak', 'sekali', 'jumlahnya', 'ketika', 'kembali', 'atas', 'kami', 'kelelahan', 'sekali', 'menaiki', 'anak', 'tangganya', 'saya', 'merasa', 'tempat', 'kurang', 'begitu', 'enak', 'duduk', 'ditepi', 'pantai'], ['saya', 'telah', 'melihat', 'pasar', 'malam', 'yang', 'jauh', 'lebih', 'baik', 'dari', 'jelas', 'mana', 'penduduk', 'setempat', 'menjajakan', 'pakaian', 'mainan', 'untuk', 'anak', 'anak', 'yang', 'sangat', 'mengganggu', 'makanan', 'sini', 'kurang', 'begitu', 'enak', 'tapi', 'jujur', 'patut', 'dilewati', 'saja', 'jika', 'anda', 'memiliki', 'waktu', 'terbatas', 'ubud'], ['salah', 'satu', 'jalan', 'menuju', 'pantai', 'legian', 'jalannya', 'lumayan', 'sempit', 'harap', 'hati', 'hati', 'selalu', 'saat', 'melintasi', 'jalan', 'kurang', 'nyaman', 'untuk', 'berjalan', 'kali', 'pantai', 'sini'], ['saya', 'pantai', 'dreamland', 'pada', 'awal', 'desember', 'agak', 'mengejutkan', 'karena', 'pada', 'tahun', 'saya', 'pantai', 'dreamland', 'kondisinya', 'jauh', 'lebih', 'bersih', 'dahulu', 'sekarang', 'banyak', 'sampah', 'kotor', 'tidak', 'terawat', 'dengan', 'baik', 'kurang', 'nyaman', 'buat', 'berenang'], ['pantai', 'petitenget', 'banyak', 'dikunjungi', 'wisatawan', 'terutama', 'wisatawan', 'yang', 'tinggal', 'hotel', 'sekitar', 'pantai', 'karena', 'banyak', 'pengunjung', 'pantai', 'tidak', 'sebersih', 'dulu', 'sekaran', 'pantai', 'kotor', 'tidak', 'terawat', 'pantai', 'nyaman', 'tidak', 'seperti', 'dulu'], ['sekali', 'mampir', 'sini', 'pantainya', 'biasanya', 'bagus', 'bagusnya', 'menarik', 'kesini', 'cuma', 'makan', 'warung', 'beng', 'kecewa'], ['menurut', 'saya', 'pantainya', 'biasa', 'saja', 'menarik', 'untuk', 'lihat', 'sunset', 'masih', 'lebih', 'asik', 'seminyak', 'kesini', 'mampir', 'sekalian', 'lewat'], ['begitulah', 'banyak', 'lagi', 'spot', 'bagus', 'untuk', 'kongkow', 'pantainya', 'udah', 'banyak', 'dikapling', 'oleh', 'hotel', 'villa', 'menarik', 'sedikit', 'kecewa'], ['letaknya', 'utara', 'kerobokan', 'pantainya', 'berpasir', 'hitam', 'tidak', 'begitu', 'ramai', 'turis', 'menurut', 'saya', 'biasa', 'saja', 'bagus', 'masih', 'lebih', 'indah', 'pantai', 'kuta', 'legian'], ['pantainya', 'biasa', 'saja', 'lebih', 'bagus', 'dreamland', 'banyak', 'nelayan', 'kotor', 'kurang', 'viewnya', 'bagus', 'sangat', 'disarankan', 'pagi', 'saja', 'kalau', 'nekat', 'kemari'], ['buat', 'nyebrang', 'makam', 'terunyan', 'perlu', 'bayar', 'loket', 'saja', 'resmi', 'recomended', 'banget', 'tmptnya', 'begitu', 'nyebrang', 'membosankan', 'pantesan', 'sepi', 'karena', 'bagus', 'menarik'], ['terlalu', 'macet', 'saya', 'perlu', 'dari', 'waktu', 'yang', 'sebenarnya', 'menit', 'menurut', 'supir', 'pribadi', 'saya', 'mending', 'jalan', 'kesini', 'dengan', 'menggunakan', 'motor', 'jadi', 'perjalanan', 'saya', 'kali', 'kini', 'nggak', 'begitu', 'berkesan', 'karena', 'macet', 'parah'], ['tidak', 'yang', 'menarik', 'dari', 'monumen', 'yang', 'berisikan', 'nama', 'para', 'korban', 'bali', 'pertama', 'monumen', 'pada', 'akhirnya', 'hanya', 'berdiri', 'diantara', 'keramaian', 'jalan', 'legian', 'kuta', 'bali', 'menurut', 'saya', 'nggak', 'begitu', 'berkesan'], ['tolong', 'hindari', 'kuil', 'dengan', 'cara', 'adalah', 'salah', 'satu', 'perangkap', 'wisata', 'besar', 'nggak', 'begitu', 'berkesan', 'seperti', 'candi', 'lain', 'bali', 'sebenarnya', 'tidak', 'banyak', 'yang', 'bisa', 'dilihat', 'dalam', 'anda', 'akan', 'ditipu', 'dari', 'kiri', 'kanan', 'bahkan', 'mengambil', 'nafas', 'sana', 'akan', 'dikenakan', 'biaya', 'uang', 'pelajaran', 'mahal', 'benar', 'benar', 'pengalaman', 'buruk'], ['saya', 'yakin', 'pantai', 'tidak', 'lebih', 'bagus', 'sanur', 'pasirnya', 'kehitaman', 'banyak', 'kerang', 'yang', 'pecah', 'koral', 'barang', 'barang', 'lainnya', 'serta', 'setinggi', 'lutut', 'sekitar', 'setengah', 'sebelum', 'arus', 'bawah', 'karang', 'nggak', 'begitu', 'berkesan'], ['mengunjungi', 'tempat', 'beberapa', 'kali', 'nggak', 'begitu', 'berkesan', 'kemarin', 'kita', 'mendapat', 'informasi', 'baru', 'dari', 'ticketing', 'minimum', 'spend', 'bisa', 'buat', 'food', 'drink', 'towel', 'sampai', 'didalam', 'infonya', 'berubah', 'lagi', 'jadi', 'food', 'only', 'karena', 'kemungkinan', 'kita', 'akan', 'belanja', 'lebih', 'kita', 'bukan', 'typical', 'orang', 'yang', 'hanya', 'suka', 'selfi', 'yang', 'sangat', 'disayangkan', 'adalah', 'attitude', 'waitress', 'saat', 'menghadapi', 'complaint', 'kita', 'butuh', 'waktu', 'lebih', 'dari', 'untuk', 'mencari', 'waitress', 'disaat', 'kita', 'dapet', 'waitressnya', 'tiba', 'tiba', 'langsung', 'bawain', 'kita', 'bill', 'suruh', 'bayar', 'tanpa', 'bertanya', 'komentar', 'kita', 'terlebih', 'dahulu', 'kita', 'tanya', 'manager', 'beliau', 'minta', 'maaf', 'menjelaskan', 'belakang', 'kitchen', 'mereka', 'jorok', 'menawarkan', 'makanan', 'untuk', 'diganti', 'kita', 'tolak', 'karena', 'kita', 'sudah', 'kehilangan', 'nafsu', 'makan', 'juga', 'berpikiran', 'kitchennya', 'pasti', 'jorok', 'juga', 'benar', 'benar', 'saya', 'kecewa', 'dengan', 'staff'], ['mengunjungi', 'mall', 'lagi', 'setelah', 'sekian', 'lama', 'nggak', 'begitu', 'berkesan', 'mall', 'semakin', 'nggak', 'menarik', 'barang', 'yang', 'dijual', 'sama', 'saja', 'susananya', 'juga', 'semakin', 'sepi'], ['mungkin', 'karena', 'datang', 'kesini', 'waktu', 'liburan', 'high', 'season', 'pantainya', 'ramai', 'sekali', 'parkir', 'semrawut', 'suasananya', 'tidak', 'begitu', 'enak', 'jadinya', 'kurang', 'bisa', 'menikmati'], ['lukisan', 'cocok', 'foto', 'hanya', 'tidak', 'dingin', 'kurang', 'nyaman', 'tempatnya', 'juga', 'kurang', 'begitu', 'enak', 'fasilitas', 'toilet', 'tidak', 'terawat', 'harga', 'fasilitas', 'seperti', 'saya', 'pikir', 'kurang', 'layak', 'kurang', 'bisa', 'menikmati', 'melihat', 'lukisan', 'lukisan'], ['dahulu', 'kami', 'sering', 'pantai', 'nusa', 'tetapi', 'sekarang', 'kurang', 'baik', 'kurang', 'bersih', 'mungkin', 'karena', 'banyak', 'kotoran', 'pasir', 'pada', 'saat', 'kami', 'datang', 'sungguh', 'sampah', 'buat', 'tidak', 'nyaman', 'harus', 'diperhatikan', 'agar', 'wisatawan', 'tetap', 'sana']]\n"
          ]
        }
      ]
    },
    {
      "cell_type": "code",
      "metadata": {
        "colab": {
          "base_uri": "https://localhost:8080/"
        },
        "id": "p4Vm9UJ6JhKC",
        "outputId": "7ea2216b-9889-4a07-bf34-f56578be665d"
      },
      "source": [
        "# buat kode program untuk melakukan stopword removal sekalgu filtering\n",
        "import re \n",
        "factory = StopWordRemoverFactory()\n",
        "ind_stopword = factory.get_stop_words()\n",
        "def stopword(line):\n",
        "  temp = list()\n",
        "  for word in line:\n",
        "    if (word not in ind_stopword):\n",
        "      word = re.sub(r'[^a-zA-Z]', '', word)\n",
        "      if (len(word)>3):\n",
        "        temp.append(word)\n",
        "  return temp\n",
        "\n",
        "ulasan_bersih = [stopword (line) for line in data_tokens]\n",
        "print(ulasan_bersih)\n"
      ],
      "execution_count": null,
      "outputs": [
        {
          "output_type": "stream",
          "name": "stdout",
          "text": [
            "[['beberapa', 'bulan', 'terakhir', 'sempat', 'sana', 'kali', 'lahar', 'dingin', 'luar', 'pemandangan', 'paling', 'mengesankan', 'melihat', 'view', 'desa', 'sidemang', 'pura', 'lempuyang', 'gate', 'view', 'gunung', 'agungnya', 'sangat', 'terlihat', 'jelas', 'indah', 'sekali'], ['salah', 'satu', 'tempat', 'dikunjungi', 'mengunjungi', 'bali', 'masuknya', 'gratis', 'mudah', 'ditemukan', 'google'], ['recommended', 'melihat', 'keindahan', 'ombak', 'lake', 'kecil', 'sangat', 'menarik', 'unik', 'cocok', 'photo', 'prewedding'], ['terjun', 'sekumpul', 'sekarang', 'menjadi', 'lebih', 'baik', 'terawat', 'baik', 'jadi', 'semakin', 'indah', 'tempat', 'dekat', 'terjun', 'fiji', 'lemukih'], ['terjun', 'pemandangan', 'bagus', 'penduduk', 'ramah', 'lokasi', 'bersih', 'bawa', 'pakain', 'ganti', 'berenang'], ['musim', 'hujan', 'kedua', 'terjun', 'memiliki', 'warna', 'berbeda', 'sebelah', 'kiri', 'airnya', 'berwarna', 'jernih', 'bersih', 'berasal', 'mata', 'letaknya', 'diatas', 'perbukitan', 'desa', 'sekumpul', 'terjun', 'sebelah', 'kanan', 'berwarna', 'keruh', 'kecoklatan', 'airnya', 'berasal', 'sungai', 'desa', 'sekumpul', 'sungguh', 'pemandangan', 'luar', 'biasa'], ['terjun', 'terbaik', 'pernah', 'lihat', 'lokasinya', 'memang', 'susah', 'dijangkau', 'sebaiknya', 'menggunakan', 'motor', 'cukup', 'melelahkan', 'kesini', 'melewati', 'anak', 'tangga', 'terbayar', 'datang', 'kesini', 'terjun', 'selalu', 'pelangi', 'dikiri', 'dikanan', 'banyak', 'banget', 'semuanya', 'indah', 'kalau', 'udah', 'kesini', 'berasa', 'punya', 'sendiri', 'banyak', 'orang', 'serius', 'bagus', 'banget', 'liat', 'langsung', 'sangat', 'recommended'], ['terjun', 'sekumpul', 'berjarak', 'kota', 'singaraja', 'lokasi', 'terjun', 'wisatawan', 'melihat', 'pemandangan', 'sawah', 'terasering', 'perbukitan', 'menghijau', 'pemandangan', 'terjun', 'kejauhan', 'wisatawan', 'melihat', 'keindahan', 'terjun', 'kembar', 'sangat', 'indah', 'ketinggian', 'terjun', 'meter', 'cipratan', 'terjun', 'membuat', 'tubuh', 'segar', 'wisatawan', 'berenang', 'dasar', 'terjun', 'kondisi', 'sangat', 'alami', 'suasana', 'tenang', 'membuat', 'obyek', 'wisata', 'sesuai', 'refreshing'], ['terjun', 'indah', 'terletak', 'desa', 'lemukih', 'sekumpul', 'daerah', 'singaraja', 'berkunjung', 'sana', 'disarankan', 'datang', 'arah', 'bedugul', 'belok', 'arah', 'kanan', 'pertigaan', 'desa', 'sekumpul', 'kebetulan', 'pemilik', 'travel', 'sewa', 'orang', 'singaraja', 'tahu', 'betul', 'daerah', 'sana', 'disarankan', 'masuk', 'desa', 'lemukih', 'meski', 'jalur', 'trekking', 'lebih', 'panjang', 'view', 'bagus', 'tempat', 'parkir', 'motor', 'melewati', 'areal', 'pesawahan', 'kalah', 'bagus', 'tegalalang', 'diselingi', 'kebun', 'cengkeh', 'manggis', 'coklat', 'pakailah', 'tour', 'guide', 'lokal', 'sangat', 'membantu', 'selama', 'perjalanan', 'disarankan', 'membawa', 'minuman', 'nyali', 'berlebih', 'trek', 'minta', 'ampun', 'melewati', 'ratusan', 'anak', 'tangga', 'sangat', 'curam', 'kemiringan', 'kira', 'kira', 'derajat', 'bayar', 'tiket', 'lewat', 'desa', 'lemukih', 'cukup', 'satu', 'kali', 'orang', 'melihat', 'lokasi', 'terjun'], ['yeyy', 'suka', 'wisata', 'alam', 'sekumpul', 'waterfall', 'sangat', 'cocok', 'dikunjungi', 'dibutuhkan', 'tenaga', 'extra', 'melihat', 'terjun', 'tersebut', 'wahhhh', 'langsung', 'menyegarkan', 'mata', 'pemandangannya', 'bagus', 'hahaha'], ['terjun', 'sekumpul', 'salah', 'satu', 'terjun', 'terindah', 'buleleng', 'terdiri', 'beberapa', 'terjun', 'berkumpul', 'sesuai', 'nama', 'terjun', 'indah'], ['kereeeennnn', 'abiiiisssss', 'beberapa', 'terjun', 'keren', 'pemandangan', 'suasana', 'sejuk', 'menjadikan', 'sekumpul', 'terjun', 'terindah'], ['pemandangan', 'luar', 'biasa', 'pilihan', 'tepat', 'pecinta', 'alam', 'panorama', 'alam', 'menjadi', 'daya', 'tarik', 'luar', 'biasa'], ['menginap', 'salah', 'satu', 'hotel', 'kawah', 'gunung', 'dekat', 'toya', 'devasya', 'spot', 'pemandian', 'hangat', 'terkenal', 'danau', 'batur', 'suasana', 'disana', 'sangat', 'nyaman', 'udaranya', 'segar', 'sangat', 'direkomendasikan', 'mencari', 'ketenangan'], ['pemandangannya', 'sangat', 'indah', 'udaranya', 'sangat', 'sejuk', 'pokoknya', 'terbaik', 'disana', 'mungkin', 'dingin', 'masalah', 'rasa', 'dingin', 'terobati', 'indahnya', 'pemandangan'], ['terjun', 'mendengar', 'istilah', 'tersebut', 'asing', 'sebagian', 'pernah', 'mengunjungi', 'tempat', 'tersebut', 'singaraja', 'terjun', 'asri', 'indah', 'sekumpul', 'lokasinya', 'pusat', 'kota', 'biaya', 'masuk', 'akses', 'menuju', 'terjunnya', 'sangat', 'mudah', 'recommended', 'banget'], ['pemandangan', 'indah', 'beserta', 'sekumpulan', 'terjun', 'perjalanan', 'melalui', 'denpasar', 'selam', 'tracking', 'pagi', 'hari', 'membuat', 'suasana', 'lebih', 'nyaman', 'sejuk', 'best', 'tracking', 'pagi'], ['sekumpul', 'nama', 'terjun', 'berada', 'wilayah', 'kabupaten', 'singaraja', 'tepatanya', 'berada', 'jalur', 'kintamani', 'menuju', 'singaraja', 'terjun', 'bukan', 'indah', 'memiliki', 'sangat', 'bening', 'suasana', 'disekitarnya', 'sangat', 'alami', 'jadi', 'bila', 'berkunjung', 'kesana', 'berphoto', 'mandi', 'dialiran', 'sungai', 'sangat', 'bersih', 'kawasan', 'mudah', 'dijangkau', 'mobil', 'tempat', 'parkir', 'menuju', 'terjun', 'menggunakan', 'jasa', 'ojek', 'motor', 'selalu', 'standby', 'sana', 'selanjutnya', 'cukup', 'berjalan', 'menit', 'terjun', 'terlihat', 'atas', 'tebing', 'bila', 'turun', 'kesungai', 'menuruni', 'tangga', 'anak', 'tangga', 'lelah', 'terbayarkan', 'suasana', 'alam', 'disana', 'jadi', 'kalau', 'waktu', 'coba', 'kunjungi', 'obyek', 'satu'], ['lokasi', 'dekat', 'pasar', 'sukawati', 'tiket', 'perorang', 'langsung', 'nikmati', 'terjun', 'banyak', 'berjalan', 'rekomen', 'banget'], ['terjun', 'pemandangan', 'bagus', 'airnya', 'jernih', 'disarankan', 'menggunakan', 'sepeda', 'motor', 'karna', 'jauh', 'tempat', 'beli', 'tiket', 'tangga', 'pertama', 'kalau', 'jalan', 'kaki', 'kalau', 'menggunakan', 'sepeda', 'motor', 'terus', 'jalan', 'dititip', 'tempat', 'parkir', 'dekat', 'tangga', 'pertama', 'terjun', 'turun', 'beratus', 'anak', 'tangga', 'melewati', 'jembatan', 'lalu', 'disana', 'meminta', 'tiket', 'lanjut', 'jalan', 'melewati', 'sungai', 'kira', 'maksimal', 'lutut', 'terjun', 'kembar', 'kiri', 'lebih', 'jernih', 'hati', 'ponsel', 'basah', 'karna', 'bawah', 'airnya', 'deras', 'jadi', 'embunnya', 'banyak', 'gunakan', 'casing', 'anti', 'lebih', 'baik', 'foto', 'terus', 'view', 'bagus', 'lebih', 'bagus', 'lanjut', 'mendekat', 'tepat', 'bawah', 'jatuh', 'membentuk', 'kolam', 'tepat', 'bawah', 'jatuhnya', 'berenang', 'mandi', 'foto', 'semua', 'capek', 'terbayar', 'didapat', 'pemandangan', 'luar', 'biasa', 'rekomen', 'banget'], ['monyet', 'disini', 'cukup', 'nakal', 'suka', 'mengambil', 'barang', 'barang', 'galak', 'sewaktu', 'kesana', 'monyet', 'menggigit', 'salah', 'satu', 'turis', 'jangan', 'mendukung', 'tempat'], ['pantai', 'indah', 'lokasi', 'cukup', 'terpencil', 'banyak', 'orang', 'tahu', 'kesini', 'menuruni', 'anak', 'tangga', 'banyak', 'sekali', 'jumlahnya', 'atas', 'kelelahan', 'sekali', 'menaiki', 'anak', 'tangganya', 'merasa', 'tempat', 'kurang', 'enak', 'duduk', 'ditepi', 'pantai'], ['melihat', 'pasar', 'malam', 'jauh', 'lebih', 'baik', 'jelas', 'mana', 'penduduk', 'setempat', 'menjajakan', 'pakaian', 'mainan', 'anak', 'anak', 'sangat', 'mengganggu', 'makanan', 'sini', 'kurang', 'enak', 'jujur', 'patut', 'dilewati', 'memiliki', 'waktu', 'terbatas', 'ubud'], ['salah', 'satu', 'jalan', 'menuju', 'pantai', 'legian', 'jalannya', 'lumayan', 'sempit', 'harap', 'hati', 'hati', 'selalu', 'melintasi', 'jalan', 'kurang', 'nyaman', 'berjalan', 'kali', 'pantai', 'sini'], ['pantai', 'dreamland', 'awal', 'desember', 'mengejutkan', 'tahun', 'pantai', 'dreamland', 'kondisinya', 'jauh', 'lebih', 'bersih', 'sekarang', 'banyak', 'sampah', 'kotor', 'terawat', 'baik', 'kurang', 'nyaman', 'buat', 'berenang'], ['pantai', 'petitenget', 'banyak', 'dikunjungi', 'wisatawan', 'terutama', 'wisatawan', 'tinggal', 'hotel', 'pantai', 'banyak', 'pengunjung', 'pantai', 'sebersih', 'dulu', 'sekaran', 'pantai', 'kotor', 'terawat', 'pantai', 'nyaman', 'dulu'], ['sekali', 'mampir', 'sini', 'pantainya', 'biasanya', 'bagus', 'bagusnya', 'menarik', 'kesini', 'cuma', 'makan', 'warung', 'beng', 'kecewa'], ['pantainya', 'biasa', 'menarik', 'lihat', 'sunset', 'lebih', 'asik', 'seminyak', 'kesini', 'mampir', 'sekalian', 'lewat'], ['begitulah', 'banyak', 'spot', 'bagus', 'kongkow', 'pantainya', 'udah', 'banyak', 'dikapling', 'hotel', 'villa', 'menarik', 'sedikit', 'kecewa'], ['letaknya', 'utara', 'kerobokan', 'pantainya', 'berpasir', 'hitam', 'ramai', 'turis', 'biasa', 'bagus', 'lebih', 'indah', 'pantai', 'kuta', 'legian'], ['pantainya', 'biasa', 'lebih', 'bagus', 'dreamland', 'banyak', 'nelayan', 'kotor', 'kurang', 'viewnya', 'bagus', 'sangat', 'disarankan', 'pagi', 'kalau', 'nekat', 'kemari'], ['buat', 'nyebrang', 'makam', 'terunyan', 'perlu', 'bayar', 'loket', 'resmi', 'recomended', 'banget', 'tmptnya', 'nyebrang', 'membosankan', 'pantesan', 'sepi', 'bagus', 'menarik'], ['terlalu', 'macet', 'perlu', 'waktu', 'sebenarnya', 'menit', 'supir', 'pribadi', 'mending', 'jalan', 'kesini', 'menggunakan', 'motor', 'jadi', 'perjalanan', 'kali', 'kini', 'berkesan', 'macet', 'parah'], ['menarik', 'monumen', 'berisikan', 'nama', 'korban', 'bali', 'pertama', 'monumen', 'akhirnya', 'berdiri', 'diantara', 'keramaian', 'jalan', 'legian', 'kuta', 'bali', 'berkesan'], ['hindari', 'kuil', 'cara', 'salah', 'satu', 'perangkap', 'wisata', 'besar', 'berkesan', 'candi', 'bali', 'sebenarnya', 'banyak', 'dilihat', 'ditipu', 'kiri', 'kanan', 'bahkan', 'mengambil', 'nafas', 'sana', 'dikenakan', 'biaya', 'uang', 'pelajaran', 'mahal', 'benar', 'benar', 'pengalaman', 'buruk'], ['yakin', 'pantai', 'lebih', 'bagus', 'sanur', 'pasirnya', 'kehitaman', 'banyak', 'kerang', 'pecah', 'koral', 'barang', 'barang', 'lainnya', 'setinggi', 'lutut', 'setengah', 'arus', 'bawah', 'karang', 'berkesan'], ['mengunjungi', 'tempat', 'beberapa', 'kali', 'berkesan', 'kemarin', 'mendapat', 'informasi', 'baru', 'ticketing', 'minimum', 'spend', 'buat', 'food', 'drink', 'towel', 'didalam', 'infonya', 'berubah', 'jadi', 'food', 'only', 'kemungkinan', 'belanja', 'lebih', 'bukan', 'typical', 'orang', 'suka', 'selfi', 'sangat', 'disayangkan', 'attitude', 'waitress', 'menghadapi', 'complaint', 'butuh', 'waktu', 'lebih', 'mencari', 'waitress', 'disaat', 'dapet', 'waitressnya', 'tiba', 'tiba', 'langsung', 'bawain', 'bill', 'suruh', 'bayar', 'bertanya', 'komentar', 'terlebih', 'tanya', 'manager', 'beliau', 'minta', 'maaf', 'menjelaskan', 'belakang', 'kitchen', 'jorok', 'menawarkan', 'makanan', 'diganti', 'tolak', 'kehilangan', 'nafsu', 'makan', 'berpikiran', 'kitchennya', 'jorok', 'benar', 'benar', 'kecewa', 'staff'], ['mengunjungi', 'mall', 'sekian', 'lama', 'berkesan', 'mall', 'semakin', 'menarik', 'barang', 'dijual', 'sama', 'susananya', 'semakin', 'sepi'], ['mungkin', 'datang', 'kesini', 'waktu', 'liburan', 'high', 'season', 'pantainya', 'ramai', 'sekali', 'parkir', 'semrawut', 'suasananya', 'enak', 'jadinya', 'kurang', 'menikmati'], ['lukisan', 'cocok', 'foto', 'dingin', 'kurang', 'nyaman', 'tempatnya', 'kurang', 'enak', 'fasilitas', 'toilet', 'terawat', 'harga', 'fasilitas', 'pikir', 'kurang', 'layak', 'kurang', 'menikmati', 'melihat', 'lukisan', 'lukisan'], ['sering', 'pantai', 'nusa', 'sekarang', 'kurang', 'baik', 'kurang', 'bersih', 'mungkin', 'banyak', 'kotoran', 'pasir', 'datang', 'sungguh', 'sampah', 'buat', 'nyaman', 'diperhatikan', 'wisatawan', 'tetap', 'sana']]\n"
          ]
        }
      ]
    },
    {
      "cell_type": "code",
      "metadata": {
        "colab": {
          "base_uri": "https://localhost:8080/"
        },
        "id": "UlB7QNdTLLj1",
        "outputId": "77eadc9f-6674-4475-d751-d0910716095c"
      },
      "source": [
        "# Buatlah kamus stopword dalam format .txt dan unggah ke folder drive\n",
        "# kode program untuk melakukan stopword removal dengan kamus\n",
        "\n",
        "def removeStopWords(line):\n",
        "  stopwords = open('stopwords.txt', 'r').read().split()\n",
        "  words = []\n",
        "  for word in line:\n",
        "    word = str(word)\n",
        "    word = word.strip()\n",
        "    if word not in stopwords and word != \"\" and word != \"&\":\n",
        "       words.append(word)\n",
        "\n",
        "  return words\n",
        "reviews = [removeStopWords (line) for line in data_tokens]\n",
        "print(reviews)"
      ],
      "execution_count": null,
      "outputs": [
        {
          "output_type": "stream",
          "name": "stdout",
          "text": [
            "[['kali', 'lahar', 'dingin', 'luar', 'pemandangan', 'mengesankan', 'view', 'desa', 'sidemang', 'pura', 'lempuyang', 'gate', 'view', 'gunung', 'agungnya', 'indah'], ['salah', 'dikunjungi', 'mengunjungi', 'bali', 'masuknya', 'gratis', 'mudah', 'ditemukan', 'google', 'map'], ['recommended', 'yg', 'keindahan', 'ombak', 'lake', 'menarik', 'unik', 'cocok', 'photo', 'prewedding'], ['air', 'terjun', 'sekumpul', 'baik', 'terawat', 'baik', 'indah', 'air', 'terjun', 'fiji', 'lemukih'], ['air', 'terjun', 'pemandangan', 'bagus', 'penduduk', 'ramah', 'lokasi', 'bersih', 'bawa', 'pakain', 'ganti', 'berenang'], ['musim', 'hujan', 'air', 'terjun', 'memiliki', 'warna', 'air', 'berbeda', 'sebelah', 'kiri', 'airnya', 'berwarna', 'jernih', 'bersih', 'berasal', 'mata', 'air', 'letaknya', 'diatas', 'perbukitan', 'desa', 'sekumpul', 'air', 'terjun', 'sebelah', 'kanan', 'berwarna', 'keruh', 'kecoklatan', 'airnya', 'berasal', 'sungai', 'desa', 'sekumpul', 'sungguh', 'pemandangan', 'luar', 'biasa'], ['air', 'terjun', 'terbaik', 'lihat', 'lokasinya', 'susah', 'dijangkau', 'motor', 'melelahkan', 'kesini', 'melewati', 'anak', 'tangga', 'terbayar', 'kesini', 'air', 'terjun', 'yg', 'pelangi', 'dikiri', 'dikanan', 'indah', 'udah', 'kesini', 'berasa', 'belum', 'orang', 'tau', 'serius', 'bagus', 'liat', 'langsung', 'recommended'], ['air', 'terjun', 'sekumpul', 'berjarak', 'km', 'kota', 'singaraja', 'lokasi', 'air', 'terjun', 'wisatawan', 'pemandangan', 'sawah', 'terasering', 'perbukitan', 'menghijau', 'pemandangan', 'air', 'terjun', 'kejauhan', 'wisatawan', 'keindahan', 'air', 'terjun', 'kembar', 'indah', 'ketinggian', 'air', 'terjun', 'meter', 'cipratan', 'air', 'terjun', 'tubuh', 'segar', 'wisatawan', 'berenang', 'dasar', 'air', 'terjun', 'kondisi', 'alami', 'suasana', 'tenang', 'obyek', 'wisata', 'sesuai', 'refreshing'], ['air', 'terjun', 'indah', 'terletak', 'desa', 'lemukih', 'sekumpul', 'daerah', 'singaraja', 'berkunjung', 'disarankan', 'arah', 'bedugul', 'belok', 'arah', 'kanan', 'pertigaan', 'desa', 'sekumpul', 'pemilik', 'travel', 'sewa', 'orang', 'singaraja', 'daerah', 'disarankan', 'masuk', 'desa', 'lemukih', 'jalur', 'trekking', 'view', 'bagus', 'parkir', 'motor', 'melewati', 'areal', 'pesawahan', 'tidak', 'kalah', 'bagus', 'tegalalang', 'diselingi', 'kebun', 'cengkeh', 'manggis', 'coklat', 'pakailah', 'tour', 'guide', 'lokal', 'membantu', 'perjalanan', 'disarankan', 'membawa', 'minuman', 'nyali', 'berlebih', 'trek', 'ampun', 'melewati', 'ratusan', 'anak', 'tangga', 'curam', 'kemiringan', 'derajat', 'bayar', 'tiket', 'desa', 'lemukih', 'kali', 'rp', 'orang', 'lokasi', 'air', 'terjun'], ['yeyy', 'suka', 'wisata', 'alam', 'sekumpul', 'waterfall', 'cocok', 'dikunjungi', 'dibutuhkan', 'tenaga', 'extra', 'coy', 'air', 'terjun', 'wahhhh', 'langsung', 'menyegarkan', 'mata', 'pemandangannya', 'bagus', 'hahaha'], ['air', 'terjun', 'sekumpul', 'salah', 'air', 'terjun', 'terindah', 'buleleng', 'air', 'terjun', 'berkumpul', 'sesuai', 'nama', 'air', 'terjun', 'indah'], ['kereeeennnn', 'abiiiisssss', 'air', 'terjun', 'yg', 'keren', 'pemandangan', 'suasana', 'sejuk', 'menjadikan', 'sekumpul', 'air', 'terjun', 'terindah'], ['pemandangan', 'luar', 'biasa', 'pilihan', 'pecinta', 'alam', 'panorama', 'alam', 'daya', 'tarik', 'luar', 'biasa'], ['menginap', 'salah', 'hotel', 'kawah', 'gunung', 'toya', 'devasya', 'spot', 'pemandian', 'air', 'hangat', 'terkenal', 'danau', 'batur', 'suasana', 'disana', 'nyaman', 'udaranya', 'segar', 'direkomendasikan', 'mencari', 'ketenangan'], ['pemandangannya', 'indah', 'udaranya', 'sejuk', 'pokoknya', 'terbaik', 'disana', 'mungkin', 'dingin', 'nggak', 'dingin', 'terobati', 'indahnya', 'pemandangan'], ['air', 'terjun', 'mendengar', 'istilah', 'tak', 'asing', 'mengunjungi', 'singaraja', 'air', 'terjun', 'yg', 'asri', 'indah', 'sekumpul', 'lokasinya', 'jam', 'pusat', 'kota', 'biaya', 'masuk', 'rb', 'akses', 'air', 'terjunnya', 'mudah', 'recommended'], ['pemandangan', 'indah', 'beserta', 'sekumpulan', 'air', 'terjun', 'perjalanan', 'denpasar', 'selam', 'jam', 'tracking', 'pagi', 'suasana', 'nyaman', 'sejuk', 'best', 'tracking', 'jam', 'pagi'], ['sekumpul', 'nama', 'air', 'terjun', 'wilayah', 'kabupaten', 'singaraja', 'tepatanya', 'jalur', 'kintamani', 'singaraja', 'air', 'terjun', 'bukan', 'indah', 'memiliki', 'air', 'bening', 'suasana', 'disekitarnya', 'alami', 'berkunjung', 'kesana', 'berphoto', 'mandi', 'dialiran', 'sungai', 'bersih', 'kawasan', 'mudah', 'dijangkau', 'mobil', 'parkir', 'air', 'terjun', 'jasa', 'ojek', 'motor', 'standby', 'berjalan', 'menit', 'air', 'terjun', 'tebing', 'turun', 'kesungai', 'menuruni', 'tangga', 'anak', 'tangga', 'lelah', 'terbayarkan', 'suasana', 'alam', 'disana', 'coba', 'kunjungi', 'obyek', 'wow'], ['lokasi', 'pasar', 'sukawati', 'tiket', 'rbu', 'perorang', 'langsung', 'nikmati', 'air', 'terjun', 'berjalan', 'rekomen'], ['air', 'terjun', 'pemandangan', 'bagus', 'airnya', 'jernih', 'disarankan', 'sepeda', 'motor', 'karna', 'beli', 'tiket', 'tangga', 'jalan', 'kaki', 'sepeda', 'motor', 'jalan', 'dititip', 'parkir', 'tangga', 'air', 'terjun', 'turun', 'beratus', 'anak', 'tangga', 'melewati', 'jembatan', 'disana', 'tiket', 'jalan', 'melewati', 'sungai', 'maksimal', 'lutut', 'air', 'terjun', 'kembar', 'kiri', 'jernih', 'hati', 'ponsel', 'basah', 'karna', 'airnya', 'deras', 'embunnya', 'casing', 'anti', 'air', 'baik', 'foto', 'view', 'bagus', 'bagus', 'mendekat', 'air', 'jatuh', 'membentuk', 'kolam', 'jatuhnya', 'air', 'berenang', 'mandi', 'foto', 'capek', 'terbayar', 'pemandangan', 'luar', 'biasa', 'rekomen'], ['monyet', 'nakal', 'suka', 'mengambil', 'barang', 'barang', 'galak', 'kesana', 'monyet', 'menggigit', 'salah', 'turis', 'mendukung'], ['pantai', 'indah', 'lokasi', 'terpencil', 'belum', 'orang', 'kesini', 'menuruni', 'anak', 'tangga', 'kelelahan', 'anak', 'tangganya', 'enak', 'duduk', 'ditepi', 'pantai'], ['pasar', 'malam', 'baik', 'penduduk', 'menjajakan', 'pakaian', 'mainan', 'anak', 'anak', 'mengganggu', 'makanan', 'enak', 'jujur', 'patut', 'dilewati', 'memiliki', 'terbatas', 'ubud'], ['salah', 'jalan', 'pantai', 'legian', 'jalannya', 'lumayan', 'sempit', 'harap', 'hati', 'hati', 'melintasi', 'jalan', 'nyaman', 'berjalan', 'kali', 'pantai'], ['pantai', 'dreamland', 'desember', 'mengejutkan', 'pantai', 'dreamland', 'kondisinya', 'bersih', 'sampah', 'kotor', 'tidak', 'terawat', 'baik', 'nyaman', 'berenang'], ['pantai', 'petitenget', 'dikunjungi', 'wisatawan', 'wisatawan', 'tinggal', 'hotel', 'pantai', 'pengunjung', 'pantai', 'tidak', 'sebersih', 'sekaran', 'pantai', 'kotor', 'tidak', 'terawat', 'pantai', 'tak', 'nyaman', 'tidak'], ['aja', 'mampir', 'pantainya', 'gak', 'bagus', 'bagusnya', 'gak', 'menarik', 'kesini', 'makan', 'warung', 'beng', 'aja', 'kecewa'], ['pantainya', 'biasa', 'gak', 'menarik', 'lihat', 'sunset', 'asik', 'seminyak', 'kesini', 'mampir', 'aja'], ['ya', 'gak', 'spot', 'bagus', 'kongkow', 'pantainya', 'udah', 'yg', 'dikapling', 'hotel', 'villa', 'gak', 'menarik', 'kecewa'], ['letaknya', 'utara', 'kerobokan', 'pantainya', 'berpasir', 'hitam', 'tidak', 'ramai', 'turis', 'biasa', 'gak', 'bagus', 'indah', 'pantai', 'kuta', 'legian'], ['pantainya', 'biasa', 'bagus', 'dreamland', 'nelayan', 'kotor', 'pas', 'viewnya', 'gak', 'bagus', 'disarankan', 'pagi', 'nekat', 'kemari'], ['nyebrang', 'makam', 'terunyan', 'bayar', 'loket', 'yg', 'resmi', 'tp', 'not', 'recomended', 'skr', 'tmptnya', 'aja', 'pas', 'nyebrang', 'membosankan', 'pantesan', 'sepi', 'gak', 'bagus', 'gak', 'menarik'], ['macet', 'jam', 'menit', 'supir', 'pribadi', 'mending', 'jalan', 'kesini', 'motor', 'perjalanan', 'kali', 'nggak', 'berkesan', 'macet', 'parah'], ['tidak', 'menarik', 'monumen', 'berisikan', 'nama', 'korban', 'bom', 'bali', 'monumen', 'berdiri', 'keramaian', 'jalan', 'legian', 'kuta', 'bali', 'nggak', 'berkesan'], ['tolong', 'hindari', 'kuil', 'salah', 'perangkap', 'wisata', 'nggak', 'berkesan', 'candi', 'bali', 'tidak', 'ditipu', 'kiri', 'kanan', 'mengambil', 'nafas', 'dikenakan', 'biaya', 'uang', 'pelajaran', 'mahal', 'pengalaman', 'buruk'], ['pantai', 'tidak', 'bagus', 'sanur', 'pasirnya', 'kehitaman', 'kerang', 'pecah', 'koral', 'barang', 'barang', 'lutut', 'arus', 'karang', 'nggak', 'berkesan'], ['mengunjungi', 'kali', 'nggak', 'berkesan', 'kemarin', 'informasi', 'ticketing', 'minimum', 'spend', 'food', 'drink', 'towel', 'didalam', 'infonya', 'berubah', 'food', 'only', 'oke', 'gak', 'belanja', 'bukan', 'typical', 'orang', 'suka', 'selfi', 'disayangkan', 'attitude', 'waitress', 'menghadapi', 'complaint', 'butuh', 'mt', 'mencari', 'waitress', 'disaat', 'dapet', 'waitressnya', 'langsung', 'bawain', 'bill', 'suruh', 'bayar', 'komentar', 'manager', 'beliau', 'maaf', 'kitchen', 'jorok', 'menawarkan', 'makanan', 'diganti', 'tolak', 'kehilangan', 'nafsu', 'makan', 'berpikiran', 'kitchennya', 'jorok', 'kecewa', 'staff'], ['mengunjungi', 'mall', 'sekian', 'nggak', 'berkesan', 'mall', 'nggak', 'menarik', 'barang', 'dijual', 'susananya', 'sepi'], ['mungkin', 'pas', 'kesini', 'liburan', 'high', 'season', 'pantainya', 'ramai', 'parkir', 'semrawut', 'suasananya', 'tidak', 'enak', 'menikmati'], ['lukisan', 'cocok', 'utk', 'foto', 'ac', 'tidak', 'dingin', 'nyaman', 'tempatnya', 'enak', 'fasilitas', 'toilet', 'jg', 'tidak', 'terawat', 'utk', 'harga', 'rb', 'dgn', 'fasilitas', 'pikir', 'layak', 'menikmati', 'lukisan', 'lukisan'], ['pantai', 'nusa', 'baik', 'bersih', 'mungkin', 'kotoran', 'pasir', 'sungguh', 'sampah', 'tidak', 'nyaman', 'diperhatikan', 'wisatawan']]\n"
          ]
        }
      ]
    },
    {
      "cell_type": "markdown",
      "metadata": {
        "id": "lpTh1AOGP_Tq"
      },
      "source": [
        "## Preprocessing – Slang Word to Standard Word\n",
        "\n",
        "Landasan Teori Slang Word to Standard Word\n",
        "> Dalam bahasa Indonesia, orang sering menulis kata yang tidak baku (slang word) daripada kata baku, seperti “cepat” dan bukan “cepat”. Jika hal ini terjadi, komputer akan mengartikan “cepet” dan “cepat” sebagai dua kata yang berbeda, padahal memiliki arti yang sama. Untuk mengatasinya, kita harus mengganti semua kata slang ke dalam bentuk standarnya dengan proses konversi **slang word to standar word.**"
      ]
    },
    {
      "cell_type": "code",
      "metadata": {
        "colab": {
          "base_uri": "https://localhost:8080/"
        },
        "id": "M4T_2xfuQIdL",
        "outputId": "41435d41-2da3-4197-f2ab-fc977b86da3f"
      },
      "source": [
        "# Landasan Praktikum Slang Word to Standard Word\n",
        "# 1. Buatlah kamus stopword dalam format .txt dan unggah ke folder drive\n",
        "# kode program untuk melakukan slang word to standard word\n",
        "\n",
        "# slang word\n",
        "path_dataslang = open(\"kamus kata baku 1.csv\")\n",
        "dataslang = pd.read_csv(path_dataslang, encoding='utf-8', header=None, sep=\";\")\n",
        "\n",
        "def repalaceSlang(word):\n",
        "  if word in list(dataslang[0]):\n",
        "    indexslang = list(dataslang[0]).index(word)\n",
        "    return dataslang[1][indexslang]\n",
        "  else:\n",
        "    return word\n",
        "\n",
        "ulasan_formal = []\n",
        "for data in ulasan_bersih:\n",
        "  data_clean = [repalaceSlang(word) for word in data]\n",
        "  ulasan_formal.append(data_clean)\n",
        "len_ulasan_formal = len(ulasan_formal)\n",
        "print(ulasan_formal)\n",
        "len_ulasan_formal"
      ],
      "execution_count": null,
      "outputs": [
        {
          "output_type": "stream",
          "name": "stdout",
          "text": [
            "[['beberapa', 'bulan', 'terakhir', 'sempat', 'sana', 'kali', 'lahar', 'dingin', 'luar', 'pemandangan', 'paling', 'mengesankan', 'melihat', 'pemandangan', 'desa', 'sidemang', 'pura', 'lempuyang', 'gate', 'pemandangan', 'gunung', 'agungnya', 'sangat', 'terlihat', 'jelas', 'indah', 'sekali'], ['salah', 'satu', 'tempat', 'dikunjungi', 'mengunjungi', 'bali', 'masuknya', 'gratis', 'mudah', 'ditemukan', 'google'], ['recommended', 'melihat', 'keindahan', 'ombak', 'lake', 'kecil', 'sangat', 'menarik', 'unik', 'cocok', 'photo', 'prewedding'], ['terjun', 'sekumpul', 'sekarang', 'menjadi', 'lebih', 'baik', 'terawat', 'baik', 'jadi', 'semakin', 'indah', 'tempat', 'dekat', 'terjun', 'fiji', 'lemukih'], ['terjun', 'pemandangan', 'bagus', 'penduduk', 'ramah', 'lokasi', 'bersih', 'bawa', 'pakain', 'ganti', 'berenang'], ['musim', 'hujan', 'kedua', 'terjun', 'memiliki', 'warna', 'berbeda', 'sebelah', 'kiri', 'airnya', 'berwarna', 'jernih', 'bersih', 'berasal', 'mata', 'letaknya', 'diatas', 'perbukitan', 'desa', 'sekumpul', 'terjun', 'sebelah', 'kanan', 'berwarna', 'keruh', 'kecoklatan', 'airnya', 'berasal', 'sungai', 'desa', 'sekumpul', 'sungguh', 'pemandangan', 'luar', 'biasa'], ['terjun', 'terbaik', 'pernah', 'lihat', 'lokasinya', 'memang', 'susah', 'dijangkau', 'sebaiknya', 'menggunakan', 'motor', 'cukup', 'melelahkan', 'kesini', 'melewati', 'anak', 'tangga', 'terbayar', 'datang', 'kesini', 'terjun', 'selalu', 'pelangi', 'dikiri', 'dikanan', 'banyak', 'banget', 'semuanya', 'indah', 'kalau', 'sudah', 'kesini', 'terasa', 'punya', 'sendiri', 'banyak', 'orang', 'serius', 'bagus', 'banget', 'lihat', 'langsung', 'sangat', 'recommended'], ['terjun', 'sekumpul', 'berjarak', 'kota', 'singaraja', 'lokasi', 'terjun', 'wisatawan', 'melihat', 'pemandangan', 'sawah', 'terasering', 'perbukitan', 'menghijau', 'pemandangan', 'terjun', 'kejauhan', 'wisatawan', 'melihat', 'keindahan', 'terjun', 'kembar', 'sangat', 'indah', 'ketinggian', 'terjun', 'meter', 'cipratan', 'terjun', 'membuat', 'tubuh', 'segar', 'wisatawan', 'berenang', 'dasar', 'terjun', 'kondisi', 'sangat', 'alami', 'suasana', 'tenang', 'membuat', 'obyek', 'wisata', 'sesuai', 'refreshing'], ['terjun', 'indah', 'terletak', 'desa', 'lemukih', 'sekumpul', 'daerah', 'singaraja', 'berkunjung', 'sana', 'disarankan', 'datang', 'arah', 'bedugul', 'belok', 'arah', 'kanan', 'pertigaan', 'desa', 'sekumpul', 'kebetulan', 'pemilik', 'travel', 'sewa', 'orang', 'singaraja', 'tahu', 'betul', 'daerah', 'sana', 'disarankan', 'masuk', 'desa', 'lemukih', 'meski', 'jalur', 'trekking', 'lebih', 'panjang', 'pemandangan', 'bagus', 'tempat', 'parkir', 'motor', 'melewati', 'areal', 'pesawahan', 'kalah', 'bagus', 'tegalalang', 'diselingi', 'kebun', 'cengkeh', 'menangis', 'coklat', 'pakailah', 'tour', 'guide', 'lokal', 'sangat', 'membantu', 'selama', 'perjalanan', 'disarankan', 'membawa', 'minuman', 'nyali', 'berlebih', 'trek', 'meminta', 'ampun', 'melewati', 'ratusan', 'anak', 'tangga', 'sangat', 'curam', 'kemiringan', 'kira', 'kira', 'derajat', 'bayar', 'tiket', 'lewat', 'desa', 'lemukih', 'cukup', 'satu', 'kali', 'orang', 'melihat', 'lokasi', 'terjun'], ['yeyy', 'suka', 'wisata', 'alam', 'sekumpul', 'waterfall', 'sangat', 'cocok', 'dikunjungi', 'dibutuhkan', 'tenaga', 'extra', 'melihat', 'terjun', 'tersebut', 'wahhhh', 'langsung', 'menyegarkan', 'mata', 'pemandangannya', 'bagus', 'haha'], ['terjun', 'sekumpul', 'salah', 'satu', 'terjun', 'terindah', 'buleleng', 'terdiri', 'beberapa', 'terjun', 'berkumpul', 'sesuai', 'nama', 'terjun', 'indah'], ['kereeeennnn', 'abiiiisssss', 'beberapa', 'terjun', 'keren', 'pemandangan', 'suasana', 'sejuk', 'menjadikan', 'sekumpul', 'terjun', 'terindah'], ['pemandangan', 'luar', 'biasa', 'pilihan', 'tepat', 'pecinta', 'alam', 'panorama', 'alam', 'menjadi', 'daya', 'tarik', 'luar', 'biasa'], ['menginap', 'salah', 'satu', 'hotel', 'kawah', 'gunung', 'dekat', 'toya', 'devasya', 'spot', 'pemandian', 'hangat', 'terkenal', 'danau', 'batur', 'suasana', 'disana', 'sangat', 'nyaman', 'udaranya', 'segar', 'sangat', 'direkomendasikan', 'mencari', 'ketenangan'], ['pemandangannya', 'sangat', 'indah', 'udaranya', 'sangat', 'sejuk', 'pokoknya', 'terbaik', 'disana', 'mungkin', 'dingin', 'masalah', 'rasa', 'dingin', 'terobati', 'indahnya', 'pemandangan'], ['terjun', 'mendengar', 'istilah', 'tersebut', 'asing', 'sebagian', 'pernah', 'mengunjungi', 'tempat', 'tersebut', 'singaraja', 'terjun', 'asri', 'indah', 'sekumpul', 'lokasinya', 'pusat', 'kota', 'biaya', 'masuk', 'akses', 'menuju', 'terjunnya', 'sangat', 'mudah', 'recommended', 'banget'], ['pemandangan', 'indah', 'beserta', 'sekumpulan', 'terjun', 'perjalanan', 'melalui', 'denpasar', 'selam', 'tracking', 'pagi', 'hari', 'membuat', 'suasana', 'lebih', 'nyaman', 'sejuk', 'terbaik', 'tracking', 'pagi'], ['sekumpul', 'nama', 'terjun', 'berada', 'wilayah', 'kabupaten', 'singaraja', 'tepatanya', 'berada', 'jalur', 'kintamani', 'menuju', 'singaraja', 'terjun', 'bukan', 'indah', 'memiliki', 'sangat', 'bening', 'suasana', 'disekitarnya', 'sangat', 'alami', 'jadi', 'bila', 'berkunjung', 'kesana', 'berphoto', 'mandi', 'dialiran', 'sungai', 'sangat', 'bersih', 'kawasan', 'mudah', 'dijangkau', 'mobil', 'tempat', 'parkir', 'menuju', 'terjun', 'menggunakan', 'jasa', 'ojek', 'motor', 'selalu', 'standby', 'sana', 'selanjutnya', 'cukup', 'berjalan', 'menit', 'terjun', 'terlihat', 'atas', 'tebing', 'bila', 'turun', 'kesungai', 'menuruni', 'tangga', 'anak', 'tangga', 'lelah', 'terbayarkan', 'suasana', 'alam', 'disana', 'jadi', 'kalau', 'waktu', 'coba', 'kunjungi', 'obyek', 'satu'], ['lokasi', 'dekat', 'pasar', 'sukawati', 'tiket', 'perorang', 'langsung', 'nikmati', 'terjun', 'banyak', 'berjalan', 'rekomendasi', 'banget'], ['terjun', 'pemandangan', 'bagus', 'airnya', 'jernih', 'disarankan', 'menggunakan', 'sepeda', 'motor', 'karena', 'jauh', 'tempat', 'beli', 'tiket', 'tangga', 'pertama', 'kalau', 'jalan', 'kaki', 'kalau', 'menggunakan', 'sepeda', 'motor', 'terus', 'jalan', 'dititip', 'tempat', 'parkir', 'dekat', 'tangga', 'pertama', 'terjun', 'turun', 'beratus', 'anak', 'tangga', 'melewati', 'jembatan', 'lalu', 'disana', 'meminta', 'tiket', 'lanjut', 'jalan', 'melewati', 'sungai', 'kira', 'maksimal', 'lutut', 'terjun', 'kembar', 'kiri', 'lebih', 'jernih', 'hati', 'ponsel', 'basah', 'karena', 'bawah', 'airnya', 'deras', 'jadi', 'embunnya', 'banyak', 'gunakan', 'casing', 'anti', 'lebih', 'baik', 'foto', 'terus', 'pemandangan', 'bagus', 'lebih', 'bagus', 'lanjut', 'mendekat', 'tepat', 'bawah', 'jatuh', 'membentuk', 'kolam', 'tepat', 'bawah', 'jatuhnya', 'berenang', 'mandi', 'foto', 'semua', 'capek', 'terbayar', 'didapat', 'pemandangan', 'luar', 'biasa', 'rekomendasi', 'banget'], ['monyet', 'disini', 'cukup', 'nakal', 'suka', 'mengambil', 'barang', 'barang', 'galak', 'sewaktu', 'kesana', 'monyet', 'menggigit', 'salah', 'satu', 'turis', 'jangan', 'mendukung', 'tempat'], ['pantai', 'indah', 'lokasi', 'cukup', 'terpencil', 'banyak', 'orang', 'tahu', 'kesini', 'menuruni', 'anak', 'tangga', 'banyak', 'sekali', 'jumlahnya', 'atas', 'kelelahan', 'sekali', 'menaiki', 'anak', 'tangganya', 'merasa', 'tempat', 'kurang', 'enak', 'duduk', 'ditepi', 'pantai'], ['melihat', 'pasar', 'malam', 'jauh', 'lebih', 'baik', 'jelas', 'mana', 'penduduk', 'setempat', 'menjajakan', 'pakaian', 'mainan', 'anak', 'anak', 'sangat', 'mengganggu', 'makanan', 'sini', 'kurang', 'enak', 'jujur', 'patut', 'dilewati', 'memiliki', 'waktu', 'terbatas', 'ubud'], ['salah', 'satu', 'jalan', 'menuju', 'pantai', 'legian', 'jalannya', 'lumayan', 'sempit', 'harap', 'hati', 'hati', 'selalu', 'melintasi', 'jalan', 'kurang', 'nyaman', 'berjalan', 'kali', 'pantai', 'sini'], ['pantai', 'dreamland', 'awal', 'desember', 'mengejutkan', 'tahun', 'pantai', 'dreamland', 'kondisinya', 'jauh', 'lebih', 'bersih', 'sekarang', 'banyak', 'sampah', 'kotor', 'terawat', 'baik', 'kurang', 'nyaman', 'buat', 'berenang'], ['pantai', 'petitenget', 'banyak', 'dikunjungi', 'wisatawan', 'terutama', 'wisatawan', 'tinggal', 'hotel', 'pantai', 'banyak', 'pengunjung', 'pantai', 'sebersih', 'dulu', 'sekaran', 'pantai', 'kotor', 'terawat', 'pantai', 'nyaman', 'dulu'], ['sekali', 'mampir', 'sini', 'pantainya', 'biasanya', 'bagus', 'bagusnya', 'menarik', 'kesini', 'cuma', 'makan', 'warung', 'beng', 'kecewa'], ['pantainya', 'biasa', 'menarik', 'lihat', 'sunset', 'lebih', 'asyik', 'seminyak', 'kesini', 'mampir', 'sekalian', 'lewat'], ['begitulah', 'banyak', 'spot', 'bagus', 'kongkow', 'pantainya', 'sudah', 'banyak', 'dikapling', 'hotel', 'villa', 'menarik', 'sedikit', 'kecewa'], ['letaknya', 'utara', 'kerobokan', 'pantainya', 'berpasir', 'hitam', 'ramai', 'turis', 'biasa', 'bagus', 'lebih', 'indah', 'pantai', 'kuta', 'legian'], ['pantainya', 'biasa', 'lebih', 'bagus', 'dreamland', 'banyak', 'nelayan', 'kotor', 'kurang', 'viewnya', 'bagus', 'sangat', 'disarankan', 'pagi', 'kalau', 'nekat', 'kemari'], ['buat', 'nyebrang', 'makam', 'terunyan', 'perlu', 'bayar', 'loket', 'resmi', 'rekomendasi', 'banget', 'tmptnya', 'nyebrang', 'membosankan', 'pantesan', 'sepi', 'bagus', 'menarik'], ['terlalu', 'macet', 'perlu', 'waktu', 'sebenarnya', 'menit', 'supir', 'pribadi', 'lumayan', 'jalan', 'kesini', 'menggunakan', 'motor', 'jadi', 'perjalanan', 'kali', 'kini', 'berkesan', 'macet', 'parah'], ['menarik', 'monumen', 'berisikan', 'nama', 'korban', 'bali', 'pertama', 'monumen', 'akhirnya', 'berdiri', 'diantara', 'keramaian', 'jalan', 'legian', 'kuta', 'bali', 'berkesan'], ['hindari', 'kuil', 'cara', 'salah', 'satu', 'perangkap', 'wisata', 'besar', 'berkesan', 'candi', 'bali', 'sebenarnya', 'banyak', 'dilihat', 'ditipu', 'kiri', 'kanan', 'bahkan', 'mengambil', 'nafas', 'sana', 'dikenakan', 'biaya', 'uang', 'pelajaran', 'mahal', 'benar', 'benar', 'pengalaman', 'buruk'], ['yakin', 'pantai', 'lebih', 'bagus', 'sanur', 'pasirnya', 'kehitaman', 'banyak', 'kerang', 'pecah', 'koral', 'barang', 'barang', 'lainnya', 'setinggi', 'lutut', 'setengah', 'arus', 'bawah', 'karang', 'berkesan'], ['mengunjungi', 'tempat', 'beberapa', 'kali', 'berkesan', 'kemarin', 'mendapat', 'informasi', 'baru', 'ticketing', 'minimum', 'spend', 'buat', 'food', 'drink', 'towel', 'didalam', 'infonya', 'berubah', 'jadi', 'food', 'only', 'kemungkinan', 'belanja', 'lebih', 'bukan', 'typical', 'orang', 'suka', 'selfi', 'sangat', 'disayangkan', 'attitude', 'waitress', 'menghadapi', 'complaint', 'butuh', 'waktu', 'lebih', 'mencari', 'waitress', 'disaat', 'dapat', 'waitressnya', 'tiba', 'tiba', 'langsung', 'bawain', 'bill', 'suruh', 'bayar', 'bertanya', 'komentar', 'terlebih', 'tanya', 'manager', 'beliau', 'meminta', 'maaf', 'menjelaskan', 'belakang', 'kitchen', 'jorok', 'menawarkan', 'makanan', 'diganti', 'tolak', 'kehilangan', 'nafsu', 'makan', 'berpikiran', 'kitchennya', 'jorok', 'benar', 'benar', 'kecewa', 'staff'], ['mengunjungi', 'mall', 'sekian', 'lama', 'berkesan', 'mall', 'semakin', 'menarik', 'barang', 'dijual', 'sama', 'susananya', 'semakin', 'sepi'], ['mungkin', 'datang', 'kesini', 'waktu', 'liburan', 'high', 'season', 'pantainya', 'ramai', 'sekali', 'parkir', 'semrawut', 'suasananya', 'enak', 'jadinya', 'kurang', 'menikmati'], ['lukisan', 'cocok', 'foto', 'dingin', 'kurang', 'nyaman', 'tempatnya', 'kurang', 'enak', 'fasilitas', 'toilet', 'terawat', 'harga', 'fasilitas', 'pikir', 'kurang', 'layak', 'kurang', 'menikmati', 'melihat', 'lukisan', 'lukisan'], ['sering', 'pantai', 'nusa', 'sekarang', 'kurang', 'baik', 'kurang', 'bersih', 'mungkin', 'banyak', 'kotoran', 'pasir', 'datang', 'sungguh', 'sampah', 'buat', 'nyaman', 'diperhatikan', 'wisatawan', 'tetap', 'sana']]\n"
          ]
        },
        {
          "output_type": "execute_result",
          "data": {
            "text/plain": [
              "41"
            ]
          },
          "metadata": {},
          "execution_count": 19
        }
      ]
    },
    {
      "cell_type": "markdown",
      "metadata": {
        "id": "3rmklbmGSsZO"
      },
      "source": [
        "## Preprocessing – Stemming\n",
        "Landasan Teori Stemming\n",
        "\n",
        "> Stemming merupakan proses memetakan variasi kata ke bentuk dasar. Proses stemming dilakukan dengan menghapus imbuhan, baik awalan maupun akhiran dari suatu kata untuk mendapatkan kata dasarnya. Stemming yang umum digunakan pada teks berbahasa Indonesia menggunakan library stemmer Sastrawi yang dikembangkan berdasarkan algoritma Nazief-Adriani (Hidayatullah dan Ma’arif, 2016)."
      ]
    },
    {
      "cell_type": "code",
      "metadata": {
        "colab": {
          "base_uri": "https://localhost:8080/"
        },
        "id": "dxv73oRPSrf0",
        "outputId": "267c0161-c7e0-4f2f-de20-a37fe2c595dd"
      },
      "source": [
        "# kode program untuk melakukan stemming\n",
        "white_list = [\"bali\"] # ini  tidak perlu di rubah karena dianggap sastrawi sebagai imbuhan i\n",
        "\n",
        "factory = StemmerFactory()\n",
        "ind_stemmer = factory.create_stemmer()\n",
        "def stemmer(line):\n",
        "  temp = list()\n",
        "  for word in line:\n",
        "    if (word not in white_list):\n",
        "      word =  ind_stemmer.stem(word)\n",
        "    if (len(word)>3):\n",
        "      temp.append(word)\n",
        "    return temp\n",
        "\n",
        "ulasan_dasar = [stemmer (line) for line in ulasan_formal]\n",
        "print(ulasan_dasar)\n"
      ],
      "execution_count": null,
      "outputs": [
        {
          "output_type": "stream",
          "name": "stdout",
          "text": [
            "[['beberapa'], ['salah'], ['recommended'], ['terjun'], ['terjun'], ['musim'], ['terjun'], ['terjun'], ['terjun'], ['yeyy'], ['terjun'], ['kereeeennnn'], ['pandang'], ['inap'], ['pandang'], ['terjun'], ['pandang'], ['kumpul'], ['lokasi'], ['terjun'], ['monyet'], ['pantai'], ['lihat'], ['salah'], ['pantai'], ['pantai'], ['sekali'], ['pantai'], ['begitu'], ['letak'], ['pantai'], ['buat'], ['terlalu'], ['tarik'], ['hindar'], ['yakin'], ['unjung'], ['unjung'], ['mungkin'], ['lukis'], ['sering']]\n"
          ]
        }
      ]
    },
    {
      "cell_type": "markdown",
      "metadata": {
        "id": "9TJ9YGIpBkm1"
      },
      "source": [
        "## Preprocessing – Padding\n",
        "Landasan Teori Padding\n",
        "> Proses pembelajaran yang dilakukan oleh neural network memerlukan masukan data dengan panjang yang sama. Padding merupakan proses yang dilakukan untuk membuat input mempunyai panjang yang sama dengan cara menambahkan kata “<pad>”. Dataset pada penelitian ini memiliki panjang teks yang berbeda-beda. Oleh karena itu, perlu dilakukan padding agar vektor memiliki panjang yang sama sebelum diproses pada neural network (Giménez dkk., 2020)."
      ]
    },
    {
      "cell_type": "code",
      "metadata": {
        "colab": {
          "base_uri": "https://localhost:8080/"
        },
        "id": "PrGl28SVBju1",
        "outputId": "bc181981-f2cc-44a6-f932-06ca329ebf26"
      },
      "source": [
        "# kode program untuk membuat Indexing Kalimat\n",
        "# INDEXING KALIMAT  \n",
        "\n",
        "# pembuatan Kamus Kata\n",
        "from keras.preprocessing.text import Tokenizer\n",
        "\n",
        "t = Tokenizer()\n",
        "fit_text = ulasan_dasar\n",
        "t.fit_on_texts(fit_text)\n",
        "\n",
        "# Pembuatan id Masing-masing kata\n",
        "sequences = t.texts_to_sequences(ulasan_dasar)\n",
        "\n",
        "# Hapus duplikat kata yang muncul\n",
        "list_set_sequence = [list(dict.fromkeys(seq)) for seq in sequences]\n",
        "\n",
        "# Mencari max lenght sequence\n",
        "def FindMaxLength(lst):\n",
        "  maxList = max((x) for x in lst) \n",
        "  maxLength = max(len(x) for x in lst )\n",
        "  return maxList, maxLength\n",
        "\n",
        "# Driver Code\n",
        "max_seq, max_length_seq = FindMaxLength(list_set_sequence)\n",
        "jumlah_index = len(t.word_index) +1\n",
        "\n",
        "print('jumlah index : ',jumlah_index,'\\n') \n",
        "print('word_index : ',t.word_index,'\\n') \n",
        "print('index kalimat asli : ', sequences,'\\n') \n",
        "print('kalimat tanpa duplikat : ',list_set_sequence,'\\n') \n",
        "print('panjang max kalimat : ', max_length_seq,'kata','\\n') \n",
        "# print('kalimat terpanjang setelah dihapus duplikat : ', max_seq,'\\n') \n",
        "\n",
        "count_word = [len(i) for i in list_set_sequence] \n",
        "print('list panjang kalimat : ', count_word) \n",
        "max_len_word = max(count_word) \n",
        "print(max_len_word)"
      ],
      "execution_count": null,
      "outputs": [
        {
          "output_type": "stream",
          "name": "stdout",
          "text": [
            "jumlah index :  27 \n",
            "\n",
            "word_index :  {'terjun': 1, 'pantai': 2, 'pandang': 3, 'salah': 4, 'unjung': 5, 'beberapa': 6, 'recommended': 7, 'musim': 8, 'yeyy': 9, 'kereeeennnn': 10, 'inap': 11, 'kumpul': 12, 'lokasi': 13, 'monyet': 14, 'lihat': 15, 'sekali': 16, 'begitu': 17, 'letak': 18, 'buat': 19, 'terlalu': 20, 'tarik': 21, 'hindar': 22, 'yakin': 23, 'mungkin': 24, 'lukis': 25, 'sering': 26} \n",
            "\n",
            "index kalimat asli :  [[6], [4], [7], [1], [1], [8], [1], [1], [1], [9], [1], [10], [3], [11], [3], [1], [3], [12], [13], [1], [14], [2], [15], [4], [2], [2], [16], [2], [17], [18], [2], [19], [20], [21], [22], [23], [5], [5], [24], [25], [26]] \n",
            "\n",
            "kalimat tanpa duplikat :  [[6], [4], [7], [1], [1], [8], [1], [1], [1], [9], [1], [10], [3], [11], [3], [1], [3], [12], [13], [1], [14], [2], [15], [4], [2], [2], [16], [2], [17], [18], [2], [19], [20], [21], [22], [23], [5], [5], [24], [25], [26]] \n",
            "\n",
            "panjang max kalimat :  1 kata \n",
            "\n",
            "list panjang kalimat :  [1, 1, 1, 1, 1, 1, 1, 1, 1, 1, 1, 1, 1, 1, 1, 1, 1, 1, 1, 1, 1, 1, 1, 1, 1, 1, 1, 1, 1, 1, 1, 1, 1, 1, 1, 1, 1, 1, 1, 1, 1]\n",
            "1\n"
          ]
        }
      ]
    },
    {
      "cell_type": "code",
      "metadata": {
        "colab": {
          "base_uri": "https://localhost:8080/"
        },
        "id": "ch5RV6NcI-C2",
        "outputId": "0b2ba8b9-687f-4045-d4e1-c7e1f8bfc6a4"
      },
      "source": [
        "# kode program untuk melakukan padding\n",
        "# PADDING\n",
        "\n",
        "from keras.preprocessing.sequence import pad_sequences\n",
        "padding = pad_sequences([list(list_set_sequence[i]) for i in range(len(list_set_sequence))], maxlen= max_len_word, padding='pre')\n",
        "padding [:8]"
      ],
      "execution_count": null,
      "outputs": [
        {
          "output_type": "execute_result",
          "data": {
            "text/plain": [
              "array([[6],\n",
              "       [4],\n",
              "       [7],\n",
              "       [1],\n",
              "       [1],\n",
              "       [8],\n",
              "       [1],\n",
              "       [1]], dtype=int32)"
            ]
          },
          "metadata": {},
          "execution_count": 43
        }
      ]
    },
    {
      "cell_type": "markdown",
      "metadata": {
        "id": "ZcYBDe9RLWJQ"
      },
      "source": [
        "# Practical Assignments 02"
      ]
    },
    {
      "cell_type": "markdown",
      "metadata": {
        "id": "o6cBTbP5KqcW"
      },
      "source": [
        "1. Buatlah Table of content dari Google Colaboartory seperti gambar di bawah ini.\n",
        "\n",
        "![Modul 2 - Libraries Pythin dan Prapengolahan Teks.jpg](data:image/jpeg;base64,/9j/4AAQSkZJRgABAgEAYABgAAD/4gxYSUNDX1BST0ZJTEUAAQEAAAxITGlubwIQAABtbnRyUkdCIFhZWiAHzgACAAkABgAxAABhY3NwTVNGVAAAAABJRUMgc1JHQgAAAAAAAAAAAAAAAAAA9tYAAQAAAADTLUhQICAAAAAAAAAAAAAAAAAAAAAAAAAAAAAAAAAAAAAAAAAAAAAAAAAAAAAAAAAAAAAAABFjcHJ0AAABUAAAADNkZXNjAAABhAAAAGx3dHB0AAAB8AAAABRia3B0AAACBAAAABRyWFlaAAACGAAAABRnWFlaAAACLAAAABRiWFlaAAACQAAAABRkbW5kAAACVAAAAHBkbWRkAAACxAAAAIh2dWVkAAADTAAAAIZ2aWV3AAAD1AAAACRsdW1pAAAD+AAAABRtZWFzAAAEDAAAACR0ZWNoAAAEMAAAAAxyVFJDAAAEPAAACAxnVFJDAAAEPAAACAxiVFJDAAAEPAAACAx0ZXh0AAAAAENvcHlyaWdodCAoYykgMTk5OCBIZXdsZXR0LVBhY2thcmQgQ29tcGFueQAAZGVzYwAAAAAAAAASc1JHQiBJRUM2MTk2Ni0yLjEAAAAAAAAAAAAAABJzUkdCIElFQzYxOTY2LTIuMQAAAAAAAAAAAAAAAAAAAAAAAAAAAAAAAAAAAAAAAAAAAAAAAAAAAAAAAAAAAAAAAAAAWFlaIAAAAAAAAPNRAAEAAAABFsxYWVogAAAAAAAAAAAAAAAAAAAAAFhZWiAAAAAAAABvogAAOPUAAAOQWFlaIAAAAAAAAGKZAAC3hQAAGNpYWVogAAAAAAAAJKAAAA+EAAC2z2Rlc2MAAAAAAAAAFklFQyBodHRwOi8vd3d3LmllYy5jaAAAAAAAAAAAAAAAFklFQyBodHRwOi8vd3d3LmllYy5jaAAAAAAAAAAAAAAAAAAAAAAAAAAAAAAAAAAAAAAAAAAAAAAAAAAAAAAAAAAAAABkZXNjAAAAAAAAAC5JRUMgNjE5NjYtMi4xIERlZmF1bHQgUkdCIGNvbG91ciBzcGFjZSAtIHNSR0IAAAAAAAAAAAAAAC5JRUMgNjE5NjYtMi4xIERlZmF1bHQgUkdCIGNvbG91ciBzcGFjZSAtIHNSR0IAAAAAAAAAAAAAAAAAAAAAAAAAAAAAZGVzYwAAAAAAAAAsUmVmZXJlbmNlIFZpZXdpbmcgQ29uZGl0aW9uIGluIElFQzYxOTY2LTIuMQAAAAAAAAAAAAAALFJlZmVyZW5jZSBWaWV3aW5nIENvbmRpdGlvbiBpbiBJRUM2MTk2Ni0yLjEAAAAAAAAAAAAAAAAAAAAAAAAAAAAAAAAAAHZpZXcAAAAAABOk/gAUXy4AEM8UAAPtzAAEEwsAA1yeAAAAAVhZWiAAAAAAAEwJVgBQAAAAVx/nbWVhcwAAAAAAAAABAAAAAAAAAAAAAAAAAAAAAAAAAo8AAAACc2lnIAAAAABDUlQgY3VydgAAAAAAAAQAAAAABQAKAA8AFAAZAB4AIwAoAC0AMgA3ADsAQABFAEoATwBUAFkAXgBjAGgAbQByAHcAfACBAIYAiwCQAJUAmgCfAKQAqQCuALIAtwC8AMEAxgDLANAA1QDbAOAA5QDrAPAA9gD7AQEBBwENARMBGQEfASUBKwEyATgBPgFFAUwBUgFZAWABZwFuAXUBfAGDAYsBkgGaAaEBqQGxAbkBwQHJAdEB2QHhAekB8gH6AgMCDAIUAh0CJgIvAjgCQQJLAlQCXQJnAnECegKEAo4CmAKiAqwCtgLBAssC1QLgAusC9QMAAwsDFgMhAy0DOANDA08DWgNmA3IDfgOKA5YDogOuA7oDxwPTA+AD7AP5BAYEEwQgBC0EOwRIBFUEYwRxBH4EjASaBKgEtgTEBNME4QTwBP4FDQUcBSsFOgVJBVgFZwV3BYYFlgWmBbUFxQXVBeUF9gYGBhYGJwY3BkgGWQZqBnsGjAadBq8GwAbRBuMG9QcHBxkHKwc9B08HYQd0B4YHmQesB78H0gflB/gICwgfCDIIRghaCG4IggiWCKoIvgjSCOcI+wkQCSUJOglPCWQJeQmPCaQJugnPCeUJ+woRCicKPQpUCmoKgQqYCq4KxQrcCvMLCwsiCzkLUQtpC4ALmAuwC8gL4Qv5DBIMKgxDDFwMdQyODKcMwAzZDPMNDQ0mDUANWg10DY4NqQ3DDd4N+A4TDi4OSQ5kDn8Omw62DtIO7g8JDyUPQQ9eD3oPlg+zD88P7BAJECYQQxBhEH4QmxC5ENcQ9RETETERTxFtEYwRqhHJEegSBxImEkUSZBKEEqMSwxLjEwMTIxNDE2MTgxOkE8UT5RQGFCcUSRRqFIsUrRTOFPAVEhU0FVYVeBWbFb0V4BYDFiYWSRZsFo8WshbWFvoXHRdBF2UXiReuF9IX9xgbGEAYZRiKGK8Y1Rj6GSAZRRlrGZEZtxndGgQaKhpRGncanhrFGuwbFBs7G2MbihuyG9ocAhwqHFIcexyjHMwc9R0eHUcdcB2ZHcMd7B4WHkAeah6UHr4e6R8THz4faR+UH78f6iAVIEEgbCCYIMQg8CEcIUghdSGhIc4h+yInIlUigiKvIt0jCiM4I2YjlCPCI/AkHyRNJHwkqyTaJQklOCVoJZclxyX3JicmVyaHJrcm6CcYJ0kneierJ9woDSg/KHEooijUKQYpOClrKZ0p0CoCKjUqaCqbKs8rAis2K2krnSvRLAUsOSxuLKIs1y0MLUEtdi2rLeEuFi5MLoIuty7uLyQvWi+RL8cv/jA1MGwwpDDbMRIxSjGCMbox8jIqMmMymzLUMw0zRjN/M7gz8TQrNGU0njTYNRM1TTWHNcI1/TY3NnI2rjbpNyQ3YDecN9c4FDhQOIw4yDkFOUI5fzm8Ofk6Njp0OrI67zstO2s7qjvoPCc8ZTykPOM9Ij1hPaE94D4gPmA+oD7gPyE/YT+iP+JAI0BkQKZA50EpQWpBrEHuQjBCckK1QvdDOkN9Q8BEA0RHRIpEzkUSRVVFmkXeRiJGZ0arRvBHNUd7R8BIBUhLSJFI10kdSWNJqUnwSjdKfUrESwxLU0uaS+JMKkxyTLpNAk1KTZNN3E4lTm5Ot08AT0lPk0/dUCdQcVC7UQZRUFGbUeZSMVJ8UsdTE1NfU6pT9lRCVI9U21UoVXVVwlYPVlxWqVb3V0RXklfgWC9YfVjLWRpZaVm4WgdaVlqmWvVbRVuVW+VcNVyGXNZdJ114XcleGl5sXr1fD19hX7NgBWBXYKpg/GFPYaJh9WJJYpxi8GNDY5dj62RAZJRk6WU9ZZJl52Y9ZpJm6Gc9Z5Nn6Wg/aJZo7GlDaZpp8WpIap9q92tPa6dr/2xXbK9tCG1gbbluEm5rbsRvHm94b9FwK3CGcOBxOnGVcfByS3KmcwFzXXO4dBR0cHTMdSh1hXXhdj52m3b4d1Z3s3gReG54zHkqeYl553pGeqV7BHtje8J8IXyBfOF9QX2hfgF+Yn7CfyN/hH/lgEeAqIEKgWuBzYIwgpKC9INXg7qEHYSAhOOFR4Wrhg6GcobXhzuHn4gEiGmIzokziZmJ/opkisqLMIuWi/yMY4zKjTGNmI3/jmaOzo82j56QBpBukNaRP5GokhGSepLjk02TtpQglIqU9JVflcmWNJaflwqXdZfgmEyYuJkkmZCZ/JpomtWbQpuvnByciZz3nWSd0p5Anq6fHZ+Ln/qgaaDYoUehtqImopajBqN2o+akVqTHpTilqaYapoum/adup+CoUqjEqTepqaocqo+rAqt1q+msXKzQrUStuK4trqGvFq+LsACwdbDqsWCx1rJLssKzOLOutCW0nLUTtYq2AbZ5tvC3aLfguFm40blKucK6O7q1uy67p7whvJu9Fb2Pvgq+hL7/v3q/9cBwwOzBZ8Hjwl/C28NYw9TEUcTOxUvFyMZGxsPHQce/yD3IvMk6ybnKOMq3yzbLtsw1zLXNNc21zjbOts83z7jQOdC60TzRvtI/0sHTRNPG1EnUy9VO1dHWVdbY11zX4Nhk2OjZbNnx2nba+9uA3AXcit0Q3ZbeHN6i3ynfr+A24L3hROHM4lPi2+Nj4+vkc+T85YTmDeaW5x/nqegy6LzpRunQ6lvq5etw6/vshu0R7ZzuKO6070DvzPBY8OXxcvH/8ozzGfOn9DT0wvVQ9d72bfb794r4Gfio+Tj5x/pX+uf7d/wH/Jj9Kf26/kv+3P9t////7gAOQWRvYmUAZAAAAAAB/9sAQwAMCAgICAgMCAgMEAsLCwwPDg0NDhQSDg4TExIXFBIUFBobFxQUGx4eJxsUJCcnJyckMjU1NTI7Ozs7Ozs7Ozs7/9sAQwENCgoMCgwODAwOEQ4ODA0RFBQPDxEUEBEYERAUFBMUFRUUExQVFRUVFRUVGhoaGhoaHh4eHh4jIyMjJycnLCws/9sAQwINCgoMCgwODAwOEQ4ODA0RFBQPDxEUEBEYERAUFBMUFRUUExQVFRUVFRUVGhoaGhoaHh4eHh4jIyMjJycnLCws/8AAEQgBfQFVAwAiAAERAQIRAv/EAB8AAAEFAQEBAQEBAAAAAAAAAAABAgMEBQYHCAkKC//EALUQAAIBAwMCBAMFBQQEAAABfQECAwAEEQUSITFBBhNRYQcicRQygZGhCCNCscEVUtHwJDNicoIJChYXGBkaJSYnKCkqNDU2Nzg5OkNERUZHSElKU1RVVldYWVpjZGVmZ2hpanN0dXZ3eHl6g4SFhoeIiYqSk5SVlpeYmZqio6Slpqeoqaqys7S1tre4ubrCw8TFxsfIycrS09TV1tfY2drh4uPk5ebn6Onq8fLz9PX29/j5+v/EAB8BAAMBAQEBAQEBAQEAAAAAAAABAgMEBQYHCAkKC//EALURAAIBAgQEAwQHBQQEAAECdwABAgMRBAUhMQYSQVEHYXETIjKBCBRCkaGxwQkjM1LwFWJy0QoWJDThJfEXGBkaJicoKSo1Njc4OTpDREVGR0hJSlNUVVZXWFlaY2RlZmdoaWpzdHV2d3h5eoKDhIWGh4iJipKTlJWWl5iZmqKjpKWmp6ipqrKztLW2t7i5usLDxMXGx8jJytLT1NXW19jZ2uLj5OXm5+jp6vLz9PX29/j5+v/aAAwDAAABEQIRAD8A7e8/5G+x/wCvVv5T1vVg3n/I32P/AF6t/KetWXUrGBpEmmVDDs8wHPy7+V/OubDyjF4hyaS+sS3dvsRf5I6cRGUlQUU2/q8dlf7cl+bLNFUP7d0j/n6j/M/4VeVg6hlOQwBB9jW8akJ35JRlb+Vp/kYSpzh8UZRv/MmvzFoorO1XxBpWibf7SleIOpcFYpplAXqSY43A/GqJNGiqWmaxYawjyWDu6xkBi8UsHUZGBIiE/hU097bW00FvM+2S6dkhXDHcyqXIyAQOAetAE9FQ3l5b2FtJeXb+XDEMu+GbAyB0UE9T6VKDkZHegBaKKKACis+31mC71KfTbeGZ/s2VluNgFssgAJj3FslsN2GPetCgAooooAKKZNNDbxPPcOsUUalnkchEUDqSTgAU5WV1DKQysAQRyCD0NAC0UUyaaG3iee4dYoo1LPI5CIoHUknAAoAfRSKyuoZSGVgCCOQQehpaACiiigAooooAKKKKACiiigAooooAKKKKACiiigAooooAKKw9Q+0aDcSavCzTWMzBr23ZsshOFEseT9AV/wAg0/7Rr1xHq8zNDYwsWsrdWwzkZUyyYP1AX/JANymTf6mT/cb+Rp9Mm/1Mn+438jQA+iiigDBvP+Rvsf8Ar1b+U9akovxJKbcW/Ij8svvD8Z3bsdf9nFZd5/yN9j/16t/KetWbTrKdpGmhVzNs8zOedmdvftmuSipN1+Xf6zLry/Yit7M6qzilQ5tvq8enN9uT2uiH/ie/9On/AJFq8u7aN+N2BnHTPfFUf7C0j/n1j/I/41eVQihVGAoAA9hW9KM435//AEtz/OMbGNWUJW5f/SFH8pSuLWR4v/5FfVf+vGf/ANBNa9MmhhuInguEWWKRSrxuA6MD1BByCK0MznNaui02n6XG8iSS2rzkfa202AqgQHMkcckhYZ4UcetYf9pNe2ukSXuoGBI9ZvLYXodXby1R1X94yKCSDgOV9+td1dafYXqLFeW0NwkZBRZY0kVSOhAYECmnS9NZBG1pAUDu4UxoV3OMO2NvUg4J70AcbqE7RWut6Xa30mpWMVlBL5k0n2h4pWkwYvM6nKjOCeKm1K/v7jVr+3luorSOyWL7Osl/LppCMgYzbUgkEg3Ej5iRxjHr1semabDbNZRWkEds/wB6BY0WI9+VAwenpRc6dp940b3lrDcNEcxtLGkhT/dLA4/CgCgbzU4fCrXwMd1fpYNKrQ5aORwpIZQVQkHrjArEhuEtpNLuNO1qfUri/njjnt3mWZHjcEyuqAfutnXjGOhrs/aq0Gm6dazPc21rDDNL/rJY40SRvqQAT+NAGF4S0xLS81aVbi5lKahNDtmmeVCAsbbyCcF/9rrimalKl5r11Y6lqk2lwW1vFJbJDMLTzNwYvKW6tgjGM4HeuljghhLmGNYzK5eQooXcxwCxwOTx1qO70+wvwovraG5CHKCaNJQp9RuBxQBzMt2t7dWFhc6xLFYyWBmjvInFm93KG2kbwBjC84GM5zVQXeo3kdtYW+oztbjXfssOoRsPNmgELOwLAbXw2V3Y6jPWuyubGyvIRb3lvFcRDGI5UWRBjpwwIpRZ2gWJBBGFtyGhXYuIyAQCox8pwSOKAOM1i1ni0/xFo7Xl3cQW1jFdwmWVnmBdZd0ZbqyEp90064uJbaLSNMsr3fZ3MEkjzz3stuXlUJiH7QiSsMBiQox9eMV2f2e38x5fKTzJVCSPtG51GcKxxkgZPBqD+ytL+y/YPsdv9lyW+z+VH5OSck7du3OfagDkvN1a4t7K0XUxsl1ryEns7h7l1i8p2eJpGij3kEHBIPbuKTWLWeLT/EWjteXdxBbWMV3CZZWeYF1l3RlurISn3TXZLZWaJFGsESpbtuhUIoWM4Iyox8pwT0p/2e38x5fKTzJVCSPtG51GcKxxkgZPBoA5O5CQ6VpVvZ6ozRSFmdZL14JZvkB2LcAORtJ4XIz0zW34avIr3SkkhlmmEckkRe5ZJZdyMVI3p8rgdm5z35q0dJ0o2v2E2VubXcW8jyo/JyeSdu3bn8KsRQxQRrDAixRoMKiAKoHoAMAUAPooooAKKKKACiiigAooooAKKKKACiiigAooooAKKKKAMmXTLnU9RMuqbRZWzg21sp3LIwH+tk6Z68L/AJJFplzpmoiXS9psrlybm2Y7VjYj/Wx9cdOV/wAjWooAKZN/qZP9xv5Gn0yb/Uyf7jfyNAD6Kq/6X/f/AEX/AAooAy7z/kb7H/r1b+U9b1FFZ0qXs3Ud7+0qOW1rXSVvPY0q1faKmrW9nTUd73s27+W4UUUVoZhRRRQAUUUUAFFFFABRRRQAUUUUAFFFFABRRRQAUUUUAFFFFABRRRQAUUUUAFFFFABRRRQAUUUUAFFFFABRRRQAUUUUAFFFFABTJv8AUyf7jfyNPpk3+pk/3G/kaAHYopaKACiisu8v7+S//s3SY4jJHGstxNPvMSBshVAXBLHBPXtQBqUVn2F/cSXEun6giR3UKLIDESY5I2JUOoPI5XBGTj1rQoAKKKKACiism41C5TVF2EfYoXjguOAT5k3KnPX5flB/3qANaisj+0nh1W6tEBnmkkgEMJYqqrsBkcnDbVHU8cmpY9WklvpLWOBWSKbypD5o89eM+YY9v3Pfdn2oA0qKxrfxLbXFzHCnlFJndI9kyvcZUMctEBlQdpxye2QKsaZqsmokN5KrE6FldJRKVIP3JBtXY3PTmgDRorKkN9c6pc20N29ukEEDoqpC6FnMmd26NmI+UdGFJa6xc3P2SNLdXluI5Wlbf5aJ5TiNyPlYnk8f5NAGtRWRZ6yBEpuFYI0NzMJHYMx8lyGThEHTBH+TUVx4mjt+JUijeOGOWeOSdY5BvG7ZGCvzsB9KANyimowdQ69GAI+h5p1ABRRRQAUUUUAFFFFABRRRQAUUUUAFFFFABRRRQAUUUUAFFFFABRRRQAUUUUAFMm/1Mn+438jT6ZN/qZP9xv5GgB9FFFABWbd2V9HeNqWltF5kkSxTQTbgkmwkowZclWG4joQQa0qKAOcWW+0fUzqWubHjvESAzwlvJttpO1CGGdpLZ3Hv6V0QIIyOQehpGRXUo4DKeoIyDTqACiiigArKPh6xkt5VuI45bqYyMbsxr5oZySpBOSNuRjntWrRQBmPozO8lwZwLlmgdJgmNrxLsPG7kNzkZ6Gll0mae6jmmuFeOKcTIDEPPUj+ASbuEz225xxmtKigDPtNOurTEEd1/oiFykfljzQGzhS5YggE8fKD70lrpUsN6t7cTrK6RNEGSIRO4Yg5kYM24/LxgAe1aNFAGdNp96b2a7tLpIftEUcbhojI42bsFT5qgH5u6mpLfS4rWW3eFjst7eSEKwyzb2RixORzleeO9XaKAMl9BjksYLN5T+5naXeFxuV2YvHjd0IbHWp5dPuRdS3NlciD7QqCZWj83lBgMnzKFbHHII9qv0UAIOB6+9LRRQAUUUUAFFFFABRRRQAUUUUAFFFFABRRRQAUUUUAFFFFABRRRQAUUUUAFFFFABTJv9TJ/uN/I0+mTf6mT/cb+RoAfRRRQAUUUUAFFFFABRRRQAVBJe2cUy20s8STPjbEzqshz0wCcmp659Psf9l6p9t2eb5115+7G/OT5Xv8Ad27f0oA6CiueAkmeVL26mgeDTLaXCStEFfEm9yARnkDOePWoPtOq35kJkWGSG0t5FZ7iS0VC6bmkKLE6uN3B3HHGKAOoorAlkkj/ALSu57ifMTxRRrFJtjUvHFkqG+UZZupHHUVEk14v9oWPnrAUFqU3XMlxtMhIZPNdA6lgMdDjORQB0Mk0UO3zWCb3CLk4yx6Ae9R3N7Z2YU3c8UAfO3zXWPOOuNxGaxVuJY/Lt1eeN49Ut45I5JTNtDqSVEm4synrhjmreprcNq+ni1dI5PLuvmkQyrjCZ4Dxn9aALo1KwZPMS4jkTZJIGjYSArH98jbnOM84qeKRJo0ljOUkUMp5GQRkHmsbU3ukmEM0u7dpl60gjDRxMw2YO0u/QH1NUkk1C4VooZFhFrZWrRM9zJaqm6MMZCqxOrjPB3HHGKAOoopithFMjDJABIPBJ9KyLciZ5Lue8khmjv2hVN7CIKrbVi8vO07l5zjPOc0AbVFc/atKbpEnuJW+2NcJHPDMZIZOGIGwkeUygcFR1HJqfR7m5vLj987f6FALeYZOGn3EOxHcgICPrQBs0UUUAFFFFABRRRQAUUUUAFFFFABRRRQAUUUUAFFFFABRRRQAUUUUAFMm/wBTJ/uN/I0+mTf6mT/cb+RoAfRRRQAUUVn3WqFL2PTbKP7RcsVaYZwkMWeWY4PJH3R3oA0KKo6lqLaaYppYS9oSVnmU5aLONrFccr6ntVxHWRQ6EMrAFWByCDyCDQA6iiigAqCSys5ZluZYInmTG2VkVpBjpgkZFT0UAUn0q1nvZLy5SOfekSqkiK+wxlzuBOeTu9Knms7S4dJLiCOV4+UZ0V2X6Eg4qaigCMwQESAxoRN/rAVGH42/NxzwMc1HHYWMSNFFbQojrtdVRFVl54IAwRyasUUAQR2VnDGsUUESIj71RUVVVh/EABgH3qUxRs6ysil0BCsQCy564PUZxTqKAI3ghkbdJGrtsZMsoJ2t95eR0OORTJLGylMZlt4nMIAiLIrbMdNuRx07VPRQAySKOUASorhWDAMAwDLyCM9x2phtLQ3AuzDGZwMCbYvmY9N2M1NRQBClnZxTNcxQRpM/35VRVkbPqQMmpEjjjLGNVUu25yoA3NwMnHU8U6igAooooAKKKKACiiigAooooAKKKKACiiigAooooAKKKKACiiigAooooAKZN/qZP9xv5Gn0yb/Uyf7jfyNAD6KKKACqFzpe++j1Kzk+z3ClVmIG5Jou6OMjkfwntV+igCjqWnPqTRQSSlLMEtcQrkNLjG1S2eF65HeriIsahEAVVACqBgADgACnUUAFFFFABWa2txqJpDa3H2e3leOW4AiMalDhjgSl8D/drSrEtNKluY7uO5nuIoZby4LW4EaI6FvUxeZgj0agDUN7ZrMlu08SzSAFIy6iRgehAzk0fbrLzhb/AGiLzmJUR713kjqMZzkVg6pFdNJcRRxzoftFu0UdvApikRDGfMeTy2ORgjAYEY6VPLZy/ZZysDeY2sJKCEO4qJU+fpnG3v6UAaN3qtrbSJArxyTtNFG0IdRIokYLuI5PGfSpxeWhuDaCeMzgZMO9fMx1+7nNYflyIkdk9tK1wuqiZpREzRlTLvEm/G37pAPOR9KY8d497CDHOjJqnmNFHAq2yplh5nmCPLEg8nf35AoA30vLSWZraOeN5o/vxK6tIv1AORSG7jF4LHDeY0JmB427QwXHXOcn0rIsI5Ir6GGOGUxJJOzLcQ7TBu3ElJgFVwxPTk4PXirN1L9m1qO5kjmaI2Tx74opZwGLqcHy0fHAoAsXupLZiY7A5hSJj86DPmPs6ZLDHXJGDUqX9jJG00dzC8aMFZ1dCgY8AEg4B5rG1KOW6a+miglkjmtLMIpjdWfbKxZdrKpzjqDSXkLX0000FrIsDCyiZXiaMuUmDN8jKCQqnk4xQBtHUdPHlg3UI8//AFX7xPn7fLzzz6Ust9YwuYpriKNx1R3RW9ehIPQ1h67HdO17FHHMokt0WEW0CSCbAOQ7mN8YPQZU+mTVyKwFzNqK3EZAuYoIxIy4JHlYOCR2J/OgDUEsZkMQdTIqhimRuAOQDjrjin1k+HhPLBJf3Q/fTMI/UbYB5fHsWDH8a1qACiiigAooooAKKKKACiiigAooooAKKKKACiiigAooooAKKKKACiiigApk3+pk/wBxv5Gn0yb/AFMn+438jQA+iiigAooooAKKKKACiiigAooooAKKKKACiiigAooooAKKKKACmTRJPE0MmdrjB2syN+BUgj8DT6KAGQwx28SQQqEjjUKqjoAOlPoooAKKKKACiiigAooooAKKKKACiiigAooooAKKKKACiiigAooooAKKKKACmTf6mT/cb+Rp9Mm/1Mn+438jQA+iiigAprSRocOyqfQkCnVycfhyw13U9TuL5pd8d55a7GAG0ImBypoA6yishtCEMB8u/vgI0O0edx8o4H3fap9BuZrvRrS4uG3yPCpZj1JHGf0oA0KKKKACsM3179qeOW6+y3H2grDazIqW0kYbAxJsLMxXnhuvatysyfSbqdGtXu91o8m9kdN84G7ftEhfAGenykgd6AHpqVxLKxhtfMtknMDSh/3m4HazBNnKhup3Z9qzxrHkzwzyvIUP26MRFgzSOsqJGoAVAT2Xjj171ox6dcQTMILnZbPOZ2i2Zkyx3MofdgKTyRtz71CugQkgTv5iD7Xkbdp/0hxJkHccFcdaAINU1LULdZvKXyrhNNM5UyBokO7BI/cksw/AH9amvtSQaXcRNPFHfizkcxRygyqdhbI4RvfOBTpNGecP9puPMaSwazZgm0nLFhJ948+oqzLZy3GmyWE0ql5IGiaVUKr8wK52l2/LdQBn3HiOCzPlMYmMEUTTeZMsUx3KGxGhBLnBz1FTXmupZXAjkWIRlo1G6ZFuGEhA3JFgkgZ5yQfapBplzDM8lndCETLGJlaMSHKKE3od4Ckgdww9qiutEmnacR3QjiuZo5pFMQeTcmzjdvX5fkHGM+9ACy6zcRpeTC1DRWkvlA+YA8jZQcDZwPn7mrNnfTTXM1pcwiGWFY5PkfzVKPuAOdqYOVORj8aZJpW+2urfzcfabnz9237vKHbjdz9zrU0dnsv5b7fnzYY4tmOmwuc5z33elAFmiiigAooooAKKKKACiiigAooooAKKKKACiiigAooooAKKKKACiiigAooooAKKKKACmTf6mT/cb+Rp9Mm/1Mn+438jQA+iiigArI/svVLa7up9PuoY47uUTMksLOQ20KcESr/d9K16KAMp7XxE6lDe2uGBB/cP3/7bVc02yXTrCCxVzIIIwm8jGSOpxzjntVmigAooooAKKKjWeB1dkkRljJWQhgQpXqDzwR3oAkoqNLiCQhY5EYlBIArAkoejcHp71W/trR9237fbZzjHnR5z6feoAu0VEbm2EbzGVBHGSrvuXapHBBOcA1IDnkUALRRRQAUUUUAFFFFABRRRQAUUUUAFFFFABRRRQAUUUUAFFFFABRRRQAUUUUAFFFFABRRRQAUUUUAFMm/1Mn+438jT6ZN/qZP9xv5GgB9FFFABRRRQAUUUUAFFFFABXKjfp8eoaimTBNc3cN0oydvJEcoHsThvY+1dVUYggCPGI0CSFi67RtYt94kY5z3oAx9G/wCP23/7A1t/6Eatf8zF/wBw7/2rVibTNNuNvn2kEvlqETfGjbVHRRlTge1TR29vEVMUSIUQRqVUKQg5CjA4HtQBztsGW4ea9wdPTU7gbR0WUuNkknqoPA9Dgn26ao/s9uY3iMSeXKWMibRtYt94kYwc9808AKAqgAAYAHAAoAWiiigAooooAKKKKACiiigAooooAKKKKACiiigAooooAKKKKACiiigAooooAKKKKACiiigAooooAKZN/qZP9xv5Gn0yb/Uyf7jfyNAD6KKKACiiigAooooAKKKKACiis+XWYImlIhmkht22z3CKpiQj72cuGOO+1TigDQoqBr2zSVIHniWWUAxxl1DsD0wCcmla8tEnW1eeNZ2GViLqJCPZc5NAE1FQ/a7X7R9k86Pz8Z8nevmY6525zUV3qAtZ4rZIJbiWZXZVi8oYCbdxJkkjH8QoAt0VWN/BDCs18RZbztC3DxKc+mVdl/I0hvVF+tltBVrZp/MzxgMFxjHvnOaALVFZx1q1aWRLdo7hI7Z5zJHLHtyrBdhJIUdepNWTf2SusUlxEkrkKI2dA5YgHbjPJwRQBYoqCa/sbeTyp7iKKQru2O6I2PXBIOKnoAKKKKACiiigAooooAKKKKACiiigAooooAKKKKACiiigAooooAKKKKACiiigApk3+pk/3G/kafTJv9TJ/uN/I0APooooAKKKKACiiigAooooAKxreabToriya1lnmNxM8IVGMMglYuuXClV+9g7jWzRQBzOrx3jtdRrFMjM8DRx20CvFIF2Eu8nlscgggAMDwOKsXUciX8nkQyuZrqF3ikh8y3fbsHmrKoGwgDozdR05reooA520spBciC7N55iX7zqqRxfZzliyyeb5OcbTgjfntir2oWZu9Wsy4lESQXO54nlhwSY9oLRspGcHjPNalFAGTPGtjqCTyRTXFv8AZDChVZLp1bduYH77fMMcn05rO/s3UPs4gETBzpc6Bf4RulDrDu6Z28YzXT0UAc5eq159qe0tJkB0l4RuheIl9wIQAqCSB/8AWp9zZytZ6qVgYyyvB5eEJdtscWMcZOCD0710FFAHM6oPs9rqkVxBI8lxKkscojZ4yuIwuXxtUqQeCQfSulHQfSq0umWU0/2iSMl9ysRvcRsy42syBgjEY4JFWqACiiigAooooAKKKKACiiigAooooAKKKKACiiigAooooAKKKKACiiigAooooAKZN/qZP9xv5Gn0yb/Uyf7jfyNAD6KKKACiiigAooooAKKKKACiisdo77+1lshqFwImtmm+7a7gQ4UDP2fpg0AbFFZi6xISs5t/9Ce48hZ9/wC83bvLDFNuNpbjO7PtUGn6vhJImzN5D3UlzKzHEUaySbB0JJIXhfT8KANqisOLxPDIkjBInK2slzGsM6zNhACVkAX5G5HqPepLnV7hIbhLiAwOtk1zEY5QzFRwQSY8KwJHZhQBsUVmXWo31tJBHHbxTC4dEjzMyzHIyzFRAVAAySd3+FNk1wRX62UiRL5k3kovno1xkg7WMYU4U467s+1AGrRWFb6lfsgN4ACdW+zKYnB+XLDacwjKjH1PtVpdYkJWc2+LJ7jyFn3/ALzdu8sMU2/dLcZ3Z9qANOisqLWZ3eJpLYJby3b2ok8zc+9WdQduwfKSvrn2rVoAKKKKACiiigAooooAKKKKACiiigAooooAKKKKACiiigAooooAKKKKACiiigApk3+pk/3G/kafTJv9TJ/uN/I0APooooAKKKKACiiigAooooAKrGzzqK3+/wC7btDsx6sG3Zz7dMVZooAzBo8gKwG4zZJceesGz95u3eYFL7vuhucbc+9IuhxqAFkwWa4ExC4EkU7MxQ/N1Bbhv8a1KKAM0aZeNZyWM94Hia3aCPEQVgCNoZzvO4gem2i90f7YXPnbN9i9p93djcQd/wB4enT9a0qKAM06bfLfG9iuYv8AVJEiywvIUUfeCkToPmPJ4qMaJMJEAuQII737WI/KG8sSWIZ9/I5OOPzrWooAzP7Hfef348oX63qrs+YHkspO/kEng4496Bo8gKwG4zZJceesGz95u3eYFL7vuhucbc+9adFAGcNJxBDD5v8Aqb03WdvXLu+z73H38ZrRoooAKKKKACiiigAooooAKKKKACiiigAooooAKKKKACiiigAooooAKKKKACiiigApk3+pk/3G/kafTJv9TJ/uN/I0APooooAKKKKACiiigAooooAKgN7ZC4+yG4iE56Ql18z1+7nNT1zsvlW9vPKpivLBrxmlRt8N2kpkGQD/ABEN0HBx3NAHQJJHIWWN1Yo21wpBKnAODjocGnVzar9kGoeTLJF5mqQwySGSRykbiLLDczYPzY3dfyFOu5ZLZ7mzhuZRAk1j+8aVmeMyyYkTexLY2gHBPegDoqK56eaSwnuGjuJXtrGa1mcPI8pCybklQsxJIAIbBPFNs7nUGuIrOaR2lLNfkZb/AFTISsX0EjYx7UAdHRXP2s0qLpt0lzJLNfbhcIzsyEeWzsQhOE2sAPlA96bbCU2WlpLcz7b5gbiUyuHJEbMqBsgqCR2wTigDeinin8zym3eVIY34IwwwSOQPWoodS065k8m3uoJZOfkjkR3468Ak1U0RUWK9VHMirfTAMzb2OAg5PesuxNzLa6RbzxxxQGcPHcB2eTdGWZUwY1CluR940AdRRXOWcmpXEq3jSpH/AKZLHIGuZOVUsvlCHytgbABBDZ75pLaKV10ktdXJ+2xuLj99J82E3jHzfKcjquDQB0lFc9ayzXDW9hPPKITc30ZcSOkr+S+I0LghumT1ycUg1C4s4Vv3lea3t7i6tcklt6f8smPYkOu3PvQB0VRJcQyTyW6NmSEIXXB4D5K84x2rn71rqGAwmaRp7WwE0rvcvbIrtuO4bVYyHIxhvlxgVd0eV5r+5mk+9Ja2Lt25ZGJ/nQBsUUUUAFFFFABRRRQAUUUUAFFFFABRRRQAUUUUAFFFFABRRRQAUyb/AFMn+438jT6ZN/qZP9xv5GgB9FFFABRRRQAUUUUAFFFFABUDWNk1wLpreIzjpKUUyDH+1jNT0UARG0tWeSRoYy8y7JGKqWdf7rHHI9jVefSrWS1W0gSO3iWaOUoiKEOxg5G0bRzjFXaKAIY7Kziga2igiSFs7olRVjOeuVAwaeIohJ5oRQ4XZvwN23OdueuM9qfRQBDHZ2kUrzxQRpLJ9+RUVXb6kDJpXtLWSD7LJDG0AAAiZVMeB0G0jFS0UARwwQW6eXBGkSE52ooRc9M4AHpSfZrbylh8pPLQgqm1dgIOQQMYGDzUtFAEP2Oz+0G68iPzyMGXYvmY6Y3Yz0pwt7dfLCxIPJ4iwoGzIx8vHHHpUlFAEL2VnLEYJIIniZi7RsishYnJYgjGc96d9ngMQgMaeUu3Ee0bBtORgYxwRxUlFAEM9naXLK9zBHMyZ2tIiuVz1wSDinRwQREmKNEJVVJVQpIXhRwOgHSpKKACiiigAooooAKKKKACiiigAooooAKKKKACiiigAooooAKKKKACmTf6mT/cb+Rp9Mm/1Mn+438jQA+iiigAooooAKKKKACiiigArPbWoFZm8qY28cvlPdAJ5IYHaf49+A3BO3FaFc/N58UrvYw3VtetPkwqHlspQW5dmK+WuV5JBBz60AakOpwPHcTXBS3jtrl4C8jgKduPmydoGc9Kla/sUiWd7iJYnBZHLoEYDqQc4I5rFaO6iWRvKkRTq08jSpD58yIV+V41KP1PGQp4pNLtJ/tFq08MpWO6v3DTIFYB9pRiAqqCcnGAKANt76yihW4kuIkhkxskZ1VGz0wScGnC5tjCbgSoYVzmQMuwbTg85xwRzWFaQy2c0FzcW8rQxyX6BVjeRkMku5G2qCcFQRkCreiQpcaG1uybEle6TYRjCtJIMYHsaANNriBC4aRFMaeY4LAbVOfmPPA4PNNe9s45EhkniWSUAxozqGcHptBOT+Fc2tjqUsUc8sLiW8YWVypBysK7F3njgfu2P/Aqt3kLqup2htpJZb1l+zOqM6EbFRAXA2psYE8keooA2ftlp5rQefH5qglo967wAASSM5GARUNtqdveXb29s6TIkKyebG6upLMy7eMjjb61myWFw1pqiiItLLPGc4w0qIkO5QTjIOGFWbFhPq01zFBLDEbSFA0kTQ5ZWfIwwU8AigCzb6rY3NzcWsUqmS1x5nzIRjGSRhicDoc9DU9vdW12hktZo51BwWjZXAPpkE1jXtvcPNqcKxO/nNbTKArbJI49gkQNjbkgEYJq3ZZn1SW9hieGD7MkR8yNoWdwxI+Vgp+UHGcd+KALr3lpHOLV541nYZWIuokI9Quc1Ba6zp12k8sU6BLaQpIxdNox0bIYjaexNZ11HKl/IIIZXM11C7xSQ+Zbvt2DzVlUDYQB0Zuo6c011uYoruIQyZ/tPzi4hMxWJyCJIwVKswx2yR6UAbIvrIwrcC4iMLHCyB18snngHOO1H2+xNv8Aa/tEX2fp529PK9PvZx1rCtrWeUt5kc8iNrEUoNxGEZkEYzIVVEAGR6D35qR7eaHUJLp4JHt4tSMpVEZyQ0CoJFUAlsN1wDQBp2+q2ssM1zJJHFDDO0QlZ18tgApDbjgc7qma/sUjSZ7iJY5BlHLoFYccg5wetYgWdYmlSCWCN9UlkLrB5lxGhTh0Qo/U8Z2nGaNLtJzcWrTwylY7q/cNPGFYB9pRiAoUE5OMAUAat3qtrbSJAskck7TRRtCHUSKJGC7iOT3z0q0ZYlcRM6hypYKSA20YBOOuBmsDy5ESOye2la4XVRM0oiZoypl3iTfjb90gHnI+lXdeguXWCazRnl3PbttySI512M30BAP4UAaK3Nu+zZKjeapaPDKdyjGSOeRz1FMjv7GaN5YriJ0i/wBY6ujKn+8QcD8awhpd35d9aRxsEtrd4LMn5Q6yt5rKCfYBadfRvfLPLZ20saJpksDK0TxM7MVKRhSAW24PIGOeKANltR09I1la5hCOxRWMiBWYcFQc4J9qWxuvttnFd7dnmoG253Yz74FUJ4xaahHO9u8kBsjBGIozLsbdkqVUHAYY56cc1Z0SN4tJtY5EMbLCoKMNrL7EdqAL1FFFABRRRQAUUUUAFFFFABRRRQAUyb/Uyf7jfyNPpk3+pk/3G/kaAH0UUUAFFFFABRRRQAUUUUAFFFFABRRRQBBdWVvebfPDZTO1kd4nGeCNyMpwe4zT4YYreJIIFCRxjaqjoBUlFABRRRQAUUUUAFFFFABRRRQAUUUUAFFFFABRRRQAUUUUAFFFFABRRRQAUUUUAFFFFABRRRQAUUUUAFMm/wBTJ/uN/I0+mTf6mT/cb+RoAfRRRQAUUUUAFFFFABRRRQAVhm+vftTxy3X2W4+0FYbWZFS2kjDYGJNhZmK88N17VuVmT6TdTo1q93utHk3sjpvnA3b9okL4Az0+UkDvQBXj1m5tk1CfURGI7e6WGILIMAsEwpJjjAGWyWJ9fSnR+IfNUpDFFPMLiKHEM4lhPmhirBwg6beRtzU0ujmQ3QE+1LiaO4TC/PHKmzDZLYI+QcY/GpDYXc3lNd3KyNFcJMNkflphAw2gF3POeSWP0oArHXLqNZnms1VLSZYrkibdjdtwUHljcMMCc7aWfW7mHzpBaB4ILoWzMJQJCxKqCFKYxlhnLCpZ9H86G+i87b9tmSXO3OzaIxj73P3Pall0nzIJ4PNx594tznbnG1kbb97n7nWgCGfVZgksM8RgnhuLVWEMgdSszgAhmiHvkbfx7046zMrszWwFvHefZGl8z58lggYLs5GSM8j8afc6P9onmm87b50lq+NucfZ23Y+8M5/SlfSd8EkHm48y9F1nb0w6ybPvf7OM0ARNrU4ImjtQ1q12tqspk2uSX8sts2H5c5x82T6Ctaudltbo3CWFv5ohXUFuNjwMFVQ/msfO3FCpOcADd610VABRRRQAUUUUAFFFFABRRRQAUUUUAFFFFABRRRQAUUUUAFFFFABRRRQAUUUUAFFFFABTJv8AUyf7jfyNPpk3+pk/3G/kaAH0UUUAFFFFABRRRQAUUVC1xtuUt9ud653Z6de2PaonUhT5XN25pxitG/ek7Jad2NRcr26Jv5Imooqkut6M9z9jW/tWuN5TyRNEZdw4K7d2c+2KsRdooqtf6haaZb/ar6Tyot6R7sM/zSMEUYUE8k0AWaKr32oWmmwrPeyeVG0scQbDN88hCoMKCeSaLW+tb1p0tn3m2mMMwwy7XABK8gZ4PUcUAWKKKKACiiigAooooAKKKKACiiigAooooAKKKKACiiigAooooAKKKKACiiigAooooAKKKKACiiigApk3+pk/3G/kafTJv9TJ/uN/I0APooooAKKKKACiiigAqnJ/yEov+uZ/9nq5VZ4ZDfRzAfIqEE5HX5vx71zYyMpRpcqbtiaLdleyU0235LqXTaTld29yX5FmvObXS9Q1m21nTrTT7Z1m1e5A1CaQLJCwZTlVETMSO2GFejVFBbW1sHFtEkIkcyP5aqm526scAZJ7mukg4TXtXubW+neyvJxJp1zZwOJboRIxbZuVLdYiJAQeWds+nSoNduGvI9QmvNQlW4h1u3t4tP8AMCw+UskRU+WepI+bcOfwrvZ9K0u5lM9zZwTSsoVpJIo3cgHIBJUnAIom0rTLiY3FxZwSykKDI8UbuQpyoyVJ4IyKAOC1e4a8FxcXmoS/aY/EMFulgZAIhEkqbMRHnOPm3CrU93qNxfC1F9cwrJ4pkti0crBhF5JbyxnI257YxXZy6Vpk8xuJ7OCSZtuZHijZzsIK5JUngjI9Kd/Z2n7xJ9lh3ibzw3lpu80jb5mcfexxnrQBw5vr5Amj3Go3EVmNfms5L1pStyIlj8xEMp5GW4z17VveDLiSe11APdSXqQ6ncRQzSyecxjUKFAbpj6Vf1TRI760ktrQw2rSzCaUtbw3EUrdD5iMAG+uQeOtLoOix6HZtbJIZnlmeeaTasYZ3xnaq8KOOAKANKiiigAooooAKKKKACiiigAooooAKKKKACiiigAooooAKKKKACiiigAooooAKKKKACiiigApk3+pk/wBxv5Gn0yb/AFMn+438jQA+iiigAooooAKKKKACiiigAooooAKKKKACiiigAooooAKKKKACiiigAooooAKKKKACiiigAooooAKKKKACiiigAooooAKKKKACiiigAooooAKKKKACmTf6mT/cb+Rp9Mm/1Mn+438jQA+iiigD/9k=)\n",
        "\n",
        "2. Lakukan seluruh praktikum yang terdapat pada modul ini.\n",
        "3. Sesuaikan kode program masing-masing dengan Table of content pada Google Colaboartory."
      ]
    }
  ]
}